{
 "cells": [
  {
   "cell_type": "markdown",
   "metadata": {},
   "source": [
    "# Lecture 3\n",
    "Thus far we have gone over nearly all of the major building blocks, with the major exception of what we call Control Flow statements. This isn't quite true as we had a look at `for` and `while` loops, but we will put those in context a bit today.\n",
    "\n",
    "The basic idea is that Control Flow statements tell the program which blocks of code to move between depending on the state of the program (or variables within that program more accurately). \n",
    "\n",
    "## If statements\n",
    "As you might expect, `if` statements only run a block of nested code if a statement evaluates as true. In Python we work with `if`, `elif`, and `else` statements to control conditional flow through execution. For instance let's illustrate this with a while loop."
   ]
  },
  {
   "cell_type": "code",
   "execution_count": null,
   "metadata": {
    "collapsed": true
   },
   "outputs": [],
   "source": [
    "#simple if statement\n",
    "aBool = True\n",
    "if aBool:\n",
    "    print(aBool)\n",
    "\n",
    "#a second example\n",
    "aBool = False\n",
    "if aBool:\n",
    "    print(\"it was true\")\n",
    "else:\n",
    "    print(\"if was false\")"
   ]
  },
  {
   "cell_type": "markdown",
   "metadata": {},
   "source": [
    "Note there is no need for any `elif` or `else` clauses. \n",
    "\n",
    "Here is a more complex `if` `else` construction, this time nested within a `while` loop. "
   ]
  },
  {
   "cell_type": "code",
   "execution_count": null,
   "metadata": {
    "collapsed": true
   },
   "outputs": [],
   "source": [
    "x = 0\n",
    "\n",
    "while x <= 10 :\n",
    "    if x < 4 :\n",
    "        print(\"x = \",x,\"; it is < 2\")\n",
    "    elif x < 8:\n",
    "        print(\"x = \",x,\"; 2 <= x < 8\")\n",
    "    else:\n",
    "        print(\"x = \",x,\"; x >= 8\")\n",
    "    x+=1\n",
    "    "
   ]
  },
  {
   "cell_type": "markdown",
   "metadata": {},
   "source": [
    "Note: there can be as many `elif` statements as you want in such a block of code. "
   ]
  },
  {
   "cell_type": "markdown",
   "metadata": {},
   "source": [
    "## List comprehensions\n",
    "List comprehension give us a compact way to loop through a container, examine each object within, do something to each object, and return a new list of those potentially altered objects. List comprehensions are powerful, but difficult to read. I often avoid them in my own code but include them here so that the reader will be familiar when they encounter them in the wild.\n",
    "\n",
    "For instance consider the following code"
   ]
  },
  {
   "cell_type": "code",
   "execution_count": null,
   "metadata": {
    "collapsed": true
   },
   "outputs": [],
   "source": [
    "x_list = list(range(5))\n",
    "x2_list = []\n",
    "for x in x_list:\n",
    "    x2_list.append(x+2)\n",
    "print(x2_list)"
   ]
  },
  {
   "cell_type": "markdown",
   "metadata": {},
   "source": [
    "We can achieve the same result much more succinctly using a list comprehension. This would look like"
   ]
  },
  {
   "cell_type": "code",
   "execution_count": null,
   "metadata": {
    "collapsed": true
   },
   "outputs": [],
   "source": [
    "x2_list = [x+2 for x in x_list]\n",
    "print(x2_list)"
   ]
  },
  {
   "cell_type": "markdown",
   "metadata": {},
   "source": [
    "List comprehensions can also have `if` clauses embedded within them. The `if` statements go after the container in the list comprehension syntax. For instance"
   ]
  },
  {
   "cell_type": "code",
   "execution_count": null,
   "metadata": {
    "collapsed": true
   },
   "outputs": [],
   "source": [
    "x2_list = [x+2 for x in x_list if x > 2]\n",
    "print(x2_list)"
   ]
  },
  {
   "cell_type": "markdown",
   "metadata": {},
   "source": [
    "As I said, list comprehensions are hard to read. For the beginning Pythonista I would avoid this construction"
   ]
  },
  {
   "cell_type": "markdown",
   "metadata": {},
   "source": [
    "## Break statement\n",
    "`break` kills a loop in place and exits to code to outside of whatever loop it is in. Generally we use `break` to exit loops prematurely if some condition is met, thus you will almost always see `break` within an `if` clause.\n",
    "\n",
    "For instance consider the following"
   ]
  },
  {
   "cell_type": "code",
   "execution_count": null,
   "metadata": {
    "collapsed": true
   },
   "outputs": [],
   "source": [
    "x = 0\n",
    "while x < 10:\n",
    "    print(x)\n",
    "    if x > 2:\n",
    "        break\n",
    "    x+=1"
   ]
  },
  {
   "cell_type": "markdown",
   "metadata": {},
   "source": [
    "**Exercise:** what would happen to the while loop above if that break statement were not there? Predict what will happen, change the code above, and make sure that the your prediction matches the reality."
   ]
  },
  {
   "cell_type": "markdown",
   "metadata": {},
   "source": [
    "## Else clauses after loops\n",
    "There is an option in Python to add an `else` clause after a `for` or `while` loop which is meant to execute only if the loop exits prematurely due to a break. This is a clever way to check to see if a loop has exited early or not.\n",
    "\n",
    "For example:"
   ]
  },
  {
   "cell_type": "code",
   "execution_count": null,
   "metadata": {
    "collapsed": true
   },
   "outputs": [],
   "source": [
    "x = 0\n",
    "while x < 10:\n",
    "    print(x)\n",
    "    if x > 12:\n",
    "        break\n",
    "    x+=1\n",
    "else:\n",
    "    print(\"did not hit the break statement\")\n"
   ]
  },
  {
   "cell_type": "markdown",
   "metadata": {},
   "source": [
    "there are a few other, less used control flow statements available in python including `continue`, `pass`, and `try`. If you are interested you can read about them [here](https://docs.python.org/3/tutorial/controlflow.html)"
   ]
  },
  {
   "cell_type": "markdown",
   "metadata": {},
   "source": [
    "## Writing Functions\n",
    "One of the key building blocks of programming is writing your own functions. Functions take some input parameters (or none) and produce some output. Functions are defined in the Python world using the `def` keyword. The following function takes no parameters at input (the paratheses are empty) and it will print a bit of text"
   ]
  },
  {
   "cell_type": "code",
   "execution_count": null,
   "metadata": {
    "collapsed": true
   },
   "outputs": [],
   "source": [
    "def my_function():\n",
    "    print(\"Hello, from my little function\")"
   ]
  },
  {
   "cell_type": "code",
   "execution_count": null,
   "metadata": {
    "collapsed": true
   },
   "outputs": [],
   "source": [
    "my_function()"
   ]
  },
  {
   "cell_type": "markdown",
   "metadata": {},
   "source": [
    "We can define our function to take parameters for it to use during evaluation simply enough"
   ]
  },
  {
   "cell_type": "code",
   "execution_count": null,
   "metadata": {
    "collapsed": true
   },
   "outputs": [],
   "source": [
    "def my_function(aName):\n",
    "    print(\"Hello,\",aName,\"from my little function\")\n",
    "\n",
    "my_function(\"Andy\")"
   ]
  },
  {
   "cell_type": "markdown",
   "metadata": {},
   "source": [
    "this can even include more than one parameter\n"
   ]
  },
  {
   "cell_type": "code",
   "execution_count": null,
   "metadata": {
    "collapsed": true
   },
   "outputs": [],
   "source": [
    "def my_function(aName, bName):\n",
    "    print(\"Hello,\",aName, bName,\"from my little function\")\n",
    "\n",
    "my_function(\"Andy\", \"Kern\")"
   ]
  },
  {
   "cell_type": "markdown",
   "metadata": {},
   "source": [
    "Often when we write functions we want them to return some value. That's done using the `return()` builtin function"
   ]
  },
  {
   "cell_type": "code",
   "execution_count": null,
   "metadata": {
    "collapsed": true
   },
   "outputs": [],
   "source": [
    "def my_adding_function(num1, num2):\n",
    "    result = num1 + num2\n",
    "    return(result)\n",
    "\n",
    "print(my_adding_function(1,1))\n",
    "\n",
    "print(my_adding_function(2,4))\n"
   ]
  },
  {
   "cell_type": "markdown",
   "metadata": {},
   "source": [
    "Of course functions can be quite complex, but they need not be. Indeed good style in coding means reaching some equilibrium between readability of code and succictness. \n",
    "\n",
    "**Exercise:** write a function that takes as input a list of numbers and returns the sum of that list."
   ]
  },
  {
   "cell_type": "markdown",
   "metadata": {},
   "source": [
    "### The Fibonacci sequence\n",
    "The Fibonacci sequence was famously introduced by a 13th Century Italian mathematician of the same name to describe the growth of rabbit populations. The sequence of Fibonacci numbers goes like this:\n",
    "\n",
    "$F_0 = 0, F_1 = 1$ and $F_n = F_{n-1} + F_{n-2}$\n",
    "\n",
    "as an **exercise** in class, write a function to compute all of the Fibonacci series upto some defined ith term. Your function should take i, the last number in the series to calculate as input and return a list of all the numbers up to that point"
   ]
  },
  {
   "cell_type": "markdown",
   "metadata": {},
   "source": [
    "# Modules\n",
    "In python we organize our code into things called modules. Concretely modules are individual files that have functions and other code bits in them that we can then import into another piece of code to extend our functionality. \n",
    "\n",
    "To illustrate this let's write a very simple module. Using the jupyter notebook homepage, create a new text file and name it `myModule.py`. You can do this the same way you create a new notebook. Then copy and paste the function below into `myModule.py` and save that file."
   ]
  },
  {
   "cell_type": "code",
   "execution_count": null,
   "metadata": {
    "collapsed": true
   },
   "outputs": [],
   "source": [
    "def my_module_function():\n",
    "    print(\"hello from myModule.py!\")"
   ]
  },
  {
   "cell_type": "markdown",
   "metadata": {},
   "source": [
    "Once that function is in `myModule.py` and saved we are ready to `import` the module to bring that code into the current context. Here's how that will look"
   ]
  },
  {
   "cell_type": "code",
   "execution_count": null,
   "metadata": {
    "collapsed": true
   },
   "outputs": [],
   "source": [
    "import myModule\n",
    "\n",
    "myModule.my_module_function()"
   ]
  },
  {
   "cell_type": "markdown",
   "metadata": {},
   "source": [
    "Note here that to call the function that I have stored in my module, I need to prefix it with `myModule`. This is because the *namespace* of that function is different than the current context. \n",
    "\n",
    "I can get rid of that hassle a few ways. One way is to import each of the functions from the module directly into the current namespace"
   ]
  },
  {
   "cell_type": "code",
   "execution_count": null,
   "metadata": {
    "collapsed": true
   },
   "outputs": [],
   "source": [
    "from myModule import *\n",
    "my_module_function()"
   ]
  },
  {
   "cell_type": "markdown",
   "metadata": {},
   "source": [
    "By using `from` here I'm important a particular function(s). In this case I use the `*` symbol to mean \"import all the functions\". I could also change the name of the myModule namespace to make it easier to type like so"
   ]
  },
  {
   "cell_type": "code",
   "execution_count": null,
   "metadata": {
    "collapsed": true
   },
   "outputs": [],
   "source": [
    "import myModule as mm\n",
    "\n",
    "mm.my_module_function()"
   ]
  },
  {
   "cell_type": "markdown",
   "metadata": {},
   "source": [
    "now `mm` represents the namespace of `myModule` and so it is more convenient to type again and again. We will see this convention quite a bit next week as we move on to using `numpy` and `scipy`."
   ]
  },
  {
   "cell_type": "markdown",
   "metadata": {},
   "source": [
    "## Bringing in code from standard library modules\n",
    "Python has a very large standard library that it ships with. Indeed this is one of the most attractive features of Python-- there is a ton of code available for you to use, rather than having to write it all yourself. Details on the complete standard library can be found [here](https://docs.python.org/3/library/). \n",
    "\n",
    "To illustrate using this code we will start by using the Python `random` module that provides a convenient, but pretty full featured interface to a random number generator. First let's import the `random` module, and then we can use it a bit. We will start by printing out some random numbers."
   ]
  },
  {
   "cell_type": "code",
   "execution_count": null,
   "metadata": {
    "collapsed": true
   },
   "outputs": [],
   "source": [
    "import random\n",
    "\n",
    "for i in range(5):\n",
    "    print(random.random())"
   ]
  },
  {
   "cell_type": "markdown",
   "metadata": {},
   "source": [
    "`random.random()` returns random floating point numbers between 0 and 1. The `random` module has a lot of other types of random number distributions available, for instances normally distributed random numbers or exponential random numbers. "
   ]
  },
  {
   "cell_type": "code",
   "execution_count": null,
   "metadata": {
    "collapsed": true
   },
   "outputs": [],
   "source": [
    "#print 5 normal random deviates\n",
    "for i in range(5):\n",
    "    print(random.normalvariate(0,1)) "
   ]
  },
  {
   "cell_type": "markdown",
   "metadata": {},
   "source": [
    "**Exercise:** use `random` to calculate 100 normally distributed random numbers with mean 0 and standard deviation 1. Now calculate the mean of those numbers. Is it indeed close to 0?\n",
    "\n",
    "Another thing that `random` is very useful for is sampling from lists randomly"
   ]
  },
  {
   "cell_type": "code",
   "execution_count": null,
   "metadata": {},
   "outputs": [],
   "source": [
    "#define a list then select one element from it randomly\n",
    "aList = [\"dog\", \"cat\", \"frog\", \"alpaca\", \"potato\"]\n",
    "print(random.choice(aList))"
   ]
  },
  {
   "cell_type": "markdown",
   "metadata": {},
   "source": [
    "We can use a very similar function in `random` to sample with replacement more than one element from our list"
   ]
  },
  {
   "cell_type": "code",
   "execution_count": null,
   "metadata": {},
   "outputs": [],
   "source": [
    "#sample 3 elements from aList\n",
    "random.choices(aList, k=3)"
   ]
  },
  {
   "cell_type": "markdown",
   "metadata": {},
   "source": [
    "Finally a very useful tool in `random` is `shuffle()` which will shuffle the order of elements in a list in-place. i.e., the list will be changed"
   ]
  },
  {
   "cell_type": "code",
   "execution_count": null,
   "metadata": {},
   "outputs": [],
   "source": [
    "#try evaluating this cell more than once\n",
    "random.shuffle(aList)\n",
    "print(aList)"
   ]
  },
  {
   "cell_type": "markdown",
   "metadata": {},
   "source": [
    "There is a whole slew of functions provided by `random` that are useful to scientists. Read about them in the [documentation](https://docs.python.org/3/library/random.html)"
   ]
  },
  {
   "cell_type": "markdown",
   "metadata": {},
   "source": [
    "## Homework assignment 1\n",
    "This week's HW is available as a PDF in the `assignments` directory of the Github repo [here](https://github.com/andrewkern/biol610/blob/master/assignments/hw1.pdf)"
   ]
  },
  {
   "cell_type": "code",
   "execution_count": null,
   "metadata": {
    "collapsed": true
   },
   "outputs": [],
   "source": []
  }
 ],
 "metadata": {
  "kernelspec": {
   "display_name": "Python 3",
   "language": "python",
   "name": "python3"
  },
  "language_info": {
   "codemirror_mode": {
    "name": "ipython",
    "version": 3
   },
   "file_extension": ".py",
   "mimetype": "text/x-python",
   "name": "python",
   "nbconvert_exporter": "python",
   "pygments_lexer": "ipython3",
   "version": "3.6.8"
  }
 },
 "nbformat": 4,
 "nbformat_minor": 2
}
