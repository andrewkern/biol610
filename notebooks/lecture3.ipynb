{
 "cells": [
  {
   "cell_type": "markdown",
   "metadata": {},
   "source": [
    "# Lecture 3\n",
    "Thus far we have gone over nearly all of the major building blocks, with the major exception of what we call Control Flow statements. This isn't quite true as we had a look at `for` and `while` loops, but we will put those in context a bit today.\n",
    "\n",
    "The basic idea is that Control Flow statements tell the program which blocks of code to move between depending on the state of the program (or variables within that program more accurately). \n",
    "\n",
    "## If statements\n",
    "As you might expect, `if` statements only run a block of nested code if a statement evaluates as true. In Python we work with `if`, `elif`, and `else` statements to control conditional flow through execution. For instance let's illustrate this with a while loop."
   ]
  },
  {
   "cell_type": "code",
   "execution_count": 8,
   "metadata": {},
   "outputs": [
    {
     "name": "stdout",
     "output_type": "stream",
     "text": [
      "True\n",
      "if was false\n"
     ]
    }
   ],
   "source": [
    "#simple if statement\n",
    "aBool = True\n",
    "if aBool:\n",
    "    print(aBool)\n",
    "\n",
    "#a second example\n",
    "aBool = False\n",
    "if aBool:\n",
    "    print(\"it was true\")\n",
    "else:\n",
    "    print(\"if was false\")"
   ]
  },
  {
   "cell_type": "markdown",
   "metadata": {},
   "source": [
    "Note there is no need for any `elif` or `else` clauses. "
   ]
  },
  {
   "cell_type": "code",
   "execution_count": 4,
   "metadata": {},
   "outputs": [
    {
     "name": "stdout",
     "output_type": "stream",
     "text": [
      "x =  0 ; it is < 2\n",
      "x =  1 ; it is < 2\n",
      "x =  2 ; it is < 2\n",
      "x =  3 ; it is < 2\n",
      "x =  4 ; 2 <= x < 8\n",
      "x =  5 ; 2 <= x < 8\n",
      "x =  6 ; 2 <= x < 8\n",
      "x =  7 ; 2 <= x < 8\n",
      "x =  8 ; x >= 8\n",
      "x =  9 ; x >= 8\n",
      "x =  10 ; x >= 8\n"
     ]
    }
   ],
   "source": [
    "x = 0\n",
    "while x <= 10 :\n",
    "    if x < 4 :\n",
    "        print(\"x = \",x,\"; it is < 2\")\n",
    "    elif x < 8:\n",
    "        print(\"x = \",x,\"; 2 <= x < 8\")\n",
    "    else:\n",
    "        print(\"x = \",x,\"; x >= 8\")\n",
    "    x+=1\n",
    "    "
   ]
  },
  {
   "cell_type": "markdown",
   "metadata": {},
   "source": [
    "Note: there can be as many `elif` statements as you want in such a block of code. "
   ]
  },
  {
   "cell_type": "code",
   "execution_count": 5,
   "metadata": {},
   "outputs": [
    {
     "name": "stdout",
     "output_type": "stream",
     "text": [
      "True\n"
     ]
    }
   ],
   "source": []
  },
  {
   "cell_type": "markdown",
   "metadata": {},
   "source": [
    "Let's return to the `while()` loop above. In that statement we are asking for the loop to keep going *while* a statement evaluates as true. "
   ]
  },
  {
   "cell_type": "code",
   "execution_count": null,
   "metadata": {},
   "outputs": [],
   "source": []
  }
 ],
 "metadata": {
  "kernelspec": {
   "display_name": "Python 3",
   "language": "python",
   "name": "python3"
  },
  "language_info": {
   "codemirror_mode": {
    "name": "ipython",
    "version": 3
   },
   "file_extension": ".py",
   "mimetype": "text/x-python",
   "name": "python",
   "nbconvert_exporter": "python",
   "pygments_lexer": "ipython3",
   "version": "3.6.7"
  }
 },
 "nbformat": 4,
 "nbformat_minor": 2
}
