{
 "cells": [
  {
   "cell_type": "markdown",
   "metadata": {},
   "source": [
    "# Matplotlib\n",
    "The main tool for plotting in python is called matplotlib. We can use it, in combination with numpy, scipy, and other libraries to create beautiful, publication quality images right in our jupyter notebooks. We will piece together a number of examples first using just numpy, but will work our way towards plotting scipy results, and eventually more data-centric stuff. The full documentation for matplotlib can be found [here](https://matplotlib.org/)"
   ]
  },
  {
   "cell_type": "code",
   "execution_count": null,
   "metadata": {},
   "outputs": [],
   "source": [
    "import numpy as np\n",
    "from matplotlib import pyplot as plt "
   ]
  },
  {
   "cell_type": "markdown",
   "metadata": {},
   "source": [
    "The main interface to matplotlib is via `pyplot` which wraps the matplotlib code into an interface that behaves like Matlab (a popular coding language/environment). Frankly, all of this is a bit opaque, but for much of what we will do we will work through the pyplot paradigm. \n",
    "\n",
    "Let's start by ploting the sine and cosine functions"
   ]
  },
  {
   "cell_type": "code",
   "execution_count": null,
   "metadata": {},
   "outputs": [],
   "source": [
    "x = np.linspace(-np.pi,np.pi,256) #get an array of 256 evenly spaced values between -pi and pi\n",
    "c = np.cos(x) # calculate cos(x)\n",
    "s = np.sin(x) # calculate sin(x)\n",
    "\n",
    "plt.plot(x,s) # create plot\n",
    "plt.plot(x,c)\n",
    "plt.show()  # show the plot"
   ]
  },
  {
   "cell_type": "markdown",
   "metadata": {},
   "source": [
    "We can very simply change the color of the lines if we like, and their thickness, etc."
   ]
  },
  {
   "cell_type": "code",
   "execution_count": null,
   "metadata": {},
   "outputs": [],
   "source": [
    "plt.plot(x, c, color=\"pink\", linewidth=3.5, linestyle=\"-\")\n",
    "plt.plot(x, s, color=\"cyan\",  linewidth=5.5, linestyle=\"--\")\n",
    "plt.show()"
   ]
  },
  {
   "cell_type": "markdown",
   "metadata": {},
   "source": [
    "Perhaps we are interested in limiting the range of the plot. We can do this using using the `xlim()` or `ylim()` functions which take as input a min and a max value for the limitation. Let's add a bit of space to our plot on the y-axis to make the curves a bit smaller in their framing (note we could of course do this on the x-axis too)"
   ]
  },
  {
   "cell_type": "code",
   "execution_count": null,
   "metadata": {},
   "outputs": [],
   "source": [
    "plt.plot(x, c, color=\"pink\", linewidth=3.5, linestyle=\"-\")\n",
    "plt.plot(x, s, color=\"cyan\",  linewidth=5.5, linestyle=\"--\")\n",
    "plt.ylim(-2,2)\n",
    "plt.show()"
   ]
  },
  {
   "cell_type": "markdown",
   "metadata": {},
   "source": [
    "Matplotlib offers a TON of flexibility for our images. Let's add to this pretty x-tick labels that show coordinates in units of $\\pi$. To do this we will rely upon matplotlib's built in `mathtext` mode which will render TeX like markup into pretty images. The full documentation for `mathtext` can be found [here](https://matplotlib.org/users/mathtext.html#mathtext-tutorial)"
   ]
  },
  {
   "cell_type": "code",
   "execution_count": null,
   "metadata": {},
   "outputs": [],
   "source": [
    "plt.plot(x, c, color=\"orange\", linewidth=3.5, linestyle=\"-\")\n",
    "plt.plot(x, s, color=\"blue\",  linewidth=3.5, linestyle=\"--\")\n",
    "plt.xticks([-np.pi, -np.pi/2, 0, np.pi/2, np.pi],\n",
    "       [r'$-\\pi$', r'$-\\pi/2$', r'$0$', r'$+\\pi/2$', r'$+\\pi$']) #here is the mathtext format\n",
    "plt.show()"
   ]
  },
  {
   "cell_type": "markdown",
   "metadata": {},
   "source": [
    "Let's add a legend to the figure above"
   ]
  },
  {
   "cell_type": "code",
   "execution_count": null,
   "metadata": {},
   "outputs": [],
   "source": [
    "plt.plot(x, c, color=\"orange\", linewidth=3.5, linestyle=\"-\", label=\"cosine\")\n",
    "plt.plot(x, s, color=\"blue\",  linewidth=3.5, linestyle=\"--\", label=\"sine\")\n",
    "plt.legend(loc='lower left', frameon=True)\n",
    "plt.xticks([-np.pi, -np.pi/2, 0, np.pi/2, np.pi],\n",
    "       [r'$-\\pi$', r'$-\\pi/2$', r'$0$', r'$+\\pi/2$', r'$+\\pi$']) #here is the mathtext format\n",
    "plt.show()"
   ]
  },
  {
   "cell_type": "markdown",
   "metadata": {},
   "source": [
    "A neat thing that matplotlib will allow us to do is change the position of the \"spines\" of our plot, the lines that delineate the axes that we are plotting. Let's move the spines to positions that might be more familiar in the setting of a math class. You can read about spines [here](https://matplotlib.org/api/spines_api.html#matplotlib.spines)"
   ]
  },
  {
   "cell_type": "code",
   "execution_count": null,
   "metadata": {},
   "outputs": [],
   "source": [
    "plt.plot(x, c, color=\"orange\", linewidth=3.5, linestyle=\"-\", label=\"cosine\")\n",
    "plt.plot(x, s, color=\"blue\",  linewidth=3.5, linestyle=\"--\", label=\"sine\")\n",
    "plt.legend(loc='upper left', frameon=False)\n",
    "plt.xticks([-np.pi, -np.pi/2, 0, np.pi/2, np.pi],\n",
    "       [r'$-\\pi$', r'$-\\pi/2$', r'$0$', r'$+\\pi/2$', r'$+\\pi$']) #here is the mathtext format\n",
    "\n",
    "### move the spines\n",
    "ax = plt.gca()  # gca stands for 'get current axis'\n",
    "ax.spines['right'].set_color('none')\n",
    "ax.spines['top'].set_color('none')\n",
    "ax.xaxis.set_ticks_position('bottom')\n",
    "ax.spines['bottom'].set_position(('data',0))\n",
    "ax.yaxis.set_ticks_position('left')\n",
    "ax.spines['left'].set_position(('data',0))\n",
    "\n",
    "plt.savefig(\"/Users/adk/Desktop/myimg.pdf\")"
   ]
  },
  {
   "cell_type": "markdown",
   "metadata": {},
   "source": [
    "## Some examples of the kinds of plots we can make\n",
    "Now that we've gone through some of the basics, I'd like to do just a quick whirlwind tour of some of the basic plot types that we can create with matplotlib alone (we will eventually get to the seaborn package which opens up further possibilities)\n",
    "\n",
    "### Scatter plots\n",
    "The most common sort of plot you might make is a scatter plot. Let's use the `numpy.random` module to create multivariate normal random numbers and plot those. We will do this for two covariance matrices, one more correlated than the other\n"
   ]
  },
  {
   "cell_type": "code",
   "execution_count": null,
   "metadata": {},
   "outputs": [],
   "source": [
    "mean = np.array([0,0])\n",
    "cov1 = np.array([[1.0,0.1],[0.1,1.0]]) #low covariance between x & y\n",
    "x = np.random.multivariate_normal(mean, cov1, size=1000)\n",
    "plt.scatter(x[:,0],x[:,1])\n",
    "plt.show()"
   ]
  },
  {
   "cell_type": "code",
   "execution_count": null,
   "metadata": {},
   "outputs": [],
   "source": [
    "mean = np.array([0,0])\n",
    "cov1 = np.array([[1.0,0.9],[0.9,1.0]]) # high covariance between x & y\n",
    "x = np.random.multivariate_normal(mean, cov1, size=1000)\n",
    "plt.scatter(x[:,0],x[:,1],alpha=0.3) # I've set alpha < 1 so that points are a bit transparent\n",
    "plt.show()"
   ]
  },
  {
   "cell_type": "markdown",
   "metadata": {},
   "source": [
    "## Contour plots"
   ]
  },
  {
   "cell_type": "code",
   "execution_count": null,
   "metadata": {},
   "outputs": [],
   "source": [
    "def banana_function(x, y):\n",
    "    a = 1\n",
    "    b = 2\n",
    "    return((a-x)**2 + (b*(y - x**2)**2))\n",
    "\n",
    "n = 512\n",
    "x = np.linspace(-3, 3, n)\n",
    "y = np.linspace(-10, 1, n)\n",
    "X, Y = np.meshgrid(x, y)\n",
    "plt.contourf(X, Y, banana_function(X, Y), 8, alpha=.75, cmap='viridis')\n",
    "#C = plt.contour(X, Y, banana_function(X, Y), 8, colors='black')\n",
    "plt.show()"
   ]
  },
  {
   "cell_type": "markdown",
   "metadata": {},
   "source": [
    "### histograms"
   ]
  },
  {
   "cell_type": "code",
   "execution_count": null,
   "metadata": {},
   "outputs": [],
   "source": [
    "# choose 1000 normal RVs\n",
    "x = np.random.normal(0,1,1000)\n",
    "plt.hist(x)\n",
    "plt.show()"
   ]
  },
  {
   "cell_type": "markdown",
   "metadata": {},
   "source": [
    "## subplots\n",
    "subplots in matplotlib take some care. in particular subplots are 1-indexed rather than the familiar zero indexing in the rest of the python language (why would you do this? I have no idea). the basic function `subplot()` takes three integers specifying the *number of rows* in the array of plots, the *number of columns* in the array, and the *index* of the plot you will define things about. I'll give two examples, a simple one and a more complex one.\n",
    "\n",
    "First lets plot two scatterplots side by side"
   ]
  },
  {
   "cell_type": "code",
   "execution_count": null,
   "metadata": {},
   "outputs": [],
   "source": [
    "plt.subplot(1,2,1)\n",
    "cov = np.array([[1.0,0.85],[0.85,1.0]]) #low covariance between x & y\n",
    "x = np.random.multivariate_normal([0,0], cov, size=1000)\n",
    "plt.scatter(x[:,0],x[:,1], alpha= 0.3)\n",
    "plt.subplot(1,2,2)\n",
    "cov[0,1]=cov[1,0]=-0.5\n",
    "x = np.random.multivariate_normal([0,0], cov, size=1000)\n",
    "plt.scatter(x[:,0],x[:,1], alpha= 0.3,color=\"orange\")\n",
    "plt.show()"
   ]
  },
  {
   "cell_type": "code",
   "execution_count": null,
   "metadata": {},
   "outputs": [],
   "source": [
    "#quiver plot on the bottom\n",
    "\n",
    "#scatter on the top left\n",
    "plt.subplot(2, 2, 1)\n",
    "plt.scatter(np.random.normal(0,1,100),np.random.normal(0,1,100),color=\"red\")\n",
    "#hist on the top right\n",
    "plt.subplot(2, 2, 2)\n",
    "plt.hist(x)\n",
    "plt.subplot(2, 1, 2)\n",
    "X, Y = np.meshgrid(range(0,6), range(8))\n",
    "plt.quiver(X, Y)\n",
    "plt.show()"
   ]
  },
  {
   "cell_type": "markdown",
   "metadata": {},
   "source": [
    "### IMSHOW\n",
    "`imshow` allows us to display images, like .jpg files. Because images are represented as numerical arrays in practice we can use the same tool to create visualizations of any sort of data"
   ]
  },
  {
   "cell_type": "code",
   "execution_count": null,
   "metadata": {},
   "outputs": [],
   "source": [
    "def f(x, y):\n",
    "     return(np.sin(x**2 + y**2) / (x**2 + y**2))\n",
    "n = 10\n",
    "x = np.linspace(-3, 3, 4 * n)\n",
    "y = np.linspace(-3, 3, 3 * n)\n",
    "X, Y = np.meshgrid(x, y)\n",
    "plt.imshow(f(X, Y))"
   ]
  },
  {
   "cell_type": "code",
   "execution_count": null,
   "metadata": {},
   "outputs": [],
   "source": []
  }
 ],
 "metadata": {
  "kernelspec": {
   "display_name": "Python 3",
   "language": "python",
   "name": "python3"
  },
  "language_info": {
   "codemirror_mode": {
    "name": "ipython",
    "version": 3
   },
   "file_extension": ".py",
   "mimetype": "text/x-python",
   "name": "python",
   "nbconvert_exporter": "python",
   "pygments_lexer": "ipython3",
   "version": "3.7.6"
  }
 },
 "nbformat": 4,
 "nbformat_minor": 4
}
