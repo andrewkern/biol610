{
 "cells": [
  {
   "cell_type": "markdown",
   "metadata": {},
   "source": [
    "# Biopython \n",
    "For anyone working with DNA or protein sequence information, `biopython` provides an extremely helpful set of tools. biopython gives the user the ability to programatically interact with biological sequence data and includes plugins to popular alignment and homology search algorithms such as BLAST or CLUSTAL, phylogenetic packages, and much more. We will barely scratch the surface today in the kinds of things that one can accomplish, so if you are interested you can start reading the documation [here](https://biopython.org/wiki/Documentation).\n",
    "\n",
    "## Installing biopython\n",
    "The first order of business is to install biopython, and a couple of helper programs on your system. Do that by using the command line or the anaconda prompt (on Windows systems) and type\n",
    "\n",
    "`conda install -c anaconda biopython`\n",
    "\n",
    "`conda install -c bioconda muscle paml`\n",
    "\n",
    "that should be all that is needed\n",
    "\n",
    "## Working with sequences\n",
    "The first use case for us will be working with DNA sequences using biopython. biopython provides for us a `Seq` object, that contains at it's heart a string of biological sequence but that \"knows\" how to do certain tricks"
   ]
  },
  {
   "cell_type": "code",
   "execution_count": 17,
   "metadata": {},
   "outputs": [
    {
     "name": "stdout",
     "output_type": "stream",
     "text": [
      "AGTATCTTTGGT\n",
      "TCATAGAAACCA\n",
      "ACCAAAGATACT\n"
     ]
    }
   ],
   "source": [
    "from Bio.Seq import Seq\n",
    "my_seq = Seq(\"AGTATCTTTGGT\")\n",
    "print(my_seq)\n",
    "\n",
    "print(my_seq.complement())\n",
    "print(my_seq.reverse_complement())"
   ]
  },
  {
   "cell_type": "markdown",
   "metadata": {},
   "source": [
    "You can search in sequences for subsequences super easily"
   ]
  },
  {
   "cell_type": "code",
   "execution_count": 18,
   "metadata": {},
   "outputs": [
    {
     "data": {
      "text/plain": [
       "2"
      ]
     },
     "execution_count": 18,
     "metadata": {},
     "output_type": "execute_result"
    }
   ],
   "source": [
    "my_seq.find(\"TAT\")"
   ]
  },
  {
   "cell_type": "markdown",
   "metadata": {},
   "source": [
    "sequences generally behave as strings, meaning that you can index them and iterate over them, etc."
   ]
  },
  {
   "cell_type": "code",
   "execution_count": 19,
   "metadata": {},
   "outputs": [
    {
     "name": "stdout",
     "output_type": "stream",
     "text": [
      "A\n",
      "G\n",
      "T\n",
      "A\n",
      "T\n",
      "C\n",
      "T\n",
      "T\n",
      "T\n",
      "G\n",
      "G\n",
      "T\n",
      "here is my_seq[0]:  A\n"
     ]
    }
   ],
   "source": [
    "for c in my_seq:\n",
    "    print(c)\n",
    "    \n",
    "print(\"here is my_seq[0]: \",my_seq[0])"
   ]
  },
  {
   "cell_type": "code",
   "execution_count": 20,
   "metadata": {},
   "outputs": [
    {
     "name": "stdout",
     "output_type": "stream",
     "text": [
      "AGTATCTTTGGT\n",
      "percent GC  33.333333333333336\n",
      "\n",
      "\n",
      "GC_Frame: a:2 t:6 g:3 c:1 \n",
      "Sequence: agtatctttggt, 12 nt, 33.33 %GC\n",
      "\n",
      "\n",
      "1/1\n",
      "  Y  L  W\n",
      " V  S  L\n",
      "S  I  F  G\n",
      "agtatctttggt   33 %\n",
      "tcatagaaacca\n",
      "I  K  P \n",
      " T  D  K  T\n",
      "  Y  R  Q\n",
      "\n",
      "\n"
     ]
    }
   ],
   "source": [
    "#compute GC percentage / 6-frame tx\n",
    "from Bio.SeqUtils import GC,six_frame_translations\n",
    "print(my_seq)\n",
    "print(\"percent GC \",GC(my_seq))\n",
    "print(\"\\n\")\n",
    "print(six_frame_translations(my_seq))"
   ]
  },
  {
   "cell_type": "markdown",
   "metadata": {},
   "source": [
    "there are many other basic sequence utilities that biopython provides. you have to wade through the sequtils documentation a bit to find out everything that it can do out of the box.\n",
    "\n",
    "## Reading in sequences\n",
    "Perhaps the single most useful thing that biopython provides is basic utilities to read and write from common data formats such as fasta and fastq. These parsers really aid in our ability to quickly make headway on even sophisticated datasets. We will work with a set of orchid rRNA gene sequences that you can download [here](https://raw.githubusercontent.com/biopython/biopython/master/Doc/examples/ls_orchid.fasta) although I have also included the file in the github repo notebooks directory.\n",
    "\n"
   ]
  },
  {
   "cell_type": "code",
   "execution_count": 21,
   "metadata": {},
   "outputs": [
    {
     "name": "stdout",
     "output_type": "stream",
     "text": [
      "id:  gi|2765658|emb|Z78533.1|CIZ78533 length:  740\n",
      "id:  gi|2765657|emb|Z78532.1|CCZ78532 length:  753\n",
      "id:  gi|2765656|emb|Z78531.1|CFZ78531 length:  748\n",
      "id:  gi|2765655|emb|Z78530.1|CMZ78530 length:  744\n",
      "id:  gi|2765654|emb|Z78529.1|CLZ78529 length:  733\n",
      "id:  gi|2765652|emb|Z78527.1|CYZ78527 length:  718\n",
      "id:  gi|2765651|emb|Z78526.1|CGZ78526 length:  730\n",
      "id:  gi|2765650|emb|Z78525.1|CAZ78525 length:  704\n",
      "id:  gi|2765649|emb|Z78524.1|CFZ78524 length:  740\n",
      "id:  gi|2765648|emb|Z78523.1|CHZ78523 length:  709\n",
      "id:  gi|2765647|emb|Z78522.1|CMZ78522 length:  700\n",
      "id:  gi|2765646|emb|Z78521.1|CCZ78521 length:  726\n",
      "id:  gi|2765645|emb|Z78520.1|CSZ78520 length:  753\n",
      "id:  gi|2765644|emb|Z78519.1|CPZ78519 length:  699\n",
      "id:  gi|2765643|emb|Z78518.1|CRZ78518 length:  658\n",
      "id:  gi|2765642|emb|Z78517.1|CFZ78517 length:  752\n",
      "id:  gi|2765641|emb|Z78516.1|CPZ78516 length:  726\n",
      "id:  gi|2765640|emb|Z78515.1|MXZ78515 length:  765\n",
      "id:  gi|2765639|emb|Z78514.1|PSZ78514 length:  755\n",
      "id:  gi|2765638|emb|Z78513.1|PBZ78513 length:  742\n",
      "id:  gi|2765637|emb|Z78512.1|PWZ78512 length:  762\n",
      "id:  gi|2765636|emb|Z78511.1|PEZ78511 length:  745\n",
      "id:  gi|2765635|emb|Z78510.1|PCZ78510 length:  750\n",
      "id:  gi|2765634|emb|Z78509.1|PPZ78509 length:  731\n",
      "id:  gi|2765633|emb|Z78508.1|PLZ78508 length:  741\n",
      "id:  gi|2765632|emb|Z78507.1|PLZ78507 length:  740\n",
      "id:  gi|2765631|emb|Z78506.1|PLZ78506 length:  727\n",
      "id:  gi|2765630|emb|Z78505.1|PSZ78505 length:  711\n",
      "id:  gi|2765629|emb|Z78504.1|PKZ78504 length:  743\n",
      "id:  gi|2765628|emb|Z78503.1|PCZ78503 length:  727\n",
      "id:  gi|2765627|emb|Z78502.1|PBZ78502 length:  757\n",
      "id:  gi|2765626|emb|Z78501.1|PCZ78501 length:  770\n",
      "id:  gi|2765625|emb|Z78500.1|PWZ78500 length:  767\n",
      "id:  gi|2765624|emb|Z78499.1|PMZ78499 length:  759\n",
      "id:  gi|2765623|emb|Z78498.1|PMZ78498 length:  750\n",
      "id:  gi|2765622|emb|Z78497.1|PDZ78497 length:  788\n",
      "id:  gi|2765621|emb|Z78496.1|PAZ78496 length:  774\n",
      "id:  gi|2765620|emb|Z78495.1|PEZ78495 length:  789\n",
      "id:  gi|2765619|emb|Z78494.1|PNZ78494 length:  688\n",
      "id:  gi|2765618|emb|Z78493.1|PGZ78493 length:  719\n",
      "id:  gi|2765617|emb|Z78492.1|PBZ78492 length:  743\n",
      "id:  gi|2765616|emb|Z78491.1|PCZ78491 length:  737\n",
      "id:  gi|2765615|emb|Z78490.1|PFZ78490 length:  728\n",
      "id:  gi|2765614|emb|Z78489.1|PDZ78489 length:  740\n",
      "id:  gi|2765613|emb|Z78488.1|PTZ78488 length:  696\n",
      "id:  gi|2765612|emb|Z78487.1|PHZ78487 length:  732\n",
      "id:  gi|2765611|emb|Z78486.1|PBZ78486 length:  731\n",
      "id:  gi|2765610|emb|Z78485.1|PHZ78485 length:  735\n",
      "id:  gi|2765609|emb|Z78484.1|PCZ78484 length:  720\n",
      "id:  gi|2765608|emb|Z78483.1|PVZ78483 length:  740\n",
      "id:  gi|2765607|emb|Z78482.1|PEZ78482 length:  629\n",
      "id:  gi|2765606|emb|Z78481.1|PIZ78481 length:  572\n",
      "id:  gi|2765605|emb|Z78480.1|PGZ78480 length:  587\n",
      "id:  gi|2765604|emb|Z78479.1|PPZ78479 length:  700\n",
      "id:  gi|2765603|emb|Z78478.1|PVZ78478 length:  636\n",
      "id:  gi|2765602|emb|Z78477.1|PVZ78477 length:  716\n",
      "id:  gi|2765601|emb|Z78476.1|PGZ78476 length:  592\n",
      "id:  gi|2765600|emb|Z78475.1|PSZ78475 length:  716\n",
      "id:  gi|2765599|emb|Z78474.1|PKZ78474 length:  733\n",
      "id:  gi|2765598|emb|Z78473.1|PSZ78473 length:  626\n",
      "id:  gi|2765597|emb|Z78472.1|PLZ78472 length:  737\n",
      "id:  gi|2765596|emb|Z78471.1|PDZ78471 length:  740\n",
      "id:  gi|2765595|emb|Z78470.1|PPZ78470 length:  574\n",
      "id:  gi|2765594|emb|Z78469.1|PHZ78469 length:  594\n",
      "id:  gi|2765593|emb|Z78468.1|PAZ78468 length:  610\n",
      "id:  gi|2765592|emb|Z78467.1|PSZ78467 length:  730\n",
      "id:  gi|2765591|emb|Z78466.1|PPZ78466 length:  641\n",
      "id:  gi|2765590|emb|Z78465.1|PRZ78465 length:  702\n",
      "id:  gi|2765589|emb|Z78464.1|PGZ78464 length:  733\n",
      "id:  gi|2765588|emb|Z78463.1|PGZ78463 length:  738\n",
      "id:  gi|2765587|emb|Z78462.1|PSZ78462 length:  736\n",
      "id:  gi|2765586|emb|Z78461.1|PWZ78461 length:  732\n",
      "id:  gi|2765585|emb|Z78460.1|PCZ78460 length:  745\n",
      "id:  gi|2765584|emb|Z78459.1|PDZ78459 length:  744\n",
      "id:  gi|2765583|emb|Z78458.1|PHZ78458 length:  738\n",
      "id:  gi|2765582|emb|Z78457.1|PCZ78457 length:  739\n",
      "id:  gi|2765581|emb|Z78456.1|PTZ78456 length:  740\n",
      "id:  gi|2765580|emb|Z78455.1|PJZ78455 length:  745\n",
      "id:  gi|2765579|emb|Z78454.1|PFZ78454 length:  695\n",
      "id:  gi|2765578|emb|Z78453.1|PSZ78453 length:  745\n",
      "id:  gi|2765577|emb|Z78452.1|PBZ78452 length:  743\n",
      "id:  gi|2765576|emb|Z78451.1|PHZ78451 length:  730\n",
      "id:  gi|2765575|emb|Z78450.1|PPZ78450 length:  706\n",
      "id:  gi|2765574|emb|Z78449.1|PMZ78449 length:  744\n",
      "id:  gi|2765573|emb|Z78448.1|PAZ78448 length:  742\n",
      "id:  gi|2765572|emb|Z78447.1|PVZ78447 length:  694\n",
      "id:  gi|2765571|emb|Z78446.1|PAZ78446 length:  712\n",
      "id:  gi|2765570|emb|Z78445.1|PUZ78445 length:  715\n",
      "id:  gi|2765569|emb|Z78444.1|PAZ78444 length:  688\n",
      "id:  gi|2765568|emb|Z78443.1|PLZ78443 length:  784\n",
      "id:  gi|2765567|emb|Z78442.1|PBZ78442 length:  721\n",
      "id:  gi|2765566|emb|Z78441.1|PSZ78441 length:  703\n",
      "id:  gi|2765565|emb|Z78440.1|PPZ78440 length:  744\n",
      "id:  gi|2765564|emb|Z78439.1|PBZ78439 length:  592\n"
     ]
    }
   ],
   "source": [
    "from Bio import SeqIO\n",
    "for seq_record in SeqIO.parse(\"ls_orchid.fasta\", \"fasta\"):\n",
    "    print(\"id: \",seq_record.id,\"length: \",len(seq_record.seq))\n"
   ]
  },
  {
   "cell_type": "code",
   "execution_count": 22,
   "metadata": {},
   "outputs": [
    {
     "name": "stdout",
     "output_type": "stream",
     "text": [
      "gi|2765658|emb|Z78533.1|CIZ78533\n",
      "gi|2765658|emb|Z78533.1|CIZ78533 C.irapeanum 5.8S rRNA gene and ITS1 and ITS2 DNA\n",
      "gi|2765657|emb|Z78532.1|CCZ78532\n",
      "gi|2765657|emb|Z78532.1|CCZ78532 C.californicum 5.8S rRNA gene and ITS1 and ITS2 DNA\n"
     ]
    }
   ],
   "source": [
    "#a slightly different way to deal with the iterator that SeqIO.parse returns    \n",
    "record_iterator = SeqIO.parse(\"ls_orchid.fasta\", \"fasta\")\n",
    "first_record = next(record_iterator)\n",
    "print(first_record.id)\n",
    "print(first_record.description)\n",
    "\n",
    "second_record = next(record_iterator)\n",
    "print(second_record.id)\n",
    "print(second_record.description)"
   ]
  },
  {
   "cell_type": "markdown",
   "metadata": {},
   "source": [
    "### Getting sequences straight from Genbank\n",
    "biopython has code that allows us to download sequences directly from genbank and suck them up in to memory for doing stuff. Here is an example"
   ]
  },
  {
   "cell_type": "code",
   "execution_count": 23,
   "metadata": {},
   "outputs": [
    {
     "name": "stdout",
     "output_type": "stream",
     "text": [
      "AF191665.1 AF191665.1 Opuntia marenae rpl16 gene; chloroplast gene for chloroplast product, partial intron sequence\n"
     ]
    }
   ],
   "source": [
    "from Bio import Entrez\n",
    "from Bio import SeqIO\n",
    "Entrez.email = \"A.N.Other@example.com\"\n",
    "with Entrez.efetch(db=\"nucleotide\", rettype=\"fasta\", retmode=\"text\", id=\"6273291\") as handle:\n",
    "    seq_record = SeqIO.read(handle, \"fasta\")\n",
    "print(seq_record.id, seq_record.description)"
   ]
  },
  {
   "cell_type": "code",
   "execution_count": 24,
   "metadata": {},
   "outputs": [
    {
     "data": {
      "text/plain": [
       "SeqRecord(seq=Seq('TATACATTAAAGGAGGGGGATGCGGATAAATGGAAAGGCGAAAGAAAGAAAAAA...AGA'), id='AF191665.1', name='AF191665.1', description='AF191665.1 Opuntia marenae rpl16 gene; chloroplast gene for chloroplast product, partial intron sequence', dbxrefs=[])"
      ]
     },
     "execution_count": 24,
     "metadata": {},
     "output_type": "execute_result"
    }
   ],
   "source": [
    "seq_record"
   ]
  },
  {
   "cell_type": "markdown",
   "metadata": {},
   "source": [
    "we can get a bit more information if we retreive files in the so-called genbank format, in particular we will get annotation features associated with the sequence, if they exist in the genbank entry"
   ]
  },
  {
   "cell_type": "code",
   "execution_count": 25,
   "metadata": {},
   "outputs": [
    {
     "name": "stdout",
     "output_type": "stream",
     "text": [
      "AF191665.1 Opuntia marenae rpl16 gene; chloroplast gene for chloroplast product, partial intron sequence\n",
      "[SeqFeature(FeatureLocation(ExactPosition(0), ExactPosition(902), strand=1), type='source'), SeqFeature(FeatureLocation(BeforePosition(0), AfterPosition(902), strand=1), type='gene'), SeqFeature(FeatureLocation(BeforePosition(0), AfterPosition(902), strand=1), type='intron')]\n"
     ]
    }
   ],
   "source": [
    "from Bio import Entrez\n",
    "from Bio import SeqIO\n",
    "Entrez.email = \"A.N.Other@example.com\"\n",
    "with Entrez.efetch(db=\"nucleotide\", rettype=\"gb\", retmode=\"text\", id=\"6273291\") as handle:\n",
    "    seq_record = SeqIO.read(handle, \"gb\")\n",
    "print(seq_record.id, seq_record.description)\n",
    "print(seq_record.features)"
   ]
  },
  {
   "cell_type": "markdown",
   "metadata": {},
   "source": [
    "### Sequence files as dicts\n",
    "If you have a large number of sequences in a file, it's usually best not to read them all in to memory at once. biopython has you covered here functions that will open up a sequence file as sa dictionary that you can query by key\n",
    "\n"
   ]
  },
  {
   "cell_type": "code",
   "execution_count": 26,
   "metadata": {},
   "outputs": [
    {
     "name": "stdout",
     "output_type": "stream",
     "text": [
      "['gi|2765658|emb|Z78533.1|CIZ78533', 'gi|2765657|emb|Z78532.1|CCZ78532', 'gi|2765656|emb|Z78531.1|CFZ78531', 'gi|2765655|emb|Z78530.1|CMZ78530', 'gi|2765654|emb|Z78529.1|CLZ78529']\n"
     ]
    }
   ],
   "source": [
    "orchid_dict = SeqIO.index(\"ls_orchid.fasta\", \"fasta\")\n",
    "print(list(orchid_dict.keys())[0:5])"
   ]
  },
  {
   "cell_type": "code",
   "execution_count": 27,
   "metadata": {},
   "outputs": [
    {
     "name": "stdout",
     "output_type": "stream",
     "text": [
      "gi|2765658|emb|Z78533.1|CIZ78533 C.irapeanum 5.8S rRNA gene and ITS1 and ITS2 DNA\n",
      "CGTAACAAGGTTTCCGTAGGTGAACCTGCGGAAGGATCATTGATGAGACCGTGGAATAAACGATCGAGTGAATCCGGAGGACCGGTGTACTCAGCTCACCGGGGGCATTGCTCCCGTGGTGACCCTGATTTGTTGTTGGGCCGCCTCGGGAGCGTCCATGGCGGGTTTGAACCTCTAGCCCGGCGCAGTTTGGGCGCCAAGCCATATGAAAGCATCACCGGCGAATGGCATTGTCTTCCCCAAAACCCGGAGCGGCGGCGTGCTGTCGCGTGCCCAATGAATTTTGATGACTCTCGCAAACGGGAATCTTGGCTCTTTGCATCGGATGGAAGGACGCAGCGAAATGCGATAAGTGGTGTGAATTGCAAGATCCCGTGAACCATCGAGTCTTTTGAACGCAAGTTGCGCCCGAGGCCATCAGGCTAAGGGCACGCCTGCTTGGGCGTCGCGCTTCGTCTCTCTCCTGCCAATGCTTGCCCGGCATACAGCCAGGCCGGCGTGGTGCGGATGTGAAAGATTGGCCCCTTGTGCCTAGGTGCGGCGGGTCCAAGAGCTGGTGTTTTGATGGCCCGGAACCCGGCAAGAGGTGGACGGATGCTGGCAGCAGCTGCCGTGCGAATCCCCCATGTTGTCGTGCTTGTCGGACAGGCAGGAGAACCCTTCCGAACCCCAATGGAGGGCGGTTGACCGCCATTCGGATGTGACCCCAGGTCAGGCGGGGGCACCCGCTGAGTTTACGC\n"
     ]
    }
   ],
   "source": [
    "seq_record = orchid_dict[\"gi|2765658|emb|Z78533.1|CIZ78533\"]\n",
    "print(seq_record.description)\n",
    "print(seq_record.seq)"
   ]
  },
  {
   "cell_type": "markdown",
   "metadata": {},
   "source": [
    "### Converting between file formats\n",
    "\n",
    "Again biopython has you covered for basic conversions between file formats. For instance"
   ]
  },
  {
   "cell_type": "code",
   "execution_count": 28,
   "metadata": {},
   "outputs": [
    {
     "name": "stdout",
     "output_type": "stream",
     "text": [
      "Converted 94 records\n"
     ]
    }
   ],
   "source": [
    "from Bio import SeqIO\n",
    "count = SeqIO.convert(\"ls_orchid.fasta\", \"fasta\", \"my_example.pir\", \"pir\")\n",
    "print(\"Converted %i records\" % count)\n"
   ]
  },
  {
   "cell_type": "markdown",
   "metadata": {},
   "source": [
    "## Doing multiple sequence alignment\n",
    "not only can biopython read and write multiple sequence alignments (MSAs) and cleanly represent them in memory, but biopython can even help you create MSAs. \n",
    "biopython can work as glue that binds together familiar bioinformatics programs, allowing us to pass information from memory to programs and then back. This depends on having \"helper\" programs installed that will do the heavy lifting, for instance an alignment program. When we started off this lecture we installed the aligner MUSCLE using conda. We will use the interface to MUSCLE to demostrate this functionality.\n",
    "\n",
    "In particular we will do an alignment of the sequences in that orchid fasta file we have been playing with"
   ]
  },
  {
   "cell_type": "code",
   "execution_count": 29,
   "metadata": {},
   "outputs": [],
   "source": [
    "import os\n",
    "from Bio.Align.Applications import MuscleCommandline\n",
    "cline = MuscleCommandline(\"MUSCLE\", input=\"ls_orchid.fasta\", out=\"aligned_orchid.fasta\")\n",
    "muscle_exe = \"/Users/adk/miniconda3/bin/MUSCLE\"\n",
    "assert os.path.isfile(muscle_exe), \"MEUSCL executable missing\"\n",
    "stdout, stderr = cline()\n",
    "# this will take a while\n",
    "# can print stderr if you want to see what happened"
   ]
  },
  {
   "cell_type": "code",
   "execution_count": 30,
   "metadata": {},
   "outputs": [
    {
     "name": "stdout",
     "output_type": "stream",
     "text": [
      "Alignment with 94 rows and 869 columns\n",
      "CGTAACAAGGTTTCCGTAGGTGAACCTGCGGAAGGATCATTGTT...--- gi|2765655|emb|Z78530.1|CMZ78530\n",
      "-----------------ACGGCGAGCTGCCGAAGGA-CATTGTT...AA- gi|2765654|emb|Z78529.1|CLZ78529\n",
      "CGTAACAAGGTTTCCGTAGGTGAACCTGCGGAAGGATCATTGAT...CGC gi|2765658|emb|Z78533.1|CIZ78533\n",
      "CGTAACAAGGTTTCCGTAGGTGAACCTGCGGAAGGATCATTGTT...--- gi|2765656|emb|Z78531.1|CFZ78531\n",
      "----------------------------------------TGTT...--- gi|2765650|emb|Z78525.1|CAZ78525\n",
      "CGTAACAAGGTTTCCGTAGGTGAACCTGCGGAAGGATCATTGTT...AGC gi|2765649|emb|Z78524.1|CFZ78524\n",
      "CGTAACCAGGTTTCCGTAGGTGAACCTGCGGCAGGATCATTGTT...AG- gi|2765648|emb|Z78523.1|CHZ78523\n",
      "CGTAACAAGGTTTCCGTAGGTGAACCTGCGGAAGGATCATTGTT...--- gi|2765645|emb|Z78520.1|CSZ78520\n",
      "--------------------------------------------...--- gi|2765644|emb|Z78519.1|CPZ78519\n",
      "---------------GTAGGTGAACCTGCGGAAGGATCATTGTT...--- gi|2765646|emb|Z78521.1|CCZ78521\n",
      "CGTAACAAGGTTTCCGTAGGTGAACCTGCGGAAGGATCATTGTT...--- gi|2765647|emb|Z78522.1|CMZ78522\n",
      "CGTAACAAGGTTTCCGTAGGTGAACCTGCGGAAGGATCATTGTT...GGC gi|2765657|emb|Z78532.1|CCZ78532\n",
      "CGTAACAAGGTTTCCGTAGGTGAACCTGCGGAAGGATCATTGTT...--- gi|2765652|emb|Z78527.1|CYZ78527\n",
      "CGTAACAAGGTTTCCGTAGGTGAACCTGCGGAAGGATCATTGTT...TGT gi|2765651|emb|Z78526.1|CGZ78526\n",
      "CGTAACAAGGTTTCCGTAGGTGAACCTGCGGGAGGATCATTGTT...CC- gi|2765643|emb|Z78518.1|CRZ78518\n",
      "CGTAACAAGGTTTCCGTAGGTGAACCTGCGGAAGGATCATTGTT...AGC gi|2765642|emb|Z78517.1|CFZ78517\n",
      "CGTAACAAGGTTTCCGTAGGTGAACCTGCGGAAGGATCATTGTT...A-- gi|2765641|emb|Z78516.1|CPZ78516\n",
      "CGTAACAAGGTTTCCGTAGGTGAACCTGCGGAAGGATCATTGCT...AGC gi|2765640|emb|Z78515.1|MXZ78515\n",
      "...\n",
      "CGTAACAAGGTTTCCGTAGGTGAACCTGCGGAAGGATCATTGTT...AG- gi|2765619|emb|Z78494.1|PNZ78494\n"
     ]
    }
   ],
   "source": [
    "#now suck back in the file\n",
    "from Bio import AlignIO\n",
    "\n",
    "orchid = AlignIO.read(\"aligned_orchid.fasta\",\"fasta\")\n",
    "print(orchid)"
   ]
  },
  {
   "cell_type": "markdown",
   "metadata": {},
   "source": [
    "these alignment objects behave as you would expect. for instance we can slice them just as we would numpy arrays to get subsets of the aligned sequences, windows of the alignment, or both"
   ]
  },
  {
   "cell_type": "code",
   "execution_count": 31,
   "metadata": {},
   "outputs": [
    {
     "name": "stdout",
     "output_type": "stream",
     "text": [
      "Alignment with 2 rows and 10 columns\n",
      "TTTCCGTAGG gi|2765655|emb|Z78530.1|CMZ78530\n",
      "-------ACG gi|2765654|emb|Z78529.1|CLZ78529\n"
     ]
    }
   ],
   "source": [
    "print(orchid[0:2,10:20])"
   ]
  },
  {
   "cell_type": "code",
   "execution_count": 32,
   "metadata": {},
   "outputs": [
    {
     "name": "stdout",
     "output_type": "stream",
     "text": [
      "CGTAACAAGGTTTCCGTAGGTGAACCTGCGGAAGGATCATTGTTGAGAXCXCAXAATAAXTGATCGAGTTAATCXGGAGGAXCXGTGGTTACTTTGGTCXCCCATGGGCXTTTXGCTXTTGXXGTGACCXXGGAXTTTGCCATCGAGGGAGCCTCCTTGGGAGCTTTCTTGXTGGCGAGATXTXAACCCCTXGCCCGGCGCAGTTTGTGCGCCAAGTCAXTATGAXACXATAAXXGGXGXAXGXCATXXTXXTCXXXXXAXXXXGGGXXXNNXGGGGXGGCXATXXCTXXCCXXTGACXXXXXXXXXXXXXXXXXXXXCCXXCCCCXAAXXAXTTTTXXTTXXXXXACAACTCTCXGXCAAACGGGACGTATCTCGGCTCTTTGCATCGATNNTXGAAGAATCGCAGCGAAAXTGCGATAAXXTGGTGTGAATTGCAGAATCCCCGTGAANCCATCGAGTCTTTXGAACGCAAGTTGCGCCCGAGGCCATCAGGCXAAGGGCACGCCTGCCTGGGCXTTGCGXGXXXXATCTCTCTCCCTTTXXXXATGGCTGXCCAXXCATAXACTGTTCXGCCGGCATTGTGCGGATGTGAAAGTTTGGCCCCTTGTTCTTXGGTXCGGXGGGTCTAAGAXCTGCATGGGCTTTTGATGGTACCXCAAATXCGGCAAGAGGTGGACGXACXXTGGCTXCTAXACAAAXXTGTTGTXGTGCGAATGCCCCXXGTTGTCGTATTXGATGGGXCCAXCATAATCTXTAAXACCCTTTTGAACCCCCATTGGATGGCXCATCAACCCAACCXCATGXXCXGTTTGAXGGGCCATTTGGGXTGCGACCCCAGGTCAGGTGAGGCXACCCGCTGAGTTTAXXX\n"
     ]
    }
   ],
   "source": [
    "#get summary info\n",
    "from Bio.Align import AlignInfo\n",
    "summary_align = AlignInfo.SummaryInfo(orchid)\n",
    "consensus = summary_align.dumb_consensus()\n",
    "print(consensus)"
   ]
  },
  {
   "cell_type": "code",
   "execution_count": 33,
   "metadata": {},
   "outputs": [
    {
     "name": "stdout",
     "output_type": "stream",
     "text": [
      "consensus sequence:  CGTAACAAGG\n",
      "    A   C   G   T\n",
      "C  0.0 83.0 0.0 0.0\n",
      "G  0.0 1.0 82.0 1.0\n",
      "T  0.0 0.0 1.0 83.0\n",
      "A  82.0 2.0 0.0 0.0\n",
      "A  84.0 0.0 0.0 0.0\n",
      "C  0.0 84.0 0.0 0.0\n",
      "A  76.0 6.0 2.0 0.0\n",
      "A  83.0 0.0 0.0 1.0\n",
      "G  0.0 0.0 84.0 0.0\n",
      "G  0.0 0.0 84.0 0.0\n",
      "\n"
     ]
    }
   ],
   "source": [
    "# Position specific weight matrix for bp 100-110\n",
    "summary_align = AlignInfo.SummaryInfo(orchid[:,0:10])\n",
    "consensus = summary_align.dumb_consensus()\n",
    "print(\"consensus sequence: \",consensus)\n",
    "my_pssm = summary_align.pos_specific_score_matrix(consensus, chars_to_ignore = ['N'])\n",
    "print(my_pssm)"
   ]
  },
  {
   "cell_type": "markdown",
   "metadata": {},
   "source": [
    "## Trees and Phylogenetics\n",
    "bipython also gives us lots of basic functionality for dealing with trees. this includes reading/writing/converting trees, tree visualization tools, and interfaces to external phylogenetics packages such as phylip and PAML\n",
    "\n",
    "To start I've included a toy tree example named `tree.newick` in the notebooks directory. That file is written in the [Newick](https://en.wikipedia.org/wiki/Newick_format) format which uses a series of parentheses to describe the relations of taxa up a tree. In this case I've used the tree\n",
    "\n",
    "`(((1,2),(3,4)),(5,6));`\n",
    "\n",
    "We will start by reading in the tree and using the native print() to summarize it"
   ]
  },
  {
   "cell_type": "code",
   "execution_count": 35,
   "metadata": {},
   "outputs": [
    {
     "name": "stdout",
     "output_type": "stream",
     "text": [
      "Tree(rooted=False, weight=1.0)\n",
      "    Clade()\n",
      "        Clade()\n",
      "            Clade()\n",
      "                Clade(name='1')\n",
      "                Clade(name='2')\n",
      "            Clade()\n",
      "                Clade(name='3')\n",
      "                Clade(name='4')\n",
      "        Clade()\n",
      "            Clade(name='5')\n",
      "            Clade(name='6')\n"
     ]
    }
   ],
   "source": [
    "from Bio import Phylo\n",
    "\n",
    "tree = Phylo.read(\"tree.newick\", \"newick\")\n",
    "print(tree)"
   ]
  },
  {
   "cell_type": "markdown",
   "metadata": {},
   "source": [
    "We can also draw the tree quite easily"
   ]
  },
  {
   "cell_type": "code",
   "execution_count": 36,
   "metadata": {},
   "outputs": [
    {
     "data": {
      "image/png": "[encoded data removed]",
      "text/plain": [
       "<Figure size 432x288 with 1 Axes>"
      ]
     },
     "metadata": {
      "needs_background": "light"
     },
     "output_type": "display_data"
    }
   ],
   "source": [
    "Phylo.draw(tree)"
   ]
  },
  {
   "cell_type": "code",
   "execution_count": 37,
   "metadata": {},
   "outputs": [
    {
     "data": {
      "image/png": "[encoded data removed]",
      "text/plain": [
       "<Figure size 432x288 with 1 Axes>"
      ]
     },
     "metadata": {
      "needs_background": "light"
     },
     "output_type": "display_data"
    }
   ],
   "source": [
    "mrca = tree.common_ancestor({\"name\": \"1\"}, {\"name\": \"3\"})\n",
    "mrca.color=\"cyan\"\n",
    "Phylo.draw(tree)"
   ]
  },
  {
   "cell_type": "markdown",
   "metadata": {},
   "source": [
    "## Using PAML for phylogenetics\n",
    "For a number of you in here phylogenetics will be one of your common use points for computational biology. biopython has all these neat built ins that help you do things efficiently, without having to reinvent the wheel. \n",
    "\n",
    "Among these there exists a nice interface with the popular PAML software package. PAML allows us to perform maximum likelihood phylogenetic estimation in a flexible way. The reason it is so popular though is that it implements a number of tests for positive selection using comparisons of the rate of substitution between synonymous sites ($dS$) and nonsynonymous sites ($dN$). Briefly PAML can estimate the ratio of substitutions rates $\\omega = dN / dS$. If all mutations had no effect on fitness than we should expect these rates to be equivalent and $\\omega = 1$. If however most mutations at nonsynonymous sites were harmful and thus deleterious to the fitness of the organism, we would expect $\\omega < 1$. If on the other nonsynonymous mutations were beneficial on average we could expect $\\omega > 1$.\n",
    "\n",
    "Let's use PAML quickly to play with these ideas."
   ]
  },
  {
   "cell_type": "code",
   "execution_count": 38,
   "metadata": {},
   "outputs": [],
   "source": [
    "from Bio.Phylo.PAML import codeml\n",
    "cml = codeml.Codeml(alignment = \"lysozymeSmall.txt\", tree = \"lysozymeSmall.trees\",\n",
    "                    out_file = \"results.out\", working_dir = \".\")\n"
   ]
  },
  {
   "cell_type": "code",
   "execution_count": 39,
   "metadata": {},
   "outputs": [
    {
     "name": "stdout",
     "output_type": "stream",
     "text": [
      "noisy = 9\n",
      "verbose = 1\n",
      "runmode = 0\n",
      "seqtype = 1\n",
      "CodonFreq = 2\n",
      "ndata = None\n",
      "clock = 0\n",
      "aaDist = None\n",
      "aaRatefile = None\n",
      "model = 2\n",
      "NSsites = 0\n",
      "icode = 0\n",
      "Mgene = None\n",
      "fix_kappa = 0\n",
      "kappa = 2\n",
      "fix_omega = 0\n",
      "omega = 1\n",
      "fix_alpha = 1\n",
      "alpha = 0.0\n",
      "Malpha = 0\n",
      "ncatG = 4\n",
      "getSE = 0\n",
      "RateAncestor = 0\n",
      "Small_Diff = None\n",
      "cleandata = None\n",
      "fix_blength = None\n",
      "method = 0\n",
      "rho = None\n",
      "fix_rho = None\n"
     ]
    }
   ],
   "source": [
    "#set some PAML options\n",
    "#can set them manually\n",
    "cml.set_options(noisy=9,verbose=1,runmode=0,seqtype=1)\n",
    "#or with a control file\n",
    "cml.read_ctl_file(\"lysozymeSmall.ctl\")\n",
    "cml.print_options()"
   ]
  },
  {
   "cell_type": "code",
   "execution_count": 40,
   "metadata": {},
   "outputs": [],
   "source": [
    "result_dict=cml.run()"
   ]
  },
  {
   "cell_type": "code",
   "execution_count": 41,
   "metadata": {},
   "outputs": [
    {
     "name": "stdout",
     "output_type": "stream",
     "text": [
      "version\n",
      "model\n",
      "codon model\n",
      "NSsites\n",
      "\n",
      "several dN/dS ratios for branches for branches, \n"
     ]
    }
   ],
   "source": [
    "for k in result_dict.keys():\n",
    "    print(k)\n",
    "print()    \n",
    "print(result_dict['model'])"
   ]
  },
  {
   "cell_type": "code",
   "execution_count": 42,
   "metadata": {},
   "outputs": [
    {
     "name": "stdout",
     "output_type": "stream",
     "text": [
      "['description', 'lnL', 'tree length', 'tree', 'parameters']\n",
      "[0.68581, 3.50573]\n"
     ]
    }
   ],
   "source": [
    "print(list(result_dict['NSsites'][0].keys()))\n",
    "print(list(result_dict['NSsites'][0]['parameters']['omega']))\n"
   ]
  },
  {
   "cell_type": "code",
   "execution_count": 43,
   "metadata": {},
   "outputs": [
    {
     "data": {
      "text/plain": [
       "{'version': '4.9',\n",
       " 'model': 'several dN/dS ratios for branches for branches, ',\n",
       " 'codon model': 'F3x4',\n",
       " 'NSsites': {0: {'description': 'one-ratio',\n",
       "   'lnL': -904.636553,\n",
       "   'tree length': 0.55905,\n",
       "   'tree': '((1: 0.025569, 2: 0.038928): 0.070001, ((3: 0.043878, 4: 0.052150): 0.079045, 5: 0.019486): 0.043879, (6: 0.041033, 7: 0.023778): 0.121307);',\n",
       "   'parameters': {'parameter list': '0.070001 0.025569 0.038928 0.043879 0.079045 0.043878 0.052150 0.019486 0.121307 0.041033 0.023778 4.561200 0.685810 3.505729',\n",
       "    'kappa': 4.5612,\n",
       "    'omega': [0.68581, 3.50573],\n",
       "    'branches': {'8..9': {'t': 0.07,\n",
       "      'N': 282.2,\n",
       "      'S': 107.8,\n",
       "      'omega': 0.6858,\n",
       "      'dN': 0.0207,\n",
       "      'dS': 0.0302,\n",
       "      'N*dN': 5.8,\n",
       "      'S*dS': 3.3},\n",
       "     '9..1': {'t': 0.026,\n",
       "      'N': 282.2,\n",
       "      'S': 107.8,\n",
       "      'omega': 0.6858,\n",
       "      'dN': 0.0076,\n",
       "      'dS': 0.011,\n",
       "      'N*dN': 2.1,\n",
       "      'S*dS': 1.2},\n",
       "     '9..2': {'t': 0.039,\n",
       "      'N': 282.2,\n",
       "      'S': 107.8,\n",
       "      'omega': 0.6858,\n",
       "      'dN': 0.0115,\n",
       "      'dS': 0.0168,\n",
       "      'N*dN': 3.2,\n",
       "      'S*dS': 1.8},\n",
       "     '8..10': {'t': 0.044,\n",
       "      'N': 282.2,\n",
       "      'S': 107.8,\n",
       "      'omega': 0.6858,\n",
       "      'dN': 0.013,\n",
       "      'dS': 0.0189,\n",
       "      'N*dN': 3.7,\n",
       "      'S*dS': 2.0},\n",
       "     '10..11': {'t': 0.079,\n",
       "      'N': 282.2,\n",
       "      'S': 107.8,\n",
       "      'omega': 3.5057,\n",
       "      'dN': 0.0328,\n",
       "      'dS': 0.0094,\n",
       "      'N*dN': 9.3,\n",
       "      'S*dS': 1.0},\n",
       "     '11..3': {'t': 0.044,\n",
       "      'N': 282.2,\n",
       "      'S': 107.8,\n",
       "      'omega': 0.6858,\n",
       "      'dN': 0.013,\n",
       "      'dS': 0.0189,\n",
       "      'N*dN': 3.7,\n",
       "      'S*dS': 2.0},\n",
       "     '11..4': {'t': 0.052,\n",
       "      'N': 282.2,\n",
       "      'S': 107.8,\n",
       "      'omega': 0.6858,\n",
       "      'dN': 0.0154,\n",
       "      'dS': 0.0225,\n",
       "      'N*dN': 4.4,\n",
       "      'S*dS': 2.4},\n",
       "     '10..5': {'t': 0.019,\n",
       "      'N': 282.2,\n",
       "      'S': 107.8,\n",
       "      'omega': 0.6858,\n",
       "      'dN': 0.0058,\n",
       "      'dS': 0.0084,\n",
       "      'N*dN': 1.6,\n",
       "      'S*dS': 0.9},\n",
       "     '8..12': {'t': 0.121,\n",
       "      'N': 282.2,\n",
       "      'S': 107.8,\n",
       "      'omega': 0.6858,\n",
       "      'dN': 0.0359,\n",
       "      'dS': 0.0523,\n",
       "      'N*dN': 10.1,\n",
       "      'S*dS': 5.6},\n",
       "     '12..6': {'t': 0.041,\n",
       "      'N': 282.2,\n",
       "      'S': 107.8,\n",
       "      'omega': 0.6858,\n",
       "      'dN': 0.0121,\n",
       "      'dS': 0.0177,\n",
       "      'N*dN': 3.4,\n",
       "      'S*dS': 1.9},\n",
       "     '12..7': {'t': 0.024,\n",
       "      'N': 282.2,\n",
       "      'S': 107.8,\n",
       "      'omega': 0.6858,\n",
       "      'dN': 0.007,\n",
       "      'dS': 0.0103,\n",
       "      'N*dN': 2.0,\n",
       "      'S*dS': 1.1}},\n",
       "    'dN': 0.1749,\n",
       "    'dS': 0.2164}}}}"
      ]
     },
     "execution_count": 43,
     "metadata": {},
     "output_type": "execute_result"
    }
   ],
   "source": [
    "result_dict"
   ]
  },
  {
   "cell_type": "code",
   "execution_count": null,
   "metadata": {},
   "outputs": [],
   "source": []
  },
  {
   "cell_type": "code",
   "execution_count": null,
   "metadata": {},
   "outputs": [],
   "source": []
  }
 ],
 "metadata": {
  "kernelspec": {
   "display_name": "Python 3",
   "language": "python",
   "name": "python3"
  },
  "language_info": {
   "codemirror_mode": {
    "name": "ipython",
    "version": 3
   },
   "file_extension": ".py",
   "mimetype": "text/x-python",
   "name": "python",
   "nbconvert_exporter": "python",
   "pygments_lexer": "ipython3",
   "version": "3.7.6"
  }
 },
 "nbformat": 4,
 "nbformat_minor": 4
}
