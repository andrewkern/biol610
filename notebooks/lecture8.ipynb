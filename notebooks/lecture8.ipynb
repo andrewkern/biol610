{
 "cells": [
  {
   "cell_type": "markdown",
   "metadata": {},
   "source": [
    "# Biopython \n",
    "For anyone working with DNA or protein sequence information, `biopython` provides an extremely helpful set of tools. biopython gives the user the ability to programatically interact with biological sequence data and includes plugins to popular alignment and homology search algorithms such as BLAST or CLUSTAL, phylogenetic packages, and much more. We will barely scratch the surface today in the kinds of things that one can accomplish, so if you are interested you can start reading the documation [here](https://biopython.org/wiki/Documentation).\n",
    "\n",
    "## Installing biopython\n",
    "The first order of business is to install biopython on your system. Do that by using the command line or the anaconda prompt (on Windows systems) and type\n",
    "\n",
    "`conda install -c anaconda biopython`\n",
    "\n",
    "that should be all that is needed\n",
    "\n",
    "## Working with sequences\n",
    "The first use case for us will be working with DNA sequences using biopython. biopython provides for us a `Seq` object, that contains at it's heart a string of biological sequence but that \"knows\" how to do certain tricks"
   ]
  },
  {
   "cell_type": "code",
   "execution_count": 7,
   "metadata": {},
   "outputs": [
    {
     "name": "stdout",
     "output_type": "stream",
     "text": [
      "AGTATCTTTGGT\n",
      "TCATAGAAACCA\n",
      "ACCAAAGATACT\n"
     ]
    }
   ],
   "source": [
    "from Bio.Seq import Seq\n",
    "my_seq = Seq(\"AGTATCTTTGGT\")\n",
    "print(my_seq)\n",
    "\n",
    "print(my_seq.complement())\n",
    "print(my_seq.reverse_complement())"
   ]
  },
  {
   "cell_type": "markdown",
   "metadata": {},
   "source": [
    "Aside from containing strings `Seq` objects also have an alphabet that can be set so that the object is even a bit smarter. For instance"
   ]
  },
  {
   "cell_type": "code",
   "execution_count": 9,
   "metadata": {},
   "outputs": [
    {
     "name": "stdout",
     "output_type": "stream",
     "text": [
      "Alphabet()\n",
      "IUPACUnambiguousDNA()\n"
     ]
    }
   ],
   "source": [
    "my_seq = Seq(\"AGTATCTTTGGT\")\n",
    "#check the alphabet of my_seq\n",
    "print(my_seq.alphabet) #returns a generic thing\n",
    "\n",
    "#set alphabet specifically\n",
    "from Bio.Alphabet import IUPAC\n",
    "my_seq = Seq(\"AGTATCTTTGGT\",IUPAC.unambiguous_dna)\n",
    "print(my_seq.alphabet)"
   ]
  },
  {
   "cell_type": "markdown",
   "metadata": {},
   "source": [
    "sequences generally behave as strings, meaning that you can index them and iterate over them, etc."
   ]
  },
  {
   "cell_type": "code",
   "execution_count": 13,
   "metadata": {},
   "outputs": [
    {
     "name": "stdout",
     "output_type": "stream",
     "text": [
      "A\n",
      "G\n",
      "T\n",
      "A\n",
      "T\n",
      "C\n",
      "T\n",
      "T\n",
      "T\n",
      "G\n",
      "G\n",
      "T\n",
      "here is my_seq[0]:  A\n"
     ]
    }
   ],
   "source": [
    "for c in my_seq:\n",
    "    print(c)\n",
    "    \n",
    "print(\"here is my_seq[0]: \",my_seq[0])"
   ]
  },
  {
   "cell_type": "code",
   "execution_count": 26,
   "metadata": {},
   "outputs": [
    {
     "name": "stdout",
     "output_type": "stream",
     "text": [
      "AGTATCTTTGGT\n",
      "percent GC  33.333333333333336\n",
      "\n",
      "\n",
      "GC_Frame: a:2 t:6 g:3 c:1 \n",
      "Sequence: agtatctttggt, 12 nt, 33.33 %GC\n",
      "\n",
      "\n",
      "1/1\n",
      "  Y  L  W\n",
      " V  S  L\n",
      "S  I  F  G\n",
      "agtatctttggt   33 %\n",
      "tcatagaaacca\n",
      "I  K  P \n",
      " T  D  K  T\n",
      "  Y  R  Q\n",
      "\n",
      "\n"
     ]
    }
   ],
   "source": [
    "#compute GC percentage / 6-frame tx\n",
    "from Bio.SeqUtils import GC,six_frame_translations\n",
    "print(my_seq)\n",
    "print(\"percent GC \",GC(my_seq))\n",
    "print(\"\\n\")\n",
    "print(six_frame_translations(my_seq))"
   ]
  },
  {
   "cell_type": "markdown",
   "metadata": {},
   "source": [
    "there are many other basic sequence utilities that biopython provides. you have to wade through the sequtils documentation a bit to find out everything that it can do out of the box.\n",
    "\n",
    "## Reading in sequences\n",
    "Perhaps the single most useful thing that biopython provides is basic utilities to read and write from common data formats such as fasta and fastq. These parsers really aid in our ability to quickly make headway on even sophisticated datasets. We will work with a set of orchid rRNA gene sequences that you can download [here](https://raw.githubusercontent.com/biopython/biopython/master/Doc/examples/ls_orchid.fasta) although I have also included the file in the github repo notebooks directory.\n",
    "\n"
   ]
  },
  {
   "cell_type": "code",
   "execution_count": 31,
   "metadata": {},
   "outputs": [
    {
     "name": "stdout",
     "output_type": "stream",
     "text": [
      "id:  gi|2765658|emb|Z78533.1|CIZ78533 length:  740\n",
      "id:  gi|2765657|emb|Z78532.1|CCZ78532 length:  753\n",
      "id:  gi|2765656|emb|Z78531.1|CFZ78531 length:  748\n",
      "id:  gi|2765655|emb|Z78530.1|CMZ78530 length:  744\n",
      "id:  gi|2765654|emb|Z78529.1|CLZ78529 length:  733\n",
      "id:  gi|2765652|emb|Z78527.1|CYZ78527 length:  718\n",
      "id:  gi|2765651|emb|Z78526.1|CGZ78526 length:  730\n",
      "id:  gi|2765650|emb|Z78525.1|CAZ78525 length:  704\n",
      "id:  gi|2765649|emb|Z78524.1|CFZ78524 length:  740\n",
      "id:  gi|2765648|emb|Z78523.1|CHZ78523 length:  709\n",
      "id:  gi|2765647|emb|Z78522.1|CMZ78522 length:  700\n",
      "id:  gi|2765646|emb|Z78521.1|CCZ78521 length:  726\n",
      "id:  gi|2765645|emb|Z78520.1|CSZ78520 length:  753\n",
      "id:  gi|2765644|emb|Z78519.1|CPZ78519 length:  699\n",
      "id:  gi|2765643|emb|Z78518.1|CRZ78518 length:  658\n",
      "id:  gi|2765642|emb|Z78517.1|CFZ78517 length:  752\n",
      "id:  gi|2765641|emb|Z78516.1|CPZ78516 length:  726\n",
      "id:  gi|2765640|emb|Z78515.1|MXZ78515 length:  765\n",
      "id:  gi|2765639|emb|Z78514.1|PSZ78514 length:  755\n",
      "id:  gi|2765638|emb|Z78513.1|PBZ78513 length:  742\n",
      "id:  gi|2765637|emb|Z78512.1|PWZ78512 length:  762\n",
      "id:  gi|2765636|emb|Z78511.1|PEZ78511 length:  745\n",
      "id:  gi|2765635|emb|Z78510.1|PCZ78510 length:  750\n",
      "id:  gi|2765634|emb|Z78509.1|PPZ78509 length:  731\n",
      "id:  gi|2765633|emb|Z78508.1|PLZ78508 length:  741\n",
      "id:  gi|2765632|emb|Z78507.1|PLZ78507 length:  740\n",
      "id:  gi|2765631|emb|Z78506.1|PLZ78506 length:  727\n",
      "id:  gi|2765630|emb|Z78505.1|PSZ78505 length:  711\n",
      "id:  gi|2765629|emb|Z78504.1|PKZ78504 length:  743\n",
      "id:  gi|2765628|emb|Z78503.1|PCZ78503 length:  727\n",
      "id:  gi|2765627|emb|Z78502.1|PBZ78502 length:  757\n",
      "id:  gi|2765626|emb|Z78501.1|PCZ78501 length:  770\n",
      "id:  gi|2765625|emb|Z78500.1|PWZ78500 length:  767\n",
      "id:  gi|2765624|emb|Z78499.1|PMZ78499 length:  759\n",
      "id:  gi|2765623|emb|Z78498.1|PMZ78498 length:  750\n",
      "id:  gi|2765622|emb|Z78497.1|PDZ78497 length:  788\n",
      "id:  gi|2765621|emb|Z78496.1|PAZ78496 length:  774\n",
      "id:  gi|2765620|emb|Z78495.1|PEZ78495 length:  789\n",
      "id:  gi|2765619|emb|Z78494.1|PNZ78494 length:  688\n",
      "id:  gi|2765618|emb|Z78493.1|PGZ78493 length:  719\n",
      "id:  gi|2765617|emb|Z78492.1|PBZ78492 length:  743\n",
      "id:  gi|2765616|emb|Z78491.1|PCZ78491 length:  737\n",
      "id:  gi|2765615|emb|Z78490.1|PFZ78490 length:  728\n",
      "id:  gi|2765614|emb|Z78489.1|PDZ78489 length:  740\n",
      "id:  gi|2765613|emb|Z78488.1|PTZ78488 length:  696\n",
      "id:  gi|2765612|emb|Z78487.1|PHZ78487 length:  732\n",
      "id:  gi|2765611|emb|Z78486.1|PBZ78486 length:  731\n",
      "id:  gi|2765610|emb|Z78485.1|PHZ78485 length:  735\n",
      "id:  gi|2765609|emb|Z78484.1|PCZ78484 length:  720\n",
      "id:  gi|2765608|emb|Z78483.1|PVZ78483 length:  740\n",
      "id:  gi|2765607|emb|Z78482.1|PEZ78482 length:  629\n",
      "id:  gi|2765606|emb|Z78481.1|PIZ78481 length:  572\n",
      "id:  gi|2765605|emb|Z78480.1|PGZ78480 length:  587\n",
      "id:  gi|2765604|emb|Z78479.1|PPZ78479 length:  700\n",
      "id:  gi|2765603|emb|Z78478.1|PVZ78478 length:  636\n",
      "id:  gi|2765602|emb|Z78477.1|PVZ78477 length:  716\n",
      "id:  gi|2765601|emb|Z78476.1|PGZ78476 length:  592\n",
      "id:  gi|2765600|emb|Z78475.1|PSZ78475 length:  716\n",
      "id:  gi|2765599|emb|Z78474.1|PKZ78474 length:  733\n",
      "id:  gi|2765598|emb|Z78473.1|PSZ78473 length:  626\n",
      "id:  gi|2765597|emb|Z78472.1|PLZ78472 length:  737\n",
      "id:  gi|2765596|emb|Z78471.1|PDZ78471 length:  740\n",
      "id:  gi|2765595|emb|Z78470.1|PPZ78470 length:  574\n",
      "id:  gi|2765594|emb|Z78469.1|PHZ78469 length:  594\n",
      "id:  gi|2765593|emb|Z78468.1|PAZ78468 length:  610\n",
      "id:  gi|2765592|emb|Z78467.1|PSZ78467 length:  730\n",
      "id:  gi|2765591|emb|Z78466.1|PPZ78466 length:  641\n",
      "id:  gi|2765590|emb|Z78465.1|PRZ78465 length:  702\n",
      "id:  gi|2765589|emb|Z78464.1|PGZ78464 length:  733\n",
      "id:  gi|2765588|emb|Z78463.1|PGZ78463 length:  738\n",
      "id:  gi|2765587|emb|Z78462.1|PSZ78462 length:  736\n",
      "id:  gi|2765586|emb|Z78461.1|PWZ78461 length:  732\n",
      "id:  gi|2765585|emb|Z78460.1|PCZ78460 length:  745\n",
      "id:  gi|2765584|emb|Z78459.1|PDZ78459 length:  744\n",
      "id:  gi|2765583|emb|Z78458.1|PHZ78458 length:  738\n",
      "id:  gi|2765582|emb|Z78457.1|PCZ78457 length:  739\n",
      "id:  gi|2765581|emb|Z78456.1|PTZ78456 length:  740\n",
      "id:  gi|2765580|emb|Z78455.1|PJZ78455 length:  745\n",
      "id:  gi|2765579|emb|Z78454.1|PFZ78454 length:  695\n",
      "id:  gi|2765578|emb|Z78453.1|PSZ78453 length:  745\n",
      "id:  gi|2765577|emb|Z78452.1|PBZ78452 length:  743\n",
      "id:  gi|2765576|emb|Z78451.1|PHZ78451 length:  730\n",
      "id:  gi|2765575|emb|Z78450.1|PPZ78450 length:  706\n",
      "id:  gi|2765574|emb|Z78449.1|PMZ78449 length:  744\n",
      "id:  gi|2765573|emb|Z78448.1|PAZ78448 length:  742\n",
      "id:  gi|2765572|emb|Z78447.1|PVZ78447 length:  694\n",
      "id:  gi|2765571|emb|Z78446.1|PAZ78446 length:  712\n",
      "id:  gi|2765570|emb|Z78445.1|PUZ78445 length:  715\n",
      "id:  gi|2765569|emb|Z78444.1|PAZ78444 length:  688\n",
      "id:  gi|2765568|emb|Z78443.1|PLZ78443 length:  784\n",
      "id:  gi|2765567|emb|Z78442.1|PBZ78442 length:  721\n",
      "id:  gi|2765566|emb|Z78441.1|PSZ78441 length:  703\n",
      "id:  gi|2765565|emb|Z78440.1|PPZ78440 length:  744\n",
      "id:  gi|2765564|emb|Z78439.1|PBZ78439 length:  592\n",
      "gi|2765658|emb|Z78533.1|CIZ78533\n",
      "gi|2765658|emb|Z78533.1|CIZ78533 C.irapeanum 5.8S rRNA gene and ITS1 and ITS2 DNA\n",
      "gi|2765657|emb|Z78532.1|CCZ78532\n",
      "gi|2765657|emb|Z78532.1|CCZ78532 C.californicum 5.8S rRNA gene and ITS1 and ITS2 DNA\n"
     ]
    }
   ],
   "source": [
    "from Bio import SeqIO\n",
    "for seq_record in SeqIO.parse(\"ls_orchid.fasta\", \"fasta\"):\n",
    "    print(\"id: \",seq_record.id,\"length: \",len(seq_record.seq))\n"
   ]
  },
  {
   "cell_type": "code",
   "execution_count": null,
   "metadata": {},
   "outputs": [],
   "source": []
  }
 ],
 "metadata": {
  "kernelspec": {
   "display_name": "Python 3",
   "language": "python",
   "name": "python3"
  },
  "language_info": {
   "codemirror_mode": {
    "name": "ipython",
    "version": 3
   },
   "file_extension": ".py",
   "mimetype": "text/x-python",
   "name": "python",
   "nbconvert_exporter": "python",
   "pygments_lexer": "ipython3",
   "version": "3.6.7"
  }
 },
 "nbformat": 4,
 "nbformat_minor": 2
}
