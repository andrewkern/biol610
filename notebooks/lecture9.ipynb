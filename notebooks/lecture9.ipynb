{
 "cells": [
  {
   "cell_type": "markdown",
   "metadata": {},
   "source": [
    "# Pandas\n",
    "The pandas library provides an amazingly rich set of tools for data inport, export, cleaning, and more. We will use it here for bringing in a large dataset of insect egg morphometrics that was recently preprinted in this [paper](https://www.biorxiv.org/content/early/2018/11/19/471953?rss=1). The authors have deposited the data into a convential [github repo](https://github.com/shchurch/Insect_Egg_Evolution) for people like us to play with. I've already gone ahead and downloaded the data to the repo for this class and put it within the notebooks directory"
   ]
  },
  {
   "cell_type": "code",
   "execution_count": 1,
   "metadata": {},
   "outputs": [],
   "source": [
    "import pandas as pd\n",
    "from pandas import Series, DataFrame\n"
   ]
  },
  {
   "cell_type": "markdown",
   "metadata": {},
   "source": [
    "the two main data structes that pandas adds for us are `Series` and `DataFrame`. `Series` is a one dimensionsal array-like object that contains an array of data and an associated array of data labels, called its *index*. We can create a Series from a list of data"
   ]
  },
  {
   "cell_type": "code",
   "execution_count": 2,
   "metadata": {},
   "outputs": [
    {
     "data": {
      "text/plain": [
       "0    4\n",
       "1    3\n",
       "2    8\n",
       "3   -9\n",
       "dtype: int64"
      ]
     },
     "execution_count": 2,
     "metadata": {},
     "output_type": "execute_result"
    }
   ],
   "source": [
    "aSer = Series([4,3,8,-9])\n",
    "aSer"
   ]
  },
  {
   "cell_type": "markdown",
   "metadata": {},
   "source": [
    "the default behavior is to set the index for the observations we hand it from the integers 0 through n-1. We can query both the index and the values of our series"
   ]
  },
  {
   "cell_type": "code",
   "execution_count": 3,
   "metadata": {},
   "outputs": [
    {
     "name": "stdout",
     "output_type": "stream",
     "text": [
      "[ 4  3  8 -9]\n",
      "RangeIndex(start=0, stop=4, step=1)\n"
     ]
    }
   ],
   "source": [
    "print(aSer.values)\n",
    "print(aSer.index)"
   ]
  },
  {
   "cell_type": "markdown",
   "metadata": {},
   "source": [
    "we can also manually set the index of our data if we so choose"
   ]
  },
  {
   "cell_type": "code",
   "execution_count": 5,
   "metadata": {},
   "outputs": [
    {
     "data": {
      "text/plain": [
       "a    4\n",
       "b    3\n",
       "c    8\n",
       "d   -9\n",
       "dtype: int64"
      ]
     },
     "execution_count": 5,
     "metadata": {},
     "output_type": "execute_result"
    }
   ],
   "source": [
    "aSer = Series([4,3,8,-9],index=['a','b','c','d'])\n",
    "aSer"
   ]
  },
  {
   "cell_type": "markdown",
   "metadata": {},
   "source": [
    "with this sort of index, we can get values out accordingly directly as well"
   ]
  },
  {
   "cell_type": "code",
   "execution_count": 6,
   "metadata": {},
   "outputs": [
    {
     "name": "stdout",
     "output_type": "stream",
     "text": [
      "a    4\n",
      "c    8\n",
      "dtype: int64\n",
      "<class 'pandas.core.series.Series'>\n"
     ]
    }
   ],
   "source": [
    "#print(aSer['a'])\n",
    "bSer = aSer[['a','c']]\n",
    "print(bSer)\n",
    "print(type(bSer))"
   ]
  },
  {
   "cell_type": "markdown",
   "metadata": {},
   "source": [
    "Series are basically like dicts with a particular order enforced. Indeed it is trivial to go between a dict and a Series-- the keys from the dict are used for the index."
   ]
  },
  {
   "cell_type": "code",
   "execution_count": 7,
   "metadata": {},
   "outputs": [
    {
     "data": {
      "text/plain": [
       "Brooklyn         1\n",
       "Queens           3\n",
       "The Bronx        4\n",
       "Staten Island    5\n",
       "Manhattan        2\n",
       "dtype: int64"
      ]
     },
     "execution_count": 7,
     "metadata": {},
     "output_type": "execute_result"
    }
   ],
   "source": [
    "aDict = {'Brooklyn':1, 'Queens':3, 'The Bronx':4, 'Staten Island':5, 'Manhattan':2}\n",
    "boroSeries = Series(aDict)\n",
    "boroSeries"
   ]
  },
  {
   "cell_type": "markdown",
   "metadata": {},
   "source": [
    "## DataFrames\n",
    "Series are fine but what makes pandas useful is DataFrames. DataFrames represent spreadsheet-like data for us by containing an ordered collection of columns, each of which can be of it's own data type. DataFrames have an index on rows and columns, and are loosely a dict of Series.\n",
    "\n",
    "We can quickly set up a small data frame to play with"
   ]
  },
  {
   "cell_type": "code",
   "execution_count": 9,
   "metadata": {},
   "outputs": [
    {
     "data": {
      "text/html": [
       "<div>\n",
       "<style scoped>\n",
       "    .dataframe tbody tr th:only-of-type {\n",
       "        vertical-align: middle;\n",
       "    }\n",
       "\n",
       "    .dataframe tbody tr th {\n",
       "        vertical-align: top;\n",
       "    }\n",
       "\n",
       "    .dataframe thead th {\n",
       "        text-align: right;\n",
       "    }\n",
       "</style>\n",
       "<table border=\"1\" class=\"dataframe\">\n",
       "  <thead>\n",
       "    <tr style=\"text-align: right;\">\n",
       "      <th></th>\n",
       "      <th>boro</th>\n",
       "      <th>rank</th>\n",
       "      <th>popnSize</th>\n",
       "    </tr>\n",
       "  </thead>\n",
       "  <tbody>\n",
       "    <tr>\n",
       "      <th>0</th>\n",
       "      <td>Brooklyn</td>\n",
       "      <td>1</td>\n",
       "      <td>2639000.0</td>\n",
       "    </tr>\n",
       "    <tr>\n",
       "      <th>1</th>\n",
       "      <td>Queens</td>\n",
       "      <td>3</td>\n",
       "      <td>2359000.0</td>\n",
       "    </tr>\n",
       "    <tr>\n",
       "      <th>2</th>\n",
       "      <td>The Bronx</td>\n",
       "      <td>4</td>\n",
       "      <td>1471000.0</td>\n",
       "    </tr>\n",
       "    <tr>\n",
       "      <th>3</th>\n",
       "      <td>Staten Island</td>\n",
       "      <td>5</td>\n",
       "      <td>479000.0</td>\n",
       "    </tr>\n",
       "    <tr>\n",
       "      <th>4</th>\n",
       "      <td>Manhattan</td>\n",
       "      <td>2</td>\n",
       "      <td>1665000.0</td>\n",
       "    </tr>\n",
       "  </tbody>\n",
       "</table>\n",
       "</div>"
      ],
      "text/plain": [
       "            boro  rank   popnSize\n",
       "0       Brooklyn     1  2639000.0\n",
       "1         Queens     3  2359000.0\n",
       "2      The Bronx     4  1471000.0\n",
       "3  Staten Island     5   479000.0\n",
       "4      Manhattan     2  1665000.0"
      ]
     },
     "execution_count": 9,
     "metadata": {},
     "output_type": "execute_result"
    }
   ],
   "source": [
    "data = {'boro':['Brooklyn', 'Queens', 'The Bronx', 'Staten Island', 'Manhattan'],\n",
    "       'rank':[1,3,4,5,2],'popnSize':[2.639e06,2.359e06,1.471e06,4.79e05,1.665e06]}\n",
    "df = DataFrame(data)\n",
    "df"
   ]
  },
  {
   "cell_type": "markdown",
   "metadata": {},
   "source": [
    "we can retrieve series from our dataframe in two ways"
   ]
  },
  {
   "cell_type": "code",
   "execution_count": 10,
   "metadata": {},
   "outputs": [
    {
     "name": "stdout",
     "output_type": "stream",
     "text": [
      "0         Brooklyn\n",
      "1           Queens\n",
      "2        The Bronx\n",
      "3    Staten Island\n",
      "4        Manhattan\n",
      "Name: boro, dtype: object\n",
      "0    2639000.0\n",
      "1    2359000.0\n",
      "2    1471000.0\n",
      "3     479000.0\n",
      "4    1665000.0\n",
      "Name: popnSize, dtype: float64\n"
     ]
    }
   ],
   "source": [
    "print(df['boro'])\n",
    "#type(df['boro'])\n",
    "#or the other way\n",
    "print(df.popnSize)"
   ]
  },
  {
   "cell_type": "markdown",
   "metadata": {},
   "source": [
    "we can add new columns to our dataframe easily. for instance lets set up a new column asking if the population size of a boro is greater than 1 million residents"
   ]
  },
  {
   "cell_type": "code",
   "execution_count": 11,
   "metadata": {},
   "outputs": [
    {
     "data": {
      "text/html": [
       "<div>\n",
       "<style scoped>\n",
       "    .dataframe tbody tr th:only-of-type {\n",
       "        vertical-align: middle;\n",
       "    }\n",
       "\n",
       "    .dataframe tbody tr th {\n",
       "        vertical-align: top;\n",
       "    }\n",
       "\n",
       "    .dataframe thead th {\n",
       "        text-align: right;\n",
       "    }\n",
       "</style>\n",
       "<table border=\"1\" class=\"dataframe\">\n",
       "  <thead>\n",
       "    <tr style=\"text-align: right;\">\n",
       "      <th></th>\n",
       "      <th>boro</th>\n",
       "      <th>rank</th>\n",
       "      <th>popnSize</th>\n",
       "      <th>big</th>\n",
       "    </tr>\n",
       "  </thead>\n",
       "  <tbody>\n",
       "    <tr>\n",
       "      <th>0</th>\n",
       "      <td>Brooklyn</td>\n",
       "      <td>1</td>\n",
       "      <td>2639000.0</td>\n",
       "      <td>True</td>\n",
       "    </tr>\n",
       "    <tr>\n",
       "      <th>1</th>\n",
       "      <td>Queens</td>\n",
       "      <td>3</td>\n",
       "      <td>2359000.0</td>\n",
       "      <td>True</td>\n",
       "    </tr>\n",
       "    <tr>\n",
       "      <th>2</th>\n",
       "      <td>The Bronx</td>\n",
       "      <td>4</td>\n",
       "      <td>1471000.0</td>\n",
       "      <td>True</td>\n",
       "    </tr>\n",
       "    <tr>\n",
       "      <th>3</th>\n",
       "      <td>Staten Island</td>\n",
       "      <td>5</td>\n",
       "      <td>479000.0</td>\n",
       "      <td>False</td>\n",
       "    </tr>\n",
       "    <tr>\n",
       "      <th>4</th>\n",
       "      <td>Manhattan</td>\n",
       "      <td>2</td>\n",
       "      <td>1665000.0</td>\n",
       "      <td>True</td>\n",
       "    </tr>\n",
       "  </tbody>\n",
       "</table>\n",
       "</div>"
      ],
      "text/plain": [
       "            boro  rank   popnSize    big\n",
       "0       Brooklyn     1  2639000.0   True\n",
       "1         Queens     3  2359000.0   True\n",
       "2      The Bronx     4  1471000.0   True\n",
       "3  Staten Island     5   479000.0  False\n",
       "4      Manhattan     2  1665000.0   True"
      ]
     },
     "execution_count": 11,
     "metadata": {},
     "output_type": "execute_result"
    }
   ],
   "source": [
    "df['big'] = df.popnSize > 1e06\n",
    "df"
   ]
  },
  {
   "cell_type": "markdown",
   "metadata": {},
   "source": [
    "we can also set up a new column with a scalar"
   ]
  },
  {
   "cell_type": "code",
   "execution_count": 12,
   "metadata": {},
   "outputs": [
    {
     "data": {
      "text/html": [
       "<div>\n",
       "<style scoped>\n",
       "    .dataframe tbody tr th:only-of-type {\n",
       "        vertical-align: middle;\n",
       "    }\n",
       "\n",
       "    .dataframe tbody tr th {\n",
       "        vertical-align: top;\n",
       "    }\n",
       "\n",
       "    .dataframe thead th {\n",
       "        text-align: right;\n",
       "    }\n",
       "</style>\n",
       "<table border=\"1\" class=\"dataframe\">\n",
       "  <thead>\n",
       "    <tr style=\"text-align: right;\">\n",
       "      <th></th>\n",
       "      <th>boro</th>\n",
       "      <th>rank</th>\n",
       "      <th>popnSize</th>\n",
       "      <th>big</th>\n",
       "      <th>subway</th>\n",
       "    </tr>\n",
       "  </thead>\n",
       "  <tbody>\n",
       "    <tr>\n",
       "      <th>0</th>\n",
       "      <td>Brooklyn</td>\n",
       "      <td>1</td>\n",
       "      <td>2639000.0</td>\n",
       "      <td>True</td>\n",
       "      <td>1</td>\n",
       "    </tr>\n",
       "    <tr>\n",
       "      <th>1</th>\n",
       "      <td>Queens</td>\n",
       "      <td>3</td>\n",
       "      <td>2359000.0</td>\n",
       "      <td>True</td>\n",
       "      <td>1</td>\n",
       "    </tr>\n",
       "    <tr>\n",
       "      <th>2</th>\n",
       "      <td>The Bronx</td>\n",
       "      <td>4</td>\n",
       "      <td>1471000.0</td>\n",
       "      <td>True</td>\n",
       "      <td>1</td>\n",
       "    </tr>\n",
       "    <tr>\n",
       "      <th>3</th>\n",
       "      <td>Staten Island</td>\n",
       "      <td>5</td>\n",
       "      <td>479000.0</td>\n",
       "      <td>False</td>\n",
       "      <td>1</td>\n",
       "    </tr>\n",
       "    <tr>\n",
       "      <th>4</th>\n",
       "      <td>Manhattan</td>\n",
       "      <td>2</td>\n",
       "      <td>1665000.0</td>\n",
       "      <td>True</td>\n",
       "      <td>1</td>\n",
       "    </tr>\n",
       "  </tbody>\n",
       "</table>\n",
       "</div>"
      ],
      "text/plain": [
       "            boro  rank   popnSize    big  subway\n",
       "0       Brooklyn     1  2639000.0   True       1\n",
       "1         Queens     3  2359000.0   True       1\n",
       "2      The Bronx     4  1471000.0   True       1\n",
       "3  Staten Island     5   479000.0  False       1\n",
       "4      Manhattan     2  1665000.0   True       1"
      ]
     },
     "execution_count": 12,
     "metadata": {},
     "output_type": "execute_result"
    }
   ],
   "source": [
    "df['subway'] =1\n",
    "df"
   ]
  },
  {
   "cell_type": "markdown",
   "metadata": {},
   "source": [
    "The whole point of using these data frames is that we can do stuff to them once we have data in a dataframe. For instance we can sort dataframes, merge them, edit them easily, etc. \n",
    "\n",
    "Here let's do a sort by rank of the boros"
   ]
  },
  {
   "cell_type": "code",
   "execution_count": 13,
   "metadata": {},
   "outputs": [
    {
     "data": {
      "text/html": [
       "<div>\n",
       "<style scoped>\n",
       "    .dataframe tbody tr th:only-of-type {\n",
       "        vertical-align: middle;\n",
       "    }\n",
       "\n",
       "    .dataframe tbody tr th {\n",
       "        vertical-align: top;\n",
       "    }\n",
       "\n",
       "    .dataframe thead th {\n",
       "        text-align: right;\n",
       "    }\n",
       "</style>\n",
       "<table border=\"1\" class=\"dataframe\">\n",
       "  <thead>\n",
       "    <tr style=\"text-align: right;\">\n",
       "      <th></th>\n",
       "      <th>boro</th>\n",
       "      <th>rank</th>\n",
       "      <th>popnSize</th>\n",
       "      <th>big</th>\n",
       "      <th>subway</th>\n",
       "    </tr>\n",
       "  </thead>\n",
       "  <tbody>\n",
       "    <tr>\n",
       "      <th>0</th>\n",
       "      <td>Brooklyn</td>\n",
       "      <td>1</td>\n",
       "      <td>2639000.0</td>\n",
       "      <td>True</td>\n",
       "      <td>1</td>\n",
       "    </tr>\n",
       "    <tr>\n",
       "      <th>4</th>\n",
       "      <td>Manhattan</td>\n",
       "      <td>2</td>\n",
       "      <td>1665000.0</td>\n",
       "      <td>True</td>\n",
       "      <td>1</td>\n",
       "    </tr>\n",
       "    <tr>\n",
       "      <th>1</th>\n",
       "      <td>Queens</td>\n",
       "      <td>3</td>\n",
       "      <td>2359000.0</td>\n",
       "      <td>True</td>\n",
       "      <td>1</td>\n",
       "    </tr>\n",
       "    <tr>\n",
       "      <th>2</th>\n",
       "      <td>The Bronx</td>\n",
       "      <td>4</td>\n",
       "      <td>1471000.0</td>\n",
       "      <td>True</td>\n",
       "      <td>1</td>\n",
       "    </tr>\n",
       "    <tr>\n",
       "      <th>3</th>\n",
       "      <td>Staten Island</td>\n",
       "      <td>5</td>\n",
       "      <td>479000.0</td>\n",
       "      <td>False</td>\n",
       "      <td>1</td>\n",
       "    </tr>\n",
       "  </tbody>\n",
       "</table>\n",
       "</div>"
      ],
      "text/plain": [
       "            boro  rank   popnSize    big  subway\n",
       "0       Brooklyn     1  2639000.0   True       1\n",
       "4      Manhattan     2  1665000.0   True       1\n",
       "1         Queens     3  2359000.0   True       1\n",
       "2      The Bronx     4  1471000.0   True       1\n",
       "3  Staten Island     5   479000.0  False       1"
      ]
     },
     "execution_count": 13,
     "metadata": {},
     "output_type": "execute_result"
    }
   ],
   "source": [
    "df_Sorted = df.sort_values(by='rank')\n",
    "df_Sorted"
   ]
  },
  {
   "cell_type": "markdown",
   "metadata": {},
   "source": [
    "## Working with other peoples data with pandas\n",
    "As an example dataset we will work with this rather large dataset of insect egg morphometrics. First we will import it and looks at the first 5 rows of data within it using the `head` function"
   ]
  },
  {
   "cell_type": "code",
   "execution_count": 19,
   "metadata": {},
   "outputs": [
    {
     "data": {
      "text/html": [
       "<div>\n",
       "<style scoped>\n",
       "    .dataframe tbody tr th:only-of-type {\n",
       "        vertical-align: middle;\n",
       "    }\n",
       "\n",
       "    .dataframe tbody tr th {\n",
       "        vertical-align: top;\n",
       "    }\n",
       "\n",
       "    .dataframe thead th {\n",
       "        text-align: right;\n",
       "    }\n",
       "</style>\n",
       "<table border=\"1\" class=\"dataframe\">\n",
       "  <thead>\n",
       "    <tr style=\"text-align: right;\">\n",
       "      <th></th>\n",
       "      <th>ID</th>\n",
       "      <th>bibtex</th>\n",
       "      <th>author</th>\n",
       "      <th>journal</th>\n",
       "      <th>year</th>\n",
       "      <th>family</th>\n",
       "      <th>superfamily</th>\n",
       "      <th>subfamily</th>\n",
       "      <th>suborder</th>\n",
       "      <th>order</th>\n",
       "      <th>...</th>\n",
       "      <th>X3</th>\n",
       "      <th>logX1</th>\n",
       "      <th>logX2</th>\n",
       "      <th>logX3</th>\n",
       "      <th>ar</th>\n",
       "      <th>el</th>\n",
       "      <th>vol</th>\n",
       "      <th>logar</th>\n",
       "      <th>logvol</th>\n",
       "      <th>group</th>\n",
       "    </tr>\n",
       "  </thead>\n",
       "  <tbody>\n",
       "    <tr>\n",
       "      <th>0</th>\n",
       "      <td>7112</td>\n",
       "      <td>machida1981external</td>\n",
       "      <td>Machida, Ryuichiro</td>\n",
       "      <td>Journal of Morphology</td>\n",
       "      <td>1981</td>\n",
       "      <td>Machilidae</td>\n",
       "      <td>NaN</td>\n",
       "      <td>NaN</td>\n",
       "      <td>NaN</td>\n",
       "      <td>Archaeognatha</td>\n",
       "      <td>...</td>\n",
       "      <td>NaN</td>\n",
       "      <td>0.113943</td>\n",
       "      <td>-0.096910</td>\n",
       "      <td>NaN</td>\n",
       "      <td>1.625000</td>\n",
       "      <td>0.625000</td>\n",
       "      <td>0.435634</td>\n",
       "      <td>0.210853</td>\n",
       "      <td>-0.360878</td>\n",
       "      <td>Apterygota</td>\n",
       "    </tr>\n",
       "    <tr>\n",
       "      <th>1</th>\n",
       "      <td>7113</td>\n",
       "      <td>machida1990early</td>\n",
       "      <td>Machida, Ryuichiro and Nagashima, Takayuki and...</td>\n",
       "      <td>Journal of Morphology</td>\n",
       "      <td>1990</td>\n",
       "      <td>Machilidae</td>\n",
       "      <td>NaN</td>\n",
       "      <td>NaN</td>\n",
       "      <td>NaN</td>\n",
       "      <td>Archaeognatha</td>\n",
       "      <td>...</td>\n",
       "      <td>NaN</td>\n",
       "      <td>0.113943</td>\n",
       "      <td>-0.154902</td>\n",
       "      <td>NaN</td>\n",
       "      <td>1.857143</td>\n",
       "      <td>0.857143</td>\n",
       "      <td>0.333532</td>\n",
       "      <td>0.268845</td>\n",
       "      <td>-0.476862</td>\n",
       "      <td>Apterygota</td>\n",
       "    </tr>\n",
       "    <tr>\n",
       "      <th>2</th>\n",
       "      <td>7410</td>\n",
       "      <td>1990cleavage</td>\n",
       "      <td>Ando, H and Machida, R and Nagashima, T</td>\n",
       "      <td>Bulletin of Seisen Women's Junior College</td>\n",
       "      <td>1990</td>\n",
       "      <td>Machilidae</td>\n",
       "      <td>NaN</td>\n",
       "      <td>NaN</td>\n",
       "      <td>NaN</td>\n",
       "      <td>Archaeognatha</td>\n",
       "      <td>...</td>\n",
       "      <td>NaN</td>\n",
       "      <td>0.113943</td>\n",
       "      <td>-0.154902</td>\n",
       "      <td>NaN</td>\n",
       "      <td>1.857143</td>\n",
       "      <td>0.857143</td>\n",
       "      <td>0.333532</td>\n",
       "      <td>0.268845</td>\n",
       "      <td>-0.476862</td>\n",
       "      <td>Apterygota</td>\n",
       "    </tr>\n",
       "    <tr>\n",
       "      <th>3</th>\n",
       "      <td>7086</td>\n",
       "      <td>larink1969entwicklungsgeschichte</td>\n",
       "      <td>Larink, O</td>\n",
       "      <td>Helgol{ä}nder Wissenschaftliche Meeresuntersuc...</td>\n",
       "      <td>1969</td>\n",
       "      <td>Machilidae</td>\n",
       "      <td>NaN</td>\n",
       "      <td>NaN</td>\n",
       "      <td>NaN</td>\n",
       "      <td>Archaeognatha</td>\n",
       "      <td>...</td>\n",
       "      <td>NaN</td>\n",
       "      <td>0.000488</td>\n",
       "      <td>-0.163799</td>\n",
       "      <td>NaN</td>\n",
       "      <td>1.459779</td>\n",
       "      <td>0.459779</td>\n",
       "      <td>0.246541</td>\n",
       "      <td>0.164287</td>\n",
       "      <td>-0.608111</td>\n",
       "      <td>Apterygota</td>\n",
       "    </tr>\n",
       "    <tr>\n",
       "      <th>4</th>\n",
       "      <td>7292</td>\n",
       "      <td>roth1968oothecae</td>\n",
       "      <td>Roth, Louis M</td>\n",
       "      <td>Annals of the Entomological Society of America</td>\n",
       "      <td>1968</td>\n",
       "      <td>Blaberidae</td>\n",
       "      <td>Blaberoidea</td>\n",
       "      <td>Blaberinae</td>\n",
       "      <td>NaN</td>\n",
       "      <td>Blattodea</td>\n",
       "      <td>...</td>\n",
       "      <td>NaN</td>\n",
       "      <td>NaN</td>\n",
       "      <td>NaN</td>\n",
       "      <td>NaN</td>\n",
       "      <td>NaN</td>\n",
       "      <td>NaN</td>\n",
       "      <td>NaN</td>\n",
       "      <td>NaN</td>\n",
       "      <td>NaN</td>\n",
       "      <td>Polyneoptera</td>\n",
       "    </tr>\n",
       "  </tbody>\n",
       "</table>\n",
       "<p>5 rows × 48 columns</p>\n",
       "</div>"
      ],
      "text/plain": [
       "     ID                            bibtex  \\\n",
       "0  7112               machida1981external   \n",
       "1  7113                  machida1990early   \n",
       "2  7410                      1990cleavage   \n",
       "3  7086  larink1969entwicklungsgeschichte   \n",
       "4  7292                  roth1968oothecae   \n",
       "\n",
       "                                              author  \\\n",
       "0                                 Machida, Ryuichiro   \n",
       "1  Machida, Ryuichiro and Nagashima, Takayuki and...   \n",
       "2            Ando, H and Machida, R and Nagashima, T   \n",
       "3                                          Larink, O   \n",
       "4                                      Roth, Louis M   \n",
       "\n",
       "                                             journal  year      family  \\\n",
       "0                              Journal of Morphology  1981  Machilidae   \n",
       "1                              Journal of Morphology  1990  Machilidae   \n",
       "2          Bulletin of Seisen Women's Junior College  1990  Machilidae   \n",
       "3  Helgol{ä}nder Wissenschaftliche Meeresuntersuc...  1969  Machilidae   \n",
       "4     Annals of the Entomological Society of America  1968  Blaberidae   \n",
       "\n",
       "   superfamily   subfamily suborder          order  ...  X3     logX1  \\\n",
       "0          NaN         NaN      NaN  Archaeognatha  ... NaN  0.113943   \n",
       "1          NaN         NaN      NaN  Archaeognatha  ... NaN  0.113943   \n",
       "2          NaN         NaN      NaN  Archaeognatha  ... NaN  0.113943   \n",
       "3          NaN         NaN      NaN  Archaeognatha  ... NaN  0.000488   \n",
       "4  Blaberoidea  Blaberinae      NaN      Blattodea  ... NaN       NaN   \n",
       "\n",
       "      logX2 logX3        ar        el       vol     logar    logvol  \\\n",
       "0 -0.096910   NaN  1.625000  0.625000  0.435634  0.210853 -0.360878   \n",
       "1 -0.154902   NaN  1.857143  0.857143  0.333532  0.268845 -0.476862   \n",
       "2 -0.154902   NaN  1.857143  0.857143  0.333532  0.268845 -0.476862   \n",
       "3 -0.163799   NaN  1.459779  0.459779  0.246541  0.164287 -0.608111   \n",
       "4       NaN   NaN       NaN       NaN       NaN       NaN       NaN   \n",
       "\n",
       "          group  \n",
       "0    Apterygota  \n",
       "1    Apterygota  \n",
       "2    Apterygota  \n",
       "3    Apterygota  \n",
       "4  Polyneoptera  \n",
       "\n",
       "[5 rows x 48 columns]"
      ]
     },
     "execution_count": 19,
     "metadata": {},
     "output_type": "execute_result"
    }
   ],
   "source": [
    "#read dataset\n",
    "df = pd.read_csv(\"egg_database.tsv\",sep=\"\\t\")\n",
    "#make a quick table of the first 5 lines\n",
    "df.head()"
   ]
  },
  {
   "cell_type": "code",
   "execution_count": 20,
   "metadata": {},
   "outputs": [
    {
     "name": "stdout",
     "output_type": "stream",
     "text": [
      "Lepidoptera         2949\n",
      "Hymenoptera         1768\n",
      "Hemiptera           1248\n",
      "Diptera              979\n",
      "Coleoptera           740\n",
      "Orthoptera           613\n",
      "Phasmatodea          501\n",
      "Ephemeroptera        236\n",
      "Blattodea            217\n",
      "Plecoptera           181\n",
      "Neuroptera           102\n",
      "Odonata               78\n",
      "Phthiraptera          47\n",
      "Mecoptera             29\n",
      "Trichoptera           28\n",
      "Megaloptera           20\n",
      "Siphonaptera          18\n",
      "Psocoptera            17\n",
      "Dermaptera            11\n",
      "Thysanoptera          11\n",
      "Zoraptera              8\n",
      "Mantodea               7\n",
      "Collembola             7\n",
      "Strepsiptera           6\n",
      "Grylloblattodea        5\n",
      "Mantophasmatodea       5\n",
      "Archaeognatha          4\n",
      "Diplura                4\n",
      "Protura                3\n",
      "Zygentoma              2\n",
      "Embioptera             2\n",
      "Raphidioptera          2\n",
      "Name: order, dtype: int64\n"
     ]
    }
   ],
   "source": [
    "\n",
    "# now let's get unique orders of insects in db and their obs counts\n",
    "\n",
    "print(df['order'].value_counts())"
   ]
  },
  {
   "cell_type": "code",
   "execution_count": 22,
   "metadata": {},
   "outputs": [
    {
     "data": {
      "text/html": [
       "<div>\n",
       "<style scoped>\n",
       "    .dataframe tbody tr th:only-of-type {\n",
       "        vertical-align: middle;\n",
       "    }\n",
       "\n",
       "    .dataframe tbody tr th {\n",
       "        vertical-align: top;\n",
       "    }\n",
       "\n",
       "    .dataframe thead th {\n",
       "        text-align: right;\n",
       "    }\n",
       "</style>\n",
       "<table border=\"1\" class=\"dataframe\">\n",
       "  <thead>\n",
       "    <tr style=\"text-align: right;\">\n",
       "      <th></th>\n",
       "      <th>count</th>\n",
       "      <th>mean</th>\n",
       "      <th>std</th>\n",
       "      <th>min</th>\n",
       "      <th>25%</th>\n",
       "      <th>50%</th>\n",
       "      <th>75%</th>\n",
       "      <th>max</th>\n",
       "    </tr>\n",
       "    <tr>\n",
       "      <th>order</th>\n",
       "      <th></th>\n",
       "      <th></th>\n",
       "      <th></th>\n",
       "      <th></th>\n",
       "      <th></th>\n",
       "      <th></th>\n",
       "      <th></th>\n",
       "      <th></th>\n",
       "    </tr>\n",
       "  </thead>\n",
       "  <tbody>\n",
       "    <tr>\n",
       "      <th>Archaeognatha</th>\n",
       "      <td>4.0</td>\n",
       "      <td>0.337310</td>\n",
       "      <td>0.077320</td>\n",
       "      <td>2.465407e-01</td>\n",
       "      <td>0.311784</td>\n",
       "      <td>0.333532</td>\n",
       "      <td>0.359058</td>\n",
       "      <td>0.435634</td>\n",
       "    </tr>\n",
       "    <tr>\n",
       "      <th>Blattodea</th>\n",
       "      <td>82.0</td>\n",
       "      <td>1.836687</td>\n",
       "      <td>3.552705</td>\n",
       "      <td>1.267109e-02</td>\n",
       "      <td>0.090987</td>\n",
       "      <td>0.335046</td>\n",
       "      <td>1.538878</td>\n",
       "      <td>15.254969</td>\n",
       "    </tr>\n",
       "    <tr>\n",
       "      <th>Coleoptera</th>\n",
       "      <td>675.0</td>\n",
       "      <td>4.126014</td>\n",
       "      <td>27.457893</td>\n",
       "      <td>1.507964e-03</td>\n",
       "      <td>0.052353</td>\n",
       "      <td>0.222529</td>\n",
       "      <td>0.958792</td>\n",
       "      <td>466.526509</td>\n",
       "    </tr>\n",
       "    <tr>\n",
       "      <th>Collembola</th>\n",
       "      <td>6.0</td>\n",
       "      <td>0.362963</td>\n",
       "      <td>0.848774</td>\n",
       "      <td>9.047787e-04</td>\n",
       "      <td>0.002656</td>\n",
       "      <td>0.007247</td>\n",
       "      <td>0.051664</td>\n",
       "      <td>2.094787</td>\n",
       "    </tr>\n",
       "    <tr>\n",
       "      <th>Dermaptera</th>\n",
       "      <td>11.0</td>\n",
       "      <td>0.403375</td>\n",
       "      <td>0.321431</td>\n",
       "      <td>1.602212e-01</td>\n",
       "      <td>0.264143</td>\n",
       "      <td>0.292334</td>\n",
       "      <td>0.426162</td>\n",
       "      <td>1.327323</td>\n",
       "    </tr>\n",
       "    <tr>\n",
       "      <th>Diplura</th>\n",
       "      <td>4.0</td>\n",
       "      <td>0.018619</td>\n",
       "      <td>0.017186</td>\n",
       "      <td>1.257128e-04</td>\n",
       "      <td>0.005922</td>\n",
       "      <td>0.020420</td>\n",
       "      <td>0.033118</td>\n",
       "      <td>0.033510</td>\n",
       "    </tr>\n",
       "    <tr>\n",
       "      <th>Diptera</th>\n",
       "      <td>846.0</td>\n",
       "      <td>0.059402</td>\n",
       "      <td>0.179555</td>\n",
       "      <td>3.101341e-06</td>\n",
       "      <td>0.007116</td>\n",
       "      <td>0.021588</td>\n",
       "      <td>0.066796</td>\n",
       "      <td>3.392920</td>\n",
       "    </tr>\n",
       "    <tr>\n",
       "      <th>Embioptera</th>\n",
       "      <td>1.0</td>\n",
       "      <td>0.130900</td>\n",
       "      <td>NaN</td>\n",
       "      <td>1.308997e-01</td>\n",
       "      <td>0.130900</td>\n",
       "      <td>0.130900</td>\n",
       "      <td>0.130900</td>\n",
       "      <td>0.130900</td>\n",
       "    </tr>\n",
       "    <tr>\n",
       "      <th>Ephemeroptera</th>\n",
       "      <td>222.0</td>\n",
       "      <td>0.004020</td>\n",
       "      <td>0.020255</td>\n",
       "      <td>1.425498e-04</td>\n",
       "      <td>0.000827</td>\n",
       "      <td>0.001207</td>\n",
       "      <td>0.002402</td>\n",
       "      <td>0.271117</td>\n",
       "    </tr>\n",
       "    <tr>\n",
       "      <th>Grylloblattodea</th>\n",
       "      <td>5.0</td>\n",
       "      <td>0.438129</td>\n",
       "      <td>0.076347</td>\n",
       "      <td>3.015929e-01</td>\n",
       "      <td>0.471239</td>\n",
       "      <td>0.471239</td>\n",
       "      <td>0.471239</td>\n",
       "      <td>0.475337</td>\n",
       "    </tr>\n",
       "    <tr>\n",
       "      <th>Hemiptera</th>\n",
       "      <td>1141.0</td>\n",
       "      <td>0.482341</td>\n",
       "      <td>1.537686</td>\n",
       "      <td>9.930017e-05</td>\n",
       "      <td>0.021379</td>\n",
       "      <td>0.128839</td>\n",
       "      <td>0.466527</td>\n",
       "      <td>36.023596</td>\n",
       "    </tr>\n",
       "    <tr>\n",
       "      <th>Hymenoptera</th>\n",
       "      <td>1579.0</td>\n",
       "      <td>0.576162</td>\n",
       "      <td>4.028274</td>\n",
       "      <td>7.037168e-07</td>\n",
       "      <td>0.003619</td>\n",
       "      <td>0.061261</td>\n",
       "      <td>0.248226</td>\n",
       "      <td>77.754418</td>\n",
       "    </tr>\n",
       "    <tr>\n",
       "      <th>Lepidoptera</th>\n",
       "      <td>2739.0</td>\n",
       "      <td>0.497348</td>\n",
       "      <td>1.120560</td>\n",
       "      <td>4.021239e-04</td>\n",
       "      <td>0.089483</td>\n",
       "      <td>0.183260</td>\n",
       "      <td>0.430000</td>\n",
       "      <td>20.500000</td>\n",
       "    </tr>\n",
       "    <tr>\n",
       "      <th>Mantodea</th>\n",
       "      <td>3.0</td>\n",
       "      <td>4.598555</td>\n",
       "      <td>3.319165</td>\n",
       "      <td>1.630919e+00</td>\n",
       "      <td>2.806444</td>\n",
       "      <td>3.981969</td>\n",
       "      <td>6.082374</td>\n",
       "      <td>8.182779</td>\n",
       "    </tr>\n",
       "    <tr>\n",
       "      <th>Mantophasmatodea</th>\n",
       "      <td>5.0</td>\n",
       "      <td>1.955382</td>\n",
       "      <td>1.381243</td>\n",
       "      <td>1.231112e+00</td>\n",
       "      <td>1.334794</td>\n",
       "      <td>1.393820</td>\n",
       "      <td>1.393820</td>\n",
       "      <td>4.423362</td>\n",
       "    </tr>\n",
       "    <tr>\n",
       "      <th>Mecoptera</th>\n",
       "      <td>29.0</td>\n",
       "      <td>0.205149</td>\n",
       "      <td>0.131715</td>\n",
       "      <td>1.259091e-02</td>\n",
       "      <td>0.135108</td>\n",
       "      <td>0.180498</td>\n",
       "      <td>0.229600</td>\n",
       "      <td>0.561575</td>\n",
       "    </tr>\n",
       "    <tr>\n",
       "      <th>Megaloptera</th>\n",
       "      <td>20.0</td>\n",
       "      <td>0.073114</td>\n",
       "      <td>0.094535</td>\n",
       "      <td>6.809402e-03</td>\n",
       "      <td>0.009755</td>\n",
       "      <td>0.016982</td>\n",
       "      <td>0.130707</td>\n",
       "      <td>0.279398</td>\n",
       "    </tr>\n",
       "    <tr>\n",
       "      <th>Neuroptera</th>\n",
       "      <td>89.0</td>\n",
       "      <td>0.536341</td>\n",
       "      <td>0.934950</td>\n",
       "      <td>2.601107e-03</td>\n",
       "      <td>0.059715</td>\n",
       "      <td>0.121737</td>\n",
       "      <td>0.707792</td>\n",
       "      <td>7.330383</td>\n",
       "    </tr>\n",
       "    <tr>\n",
       "      <th>Odonata</th>\n",
       "      <td>73.0</td>\n",
       "      <td>0.050465</td>\n",
       "      <td>0.056436</td>\n",
       "      <td>1.107935e-02</td>\n",
       "      <td>0.019704</td>\n",
       "      <td>0.032070</td>\n",
       "      <td>0.049730</td>\n",
       "      <td>0.282220</td>\n",
       "    </tr>\n",
       "    <tr>\n",
       "      <th>Orthoptera</th>\n",
       "      <td>593.0</td>\n",
       "      <td>4.634712</td>\n",
       "      <td>4.644211</td>\n",
       "      <td>1.114951e-01</td>\n",
       "      <td>2.356194</td>\n",
       "      <td>3.672260</td>\n",
       "      <td>5.541769</td>\n",
       "      <td>41.223979</td>\n",
       "    </tr>\n",
       "    <tr>\n",
       "      <th>Phasmatodea</th>\n",
       "      <td>357.0</td>\n",
       "      <td>22.036207</td>\n",
       "      <td>39.201696</td>\n",
       "      <td>5.795872e-01</td>\n",
       "      <td>4.734340</td>\n",
       "      <td>9.219011</td>\n",
       "      <td>21.827357</td>\n",
       "      <td>316.748378</td>\n",
       "    </tr>\n",
       "    <tr>\n",
       "      <th>Phthiraptera</th>\n",
       "      <td>26.0</td>\n",
       "      <td>0.036926</td>\n",
       "      <td>0.039093</td>\n",
       "      <td>3.493833e-04</td>\n",
       "      <td>0.016460</td>\n",
       "      <td>0.029917</td>\n",
       "      <td>0.038288</td>\n",
       "      <td>0.209174</td>\n",
       "    </tr>\n",
       "    <tr>\n",
       "      <th>Plecoptera</th>\n",
       "      <td>160.0</td>\n",
       "      <td>0.032175</td>\n",
       "      <td>0.050635</td>\n",
       "      <td>1.507964e-04</td>\n",
       "      <td>0.004247</td>\n",
       "      <td>0.012517</td>\n",
       "      <td>0.030467</td>\n",
       "      <td>0.271807</td>\n",
       "    </tr>\n",
       "    <tr>\n",
       "      <th>Protura</th>\n",
       "      <td>3.0</td>\n",
       "      <td>0.002102</td>\n",
       "      <td>0.002086</td>\n",
       "      <td>8.901018e-04</td>\n",
       "      <td>0.000897</td>\n",
       "      <td>0.000905</td>\n",
       "      <td>0.002708</td>\n",
       "      <td>0.004511</td>\n",
       "    </tr>\n",
       "    <tr>\n",
       "      <th>Psocoptera</th>\n",
       "      <td>17.0</td>\n",
       "      <td>0.008449</td>\n",
       "      <td>0.004215</td>\n",
       "      <td>4.173563e-05</td>\n",
       "      <td>0.006013</td>\n",
       "      <td>0.006715</td>\n",
       "      <td>0.012013</td>\n",
       "      <td>0.016154</td>\n",
       "    </tr>\n",
       "    <tr>\n",
       "      <th>Raphidioptera</th>\n",
       "      <td>0.0</td>\n",
       "      <td>NaN</td>\n",
       "      <td>NaN</td>\n",
       "      <td>NaN</td>\n",
       "      <td>NaN</td>\n",
       "      <td>NaN</td>\n",
       "      <td>NaN</td>\n",
       "      <td>NaN</td>\n",
       "    </tr>\n",
       "    <tr>\n",
       "      <th>Siphonaptera</th>\n",
       "      <td>16.0</td>\n",
       "      <td>0.086078</td>\n",
       "      <td>0.194190</td>\n",
       "      <td>5.972042e-03</td>\n",
       "      <td>0.021242</td>\n",
       "      <td>0.025623</td>\n",
       "      <td>0.065569</td>\n",
       "      <td>0.805819</td>\n",
       "    </tr>\n",
       "    <tr>\n",
       "      <th>Strepsiptera</th>\n",
       "      <td>2.0</td>\n",
       "      <td>0.001105</td>\n",
       "      <td>0.001470</td>\n",
       "      <td>6.544985e-05</td>\n",
       "      <td>0.000585</td>\n",
       "      <td>0.001105</td>\n",
       "      <td>0.001625</td>\n",
       "      <td>0.002145</td>\n",
       "    </tr>\n",
       "    <tr>\n",
       "      <th>Thysanoptera</th>\n",
       "      <td>10.0</td>\n",
       "      <td>0.005757</td>\n",
       "      <td>0.006539</td>\n",
       "      <td>3.627318e-05</td>\n",
       "      <td>0.002104</td>\n",
       "      <td>0.004897</td>\n",
       "      <td>0.005663</td>\n",
       "      <td>0.022711</td>\n",
       "    </tr>\n",
       "    <tr>\n",
       "      <th>Trichoptera</th>\n",
       "      <td>27.0</td>\n",
       "      <td>0.021457</td>\n",
       "      <td>0.035264</td>\n",
       "      <td>1.372583e-04</td>\n",
       "      <td>0.001740</td>\n",
       "      <td>0.008181</td>\n",
       "      <td>0.016693</td>\n",
       "      <td>0.132485</td>\n",
       "    </tr>\n",
       "    <tr>\n",
       "      <th>Zoraptera</th>\n",
       "      <td>8.0</td>\n",
       "      <td>0.040973</td>\n",
       "      <td>0.014968</td>\n",
       "      <td>2.827433e-02</td>\n",
       "      <td>0.030631</td>\n",
       "      <td>0.032375</td>\n",
       "      <td>0.050369</td>\n",
       "      <td>0.067021</td>\n",
       "    </tr>\n",
       "    <tr>\n",
       "      <th>Zygentoma</th>\n",
       "      <td>1.0</td>\n",
       "      <td>0.416130</td>\n",
       "      <td>NaN</td>\n",
       "      <td>4.161301e-01</td>\n",
       "      <td>0.416130</td>\n",
       "      <td>0.416130</td>\n",
       "      <td>0.416130</td>\n",
       "      <td>0.416130</td>\n",
       "    </tr>\n",
       "  </tbody>\n",
       "</table>\n",
       "</div>"
      ],
      "text/plain": [
       "                   count       mean        std           min       25%  \\\n",
       "order                                                                    \n",
       "Archaeognatha        4.0   0.337310   0.077320  2.465407e-01  0.311784   \n",
       "Blattodea           82.0   1.836687   3.552705  1.267109e-02  0.090987   \n",
       "Coleoptera         675.0   4.126014  27.457893  1.507964e-03  0.052353   \n",
       "Collembola           6.0   0.362963   0.848774  9.047787e-04  0.002656   \n",
       "Dermaptera          11.0   0.403375   0.321431  1.602212e-01  0.264143   \n",
       "Diplura              4.0   0.018619   0.017186  1.257128e-04  0.005922   \n",
       "Diptera            846.0   0.059402   0.179555  3.101341e-06  0.007116   \n",
       "Embioptera           1.0   0.130900        NaN  1.308997e-01  0.130900   \n",
       "Ephemeroptera      222.0   0.004020   0.020255  1.425498e-04  0.000827   \n",
       "Grylloblattodea      5.0   0.438129   0.076347  3.015929e-01  0.471239   \n",
       "Hemiptera         1141.0   0.482341   1.537686  9.930017e-05  0.021379   \n",
       "Hymenoptera       1579.0   0.576162   4.028274  7.037168e-07  0.003619   \n",
       "Lepidoptera       2739.0   0.497348   1.120560  4.021239e-04  0.089483   \n",
       "Mantodea             3.0   4.598555   3.319165  1.630919e+00  2.806444   \n",
       "Mantophasmatodea     5.0   1.955382   1.381243  1.231112e+00  1.334794   \n",
       "Mecoptera           29.0   0.205149   0.131715  1.259091e-02  0.135108   \n",
       "Megaloptera         20.0   0.073114   0.094535  6.809402e-03  0.009755   \n",
       "Neuroptera          89.0   0.536341   0.934950  2.601107e-03  0.059715   \n",
       "Odonata             73.0   0.050465   0.056436  1.107935e-02  0.019704   \n",
       "Orthoptera         593.0   4.634712   4.644211  1.114951e-01  2.356194   \n",
       "Phasmatodea        357.0  22.036207  39.201696  5.795872e-01  4.734340   \n",
       "Phthiraptera        26.0   0.036926   0.039093  3.493833e-04  0.016460   \n",
       "Plecoptera         160.0   0.032175   0.050635  1.507964e-04  0.004247   \n",
       "Protura              3.0   0.002102   0.002086  8.901018e-04  0.000897   \n",
       "Psocoptera          17.0   0.008449   0.004215  4.173563e-05  0.006013   \n",
       "Raphidioptera        0.0        NaN        NaN           NaN       NaN   \n",
       "Siphonaptera        16.0   0.086078   0.194190  5.972042e-03  0.021242   \n",
       "Strepsiptera         2.0   0.001105   0.001470  6.544985e-05  0.000585   \n",
       "Thysanoptera        10.0   0.005757   0.006539  3.627318e-05  0.002104   \n",
       "Trichoptera         27.0   0.021457   0.035264  1.372583e-04  0.001740   \n",
       "Zoraptera            8.0   0.040973   0.014968  2.827433e-02  0.030631   \n",
       "Zygentoma            1.0   0.416130        NaN  4.161301e-01  0.416130   \n",
       "\n",
       "                       50%        75%         max  \n",
       "order                                              \n",
       "Archaeognatha     0.333532   0.359058    0.435634  \n",
       "Blattodea         0.335046   1.538878   15.254969  \n",
       "Coleoptera        0.222529   0.958792  466.526509  \n",
       "Collembola        0.007247   0.051664    2.094787  \n",
       "Dermaptera        0.292334   0.426162    1.327323  \n",
       "Diplura           0.020420   0.033118    0.033510  \n",
       "Diptera           0.021588   0.066796    3.392920  \n",
       "Embioptera        0.130900   0.130900    0.130900  \n",
       "Ephemeroptera     0.001207   0.002402    0.271117  \n",
       "Grylloblattodea   0.471239   0.471239    0.475337  \n",
       "Hemiptera         0.128839   0.466527   36.023596  \n",
       "Hymenoptera       0.061261   0.248226   77.754418  \n",
       "Lepidoptera       0.183260   0.430000   20.500000  \n",
       "Mantodea          3.981969   6.082374    8.182779  \n",
       "Mantophasmatodea  1.393820   1.393820    4.423362  \n",
       "Mecoptera         0.180498   0.229600    0.561575  \n",
       "Megaloptera       0.016982   0.130707    0.279398  \n",
       "Neuroptera        0.121737   0.707792    7.330383  \n",
       "Odonata           0.032070   0.049730    0.282220  \n",
       "Orthoptera        3.672260   5.541769   41.223979  \n",
       "Phasmatodea       9.219011  21.827357  316.748378  \n",
       "Phthiraptera      0.029917   0.038288    0.209174  \n",
       "Plecoptera        0.012517   0.030467    0.271807  \n",
       "Protura           0.000905   0.002708    0.004511  \n",
       "Psocoptera        0.006715   0.012013    0.016154  \n",
       "Raphidioptera          NaN        NaN         NaN  \n",
       "Siphonaptera      0.025623   0.065569    0.805819  \n",
       "Strepsiptera      0.001105   0.001625    0.002145  \n",
       "Thysanoptera      0.004897   0.005663    0.022711  \n",
       "Trichoptera       0.008181   0.016693    0.132485  \n",
       "Zoraptera         0.032375   0.050369    0.067021  \n",
       "Zygentoma         0.416130   0.416130    0.416130  "
      ]
     },
     "execution_count": 22,
     "metadata": {},
     "output_type": "execute_result"
    }
   ],
   "source": [
    "df.groupby('order').vol.describe()"
   ]
  },
  {
   "cell_type": "markdown",
   "metadata": {},
   "source": [
    "### Visualize differences \n",
    "Next we we visualize the distribution of egg volumes between the two best sampled insect orders, Lepidoptera (butterflies and moths) and Hymenoptera (bees, wasps, ants). To do this we will use a histogram that pandas itself produces. "
   ]
  },
  {
   "cell_type": "code",
   "execution_count": 23,
   "metadata": {},
   "outputs": [
    {
     "data": {
      "text/plain": [
       "[Text(0, 0.5, 'count'), Text(0.5, 0, 'log(egg volume)')]"
      ]
     },
     "execution_count": 23,
     "metadata": {},
     "output_type": "execute_result"
    },
    {
     "data": {
      "image/png": "[encoded data removed]",
      "text/plain": [
       "<Figure size 432x288 with 1 Axes>"
      ]
     },
     "metadata": {
      "needs_background": "light"
     },
     "output_type": "display_data"
    }
   ],
   "source": [
    "#pull out the two most common order in the dataset\n",
    "both = df.loc[(df['order'] == \"Lepidoptera\") | (df['order'] ==\"Hymenoptera\")]\n",
    "#plot histogram of the log(egg_volume)\n",
    "h = both.groupby('order').logvol.hist(alpha=0.4)\n",
    "h[0].set(xlabel=\"log(egg volume)\",ylabel=\"count\")"
   ]
  },
  {
   "cell_type": "markdown",
   "metadata": {},
   "source": [
    "# Scikit-allel\n",
    "As this is an evolutionary genetics course, one of the tools we want to put into your toolbox is a way of analysing population scale data (i.e. population genetics data). We already covered in the last lecture how biopython can be used to interface with phylogenetics programs for creating trees or doing maximum likelihood estimation. Today we will take a look at `scikit-allel` which enables easy, python based analyses of common population genetic data formats such as `.vcf` files. \n",
    "\n",
    "### Installation\n",
    "As always our first point of business is installing scikit-allel on everyone's machine. Again we will use conda for this, either at the command line or that Anaconda prompt depending on your setup. \n",
    "\n",
    "`conda install -c conda-forge scikit-allel`\n",
    "\n",
    "`conda install seaborn`\n",
    "\n",
    "For people on a Windows machine this may cause issues. If so try to install using `pip` at the Anaconda prompt\n",
    "\n",
    "`pip install scikit-allel`\n",
    "\n",
    "Hopefully that will get everything we need installed. If not please let me know.\n",
    "\n"
   ]
  },
  {
   "cell_type": "markdown",
   "metadata": {},
   "source": [
    "## Setup\n",
    "\n",
    "Let's import the libraries we'll be using."
   ]
  },
  {
   "cell_type": "code",
   "execution_count": 20,
   "metadata": {},
   "outputs": [
    {
     "name": "stdout",
     "output_type": "stream",
     "text": [
      "scikit-allel ['/Users/adk/miniconda3/lib/python3.7/site-packages/allel']\n"
     ]
    }
   ],
   "source": [
    "import numpy as np\n",
    "import scipy\n",
    "import pandas\n",
    "import matplotlib as mpl\n",
    "import matplotlib.pyplot as plt\n",
    "import seaborn as sns\n",
    "import h5py\n",
    "import allel; print('scikit-allel', allel.__path__)"
   ]
  },
  {
   "cell_type": "markdown",
   "metadata": {},
   "source": [
    "The data we'll be analyzing came from the [Anophele gambiae 1000 genomes project](https://www.malariagen.net/projects/ag1000g). This project is actually the reason that scikit-allel was developed, but it's useful for much much more.  \n",
    "\n",
    "We will be using data that comes in the form of an HDF5 file containing variant calls from the Ag1000G project phase 1 AR3 data release. These data have been vetted and cleaned up quite a bit before they have gotten to this point. If you have your own sequencing data, think hard about data quality before you get this far. For this example we are going to focus on a 1Mb section of chromosome 3R (28000000-29000000). \n",
    "\n",
    "You will download the data for this lesson from this [link](http://sesame.uoregon.edu/~adkern/bi610/ag1000g.phase1.ar3.pass.biallelic.3R.vcf.28000000-29000000.h5). Once you have please put it in your notebooks directory. You can then open the data with the following call"
   ]
  },
  {
   "cell_type": "code",
   "execution_count": 22,
   "metadata": {},
   "outputs": [
    {
     "data": {
      "text/plain": [
       "<HDF5 file \"ag1000g.phase1.ar3.pass.biallelic.3R.vcf.28000000-29000000.h5\" (mode r)>"
      ]
     },
     "execution_count": 22,
     "metadata": {},
     "output_type": "execute_result"
    }
   ],
   "source": [
    "callset_fn = 'ag1000g.phase1.ar3.pass.biallelic.3R.vcf.28000000-29000000.h5'\n",
    "callset = h5py.File(callset_fn, mode='r')\n",
    "callset"
   ]
  },
  {
   "cell_type": "markdown",
   "metadata": {},
   "source": [
    "## Visualize variant density\n",
    "\n",
    "As a first step into getting to know these data, let's make a plot of variant density, which will simply show us how many SNPs there are and how they are distributed along the chromosome.\n",
    "\n",
    "The data on SNP positions and various other attributes of the SNPs are stored in the HDF5 file. Each of these can be treated as a column in a table, so let's set up a table with some of the columns we'll need for this and subsequent analyses.\n"
   ]
  },
  {
   "cell_type": "code",
   "execution_count": 23,
   "metadata": {},
   "outputs": [
    {
     "data": {
      "text/html": [
       "<div class=\"allel allel-DisplayAsTable\"><span>&lt;VariantChunkedTable shape=(187188,) dtype=[('POS', '&lt;i4'), ('REF', 'O'), ('ALT', 'O', (3,)), ('DP', '&lt;i4'), ('MQ', '&lt;f4'), ('QD', '&lt;f4')]\n",
       "   nbytes=8.6M cbytes=2.8M cratio=3.1\n",
       "   values=h5py._hl.group.Group&gt;</span><table><thead><tr><th></th><th style=\"text-align: center\">POS</th><th style=\"text-align: center\">REF</th><th style=\"text-align: center\">ALT</th><th style=\"text-align: center\">DP</th><th style=\"text-align: center\">MQ</th><th style=\"text-align: center\">QD</th></tr></thead><tbody><tr><th style=\"text-align: center; background-color: white; border-right: 1px solid black; \">0</th><td style=\"text-align: center\">28000010</td><td style=\"text-align: center\">T</td><td style=\"text-align: center\">['C' '' '']</td><td style=\"text-align: center\">24707</td><td style=\"text-align: center\">47.35</td><td style=\"text-align: center\">16.92</td></tr><tr><th style=\"text-align: center; background-color: white; border-right: 1px solid black; \">1</th><td style=\"text-align: center\">28000013</td><td style=\"text-align: center\">G</td><td style=\"text-align: center\">['C' '' '']</td><td style=\"text-align: center\">24316</td><td style=\"text-align: center\">46.85</td><td style=\"text-align: center\">13.55</td></tr><tr><th style=\"text-align: center; background-color: white; border-right: 1px solid black; \">2</th><td style=\"text-align: center\">28000014</td><td style=\"text-align: center\">C</td><td style=\"text-align: center\">['T' '' '']</td><td style=\"text-align: center\">24322</td><td style=\"text-align: center\">46.66</td><td style=\"text-align: center\">12.42</td></tr><tr><th style=\"text-align: center; background-color: white; border-right: 1px solid black; \">...</th><td style=\"text-align: center\" colspan=\"7\">...</td></tr><tr><th style=\"text-align: center; background-color: white; border-right: 1px solid black; \">187185</th><td style=\"text-align: center\">28999997</td><td style=\"text-align: center\">C</td><td style=\"text-align: center\">['T' '' '']</td><td style=\"text-align: center\">24013</td><td style=\"text-align: center\">50.6</td><td style=\"text-align: center\">13.42</td></tr><tr><th style=\"text-align: center; background-color: white; border-right: 1px solid black; \">187186</th><td style=\"text-align: center\">28999998</td><td style=\"text-align: center\">C</td><td style=\"text-align: center\">['T' '' '']</td><td style=\"text-align: center\">23851</td><td style=\"text-align: center\">50.63</td><td style=\"text-align: center\">12.88</td></tr><tr><th style=\"text-align: center; background-color: white; border-right: 1px solid black; \">187187</th><td style=\"text-align: center\">28999999</td><td style=\"text-align: center\">C</td><td style=\"text-align: center\">['T' '' '']</td><td style=\"text-align: center\">23997</td><td style=\"text-align: center\">50.65</td><td style=\"text-align: center\">10.04</td></tr></tbody></table></div>"
      ],
      "text/plain": [
       "<VariantChunkedTable shape=(187188,) dtype=[('POS', '<i4'), ('REF', 'O'), ('ALT', 'O', (3,)), ('DP', '<i4'), ('MQ', '<f4'), ('QD', '<f4')]\n",
       "   nbytes=8.6M cbytes=2.8M cratio=3.1\n",
       "   values=h5py._hl.group.Group>"
      ]
     },
     "execution_count": 23,
     "metadata": {},
     "output_type": "execute_result"
    }
   ],
   "source": [
    "variants = allel.VariantChunkedTable(callset['variants'], \n",
    "                                     names=['POS', 'REF', 'ALT', 'DP', 'MQ', 'QD'],\n",
    "                                     index='POS')\n",
    "variants"
   ]
  },
  {
   "cell_type": "markdown",
   "metadata": {},
   "source": [
    "The caption for this table tells us that we have 187,187 SNPs (rows) in this dataset.\n",
    "\n",
    "Now let's extract the variant positions and load into a numpy array.\n"
   ]
  },
  {
   "cell_type": "code",
   "execution_count": 24,
   "metadata": {},
   "outputs": [
    {
     "data": {
      "text/plain": [
       "array([28000010, 28000013, 28000014, ..., 28999997, 28999998, 28999999],\n",
       "      dtype=int32)"
      ]
     },
     "execution_count": 24,
     "metadata": {},
     "output_type": "execute_result"
    }
   ],
   "source": [
    "pos = variants['POS'][:]\n",
    "pos"
   ]
  },
  {
   "cell_type": "markdown",
   "metadata": {},
   "source": [
    "Define a function to plot variant density in windows over the chromosome."
   ]
  },
  {
   "cell_type": "code",
   "execution_count": 25,
   "metadata": {},
   "outputs": [],
   "source": [
    "def plot_windowed_variant_density(pos, window_size, title=None):\n",
    "    \n",
    "    # setup windows \n",
    "    bins = np.arange(pos.min(), pos.max(), window_size)\n",
    "    \n",
    "    # use window midpoints as x coordinate\n",
    "    x = (bins[1:] + bins[:-1])/2\n",
    "    \n",
    "    # compute variant density in each window\n",
    "    h, _ = np.histogram(pos, bins=bins)\n",
    "    y = h / window_size\n",
    "    \n",
    "    # plot\n",
    "    fig, ax = plt.subplots(figsize=(12, 3))\n",
    "    sns.despine(ax=ax, offset=10)\n",
    "    ax.plot(x, y)\n",
    "    ax.set_xlabel('Chromosome position (bp)')\n",
    "    ax.set_ylabel('Variant density (bp$^{-1}$)')\n",
    "    if title:\n",
    "        ax.set_title(title)\n",
    "        "
   ]
  },
  {
   "cell_type": "code",
   "execution_count": 26,
   "metadata": {},
   "outputs": [
    {
     "data": {
      "image/png": "[encoded data removed]",
      "text/plain": [
       "<Figure size 864x216 with 1 Axes>"
      ]
     },
     "metadata": {
      "needs_background": "light"
     },
     "output_type": "display_data"
    }
   ],
   "source": [
    "plot_windowed_variant_density(pos, window_size=5000, title='variant density')"
   ]
  },
  {
   "cell_type": "markdown",
   "metadata": {},
   "source": [
    "from this we can see that the density of SNPs is extremely high in our sample, roughly 0.2 on average which means we should find a SNP every 5 bases. For comparison human populations have 1 SNP every 700 bases on average. "
   ]
  },
  {
   "cell_type": "markdown",
   "metadata": {},
   "source": [
    "## Explore variant attributes\n",
    "\n",
    "As I mentioned above, each SNP also has a number \"annotations\", which are data attributes that originally came from the \"INFO\" field in the VCF file. These are important for data quality, so let's begin by getting to know a bit more about the numerical range and distribution of some of these attributes.\n",
    "\n",
    "Each attribute can be loaded from the table we setup earlier into a numpy array. E.g., load the \"DP\" field into an array."
   ]
  },
  {
   "cell_type": "code",
   "execution_count": 27,
   "metadata": {},
   "outputs": [
    {
     "data": {
      "text/plain": [
       "array([24707, 24316, 24322, ..., 24013, 23851, 23997], dtype=int32)"
      ]
     },
     "execution_count": 27,
     "metadata": {},
     "output_type": "execute_result"
    }
   ],
   "source": [
    "dp = variants['DP'][:]\n",
    "dp"
   ]
  },
  {
   "cell_type": "markdown",
   "metadata": {},
   "source": [
    "Define a function to plot a frequency distribution for any variant attribute."
   ]
  },
  {
   "cell_type": "code",
   "execution_count": 34,
   "metadata": {},
   "outputs": [],
   "source": [
    "def plot_variant_hist(f, bins=30):\n",
    "    x = variants[f][:]\n",
    "    fig, ax = plt.subplots(figsize=(7, 5))\n",
    "    sns.despine(ax=ax, offset=10)\n",
    "    ax.hist(x, bins=bins)\n",
    "    ax.set_xlabel(f)\n",
    "    ax.set_ylabel('No. variants')\n",
    "    ax.set_title('Variant %s distribution' % f)\n"
   ]
  },
  {
   "cell_type": "markdown",
   "metadata": {},
   "source": [
    "\"DP\" is total depth of coverage across all samples."
   ]
  },
  {
   "cell_type": "code",
   "execution_count": 35,
   "metadata": {},
   "outputs": [
    {
     "data": {
      "image/png": "[encoded data removed]",
      "text/plain": [
       "<Figure size 504x360 with 1 Axes>"
      ]
     },
     "metadata": {
      "needs_background": "light"
     },
     "output_type": "display_data"
    }
   ],
   "source": [
    "plot_variant_hist('DP', bins=50)"
   ]
  },
  {
   "cell_type": "markdown",
   "metadata": {},
   "source": [
    "\"MQ\" is average mapping quality across all samples."
   ]
  },
  {
   "cell_type": "code",
   "execution_count": 30,
   "metadata": {},
   "outputs": [
    {
     "data": {
      "image/png": "[encoded data removed]",
      "text/plain": [
       "<Figure size 504x360 with 1 Axes>"
      ]
     },
     "metadata": {
      "needs_background": "light"
     },
     "output_type": "display_data"
    }
   ],
   "source": [
    "plot_variant_hist('MQ')"
   ]
  },
  {
   "cell_type": "markdown",
   "metadata": {},
   "source": [
    "The Quality by Depth or \"QD\" score is a statistic which is quite useful for finding poor quality SNPs. This statistic essentially normalizes quality scores by coverage. We will use it for filtering later."
   ]
  },
  {
   "cell_type": "code",
   "execution_count": 31,
   "metadata": {},
   "outputs": [
    {
     "data": {
      "image/png": "[encoded data removed]",
      "text/plain": [
       "<Figure size 504x360 with 1 Axes>"
      ]
     },
     "metadata": {
      "needs_background": "light"
     },
     "output_type": "display_data"
    }
   ],
   "source": [
    "plot_variant_hist('QD')"
   ]
  },
  {
   "cell_type": "markdown",
   "metadata": {},
   "source": [
    "## Filtering variants\n",
    "\n",
    "There are many possible approaches to filtering variants. The simplest approach is define thresholds on variant attributes like DP, MQ and QD, and exclude SNPs that fall outside of a defined range (a.k.a. \"hard filtering\"). This is crude but simple to implement and in many cases may suffice, at least for an initial exploration of the data. \n",
    "\n",
    "Let's implement a simple hard filter. First, a reminder that we have a table containing all these variant attributes."
   ]
  },
  {
   "cell_type": "code",
   "execution_count": 36,
   "metadata": {},
   "outputs": [
    {
     "data": {
      "text/html": [
       "<div class=\"allel allel-DisplayAsTable\"><span>&lt;VariantChunkedTable shape=(187188,) dtype=[('POS', '&lt;i4'), ('REF', 'O'), ('ALT', 'O', (3,)), ('DP', '&lt;i4'), ('MQ', '&lt;f4'), ('QD', '&lt;f4')]\n",
       "   nbytes=8.6M cbytes=2.8M cratio=3.1\n",
       "   values=h5py._hl.group.Group&gt;</span><table><thead><tr><th></th><th style=\"text-align: center\">POS</th><th style=\"text-align: center\">REF</th><th style=\"text-align: center\">ALT</th><th style=\"text-align: center\">DP</th><th style=\"text-align: center\">MQ</th><th style=\"text-align: center\">QD</th></tr></thead><tbody><tr><th style=\"text-align: center; background-color: white; border-right: 1px solid black; \">0</th><td style=\"text-align: center\">28000010</td><td style=\"text-align: center\">T</td><td style=\"text-align: center\">['C' '' '']</td><td style=\"text-align: center\">24707</td><td style=\"text-align: center\">47.35</td><td style=\"text-align: center\">16.92</td></tr><tr><th style=\"text-align: center; background-color: white; border-right: 1px solid black; \">1</th><td style=\"text-align: center\">28000013</td><td style=\"text-align: center\">G</td><td style=\"text-align: center\">['C' '' '']</td><td style=\"text-align: center\">24316</td><td style=\"text-align: center\">46.85</td><td style=\"text-align: center\">13.55</td></tr><tr><th style=\"text-align: center; background-color: white; border-right: 1px solid black; \">2</th><td style=\"text-align: center\">28000014</td><td style=\"text-align: center\">C</td><td style=\"text-align: center\">['T' '' '']</td><td style=\"text-align: center\">24322</td><td style=\"text-align: center\">46.66</td><td style=\"text-align: center\">12.42</td></tr><tr><th style=\"text-align: center; background-color: white; border-right: 1px solid black; \">...</th><td style=\"text-align: center\" colspan=\"7\">...</td></tr><tr><th style=\"text-align: center; background-color: white; border-right: 1px solid black; \">187185</th><td style=\"text-align: center\">28999997</td><td style=\"text-align: center\">C</td><td style=\"text-align: center\">['T' '' '']</td><td style=\"text-align: center\">24013</td><td style=\"text-align: center\">50.6</td><td style=\"text-align: center\">13.42</td></tr><tr><th style=\"text-align: center; background-color: white; border-right: 1px solid black; \">187186</th><td style=\"text-align: center\">28999998</td><td style=\"text-align: center\">C</td><td style=\"text-align: center\">['T' '' '']</td><td style=\"text-align: center\">23851</td><td style=\"text-align: center\">50.63</td><td style=\"text-align: center\">12.88</td></tr><tr><th style=\"text-align: center; background-color: white; border-right: 1px solid black; \">187187</th><td style=\"text-align: center\">28999999</td><td style=\"text-align: center\">C</td><td style=\"text-align: center\">['T' '' '']</td><td style=\"text-align: center\">23997</td><td style=\"text-align: center\">50.65</td><td style=\"text-align: center\">10.04</td></tr></tbody></table></div>"
      ],
      "text/plain": [
       "<VariantChunkedTable shape=(187188,) dtype=[('POS', '<i4'), ('REF', 'O'), ('ALT', 'O', (3,)), ('DP', '<i4'), ('MQ', '<f4'), ('QD', '<f4')]\n",
       "   nbytes=8.6M cbytes=2.8M cratio=3.1\n",
       "   values=h5py._hl.group.Group>"
      ]
     },
     "execution_count": 36,
     "metadata": {},
     "output_type": "execute_result"
    }
   ],
   "source": [
    "variants"
   ]
  },
  {
   "cell_type": "markdown",
   "metadata": {},
   "source": [
    "Define the hard filter using an expression. This is just a string of Python code, which we will evaluate in a moment."
   ]
  },
  {
   "cell_type": "code",
   "execution_count": 37,
   "metadata": {},
   "outputs": [],
   "source": [
    "filter_expression = '(QD > 5) & (MQ > 45) & (DP > 15000) & (DP < 30000)'"
   ]
  },
  {
   "cell_type": "markdown",
   "metadata": {},
   "source": [
    "now evaluate this condition over the entire variant table"
   ]
  },
  {
   "cell_type": "code",
   "execution_count": 38,
   "metadata": {},
   "outputs": [
    {
     "data": {
      "text/plain": [
       "array([ True,  True,  True, ...,  True,  True,  True])"
      ]
     },
     "execution_count": 38,
     "metadata": {},
     "output_type": "execute_result"
    }
   ],
   "source": [
    "variant_selection = variants.eval(filter_expression)[:]\n",
    "variant_selection"
   ]
  },
  {
   "cell_type": "code",
   "execution_count": 39,
   "metadata": {},
   "outputs": [
    {
     "data": {
      "text/plain": [
       "168384"
      ]
     },
     "execution_count": 39,
     "metadata": {},
     "output_type": "execute_result"
    }
   ],
   "source": [
    "np.count_nonzero(variant_selection)"
   ]
  },
  {
   "cell_type": "markdown",
   "metadata": {},
   "source": [
    "*neat trick-* How many variants do we filter out?"
   ]
  },
  {
   "cell_type": "code",
   "execution_count": 40,
   "metadata": {},
   "outputs": [
    {
     "data": {
      "text/plain": [
       "18804"
      ]
     },
     "execution_count": 40,
     "metadata": {},
     "output_type": "execute_result"
    }
   ],
   "source": [
    "np.count_nonzero(~variant_selection)"
   ]
  },
  {
   "cell_type": "markdown",
   "metadata": {},
   "source": []
  },
  {
   "cell_type": "markdown",
   "metadata": {},
   "source": [
    "## Subset genotypes\n",
    "\n",
    "Now that we have some idea of variant quality, let's look at our samples and at the genotype calls.\n",
    "\n",
    "All data relating to the genotype calls is stored in the HDF5."
   ]
  },
  {
   "cell_type": "code",
   "execution_count": 41,
   "metadata": {},
   "outputs": [
    {
     "data": {
      "text/html": [
       "<div class=\"allel allel-DisplayAs2D\"><span>&lt;GenotypeChunkedArray shape=(187188, 765, 2) dtype=int8 chunks=(65536, 64, 2)\n",
       "   nbytes=273.1M cbytes=9.7M cratio=28.0\n",
       "   compression=gzip compression_opts=1\n",
       "   values=h5py._hl.dataset.Dataset&gt;</span><table><thead><tr><th></th><th style=\"text-align: center\">0</th><th style=\"text-align: center\">1</th><th style=\"text-align: center\">2</th><th style=\"text-align: center\">3</th><th style=\"text-align: center\">4</th><th style=\"text-align: center\">...</th><th style=\"text-align: center\">760</th><th style=\"text-align: center\">761</th><th style=\"text-align: center\">762</th><th style=\"text-align: center\">763</th><th style=\"text-align: center\">764</th></tr></thead><tbody><tr><th style=\"text-align: center; background-color: white; border-right: 1px solid black; \">0</th><td style=\"text-align: center\">0/0</td><td style=\"text-align: center\">0/0</td><td style=\"text-align: center\">0/0</td><td style=\"text-align: center\">0/0</td><td style=\"text-align: center\">0/0</td><td style=\"text-align: center\">...</td><td style=\"text-align: center\">0/0</td><td style=\"text-align: center\">0/0</td><td style=\"text-align: center\">0/0</td><td style=\"text-align: center\">0/0</td><td style=\"text-align: center\">0/0</td></tr><tr><th style=\"text-align: center; background-color: white; border-right: 1px solid black; \">1</th><td style=\"text-align: center\">0/0</td><td style=\"text-align: center\">0/0</td><td style=\"text-align: center\">0/0</td><td style=\"text-align: center\">0/0</td><td style=\"text-align: center\">0/0</td><td style=\"text-align: center\">...</td><td style=\"text-align: center\">0/0</td><td style=\"text-align: center\">0/0</td><td style=\"text-align: center\">0/0</td><td style=\"text-align: center\">0/0</td><td style=\"text-align: center\">0/0</td></tr><tr><th style=\"text-align: center; background-color: white; border-right: 1px solid black; \">2</th><td style=\"text-align: center\">0/0</td><td style=\"text-align: center\">0/0</td><td style=\"text-align: center\">0/0</td><td style=\"text-align: center\">0/0</td><td style=\"text-align: center\">0/0</td><td style=\"text-align: center\">...</td><td style=\"text-align: center\">0/0</td><td style=\"text-align: center\">0/0</td><td style=\"text-align: center\">0/0</td><td style=\"text-align: center\">0/0</td><td style=\"text-align: center\">0/0</td></tr><tr><th style=\"text-align: center; background-color: white; border-right: 1px solid black; \">...</th><td style=\"text-align: center\" colspan=\"12\">...</td></tr><tr><th style=\"text-align: center; background-color: white; border-right: 1px solid black; \">187185</th><td style=\"text-align: center\">0/0</td><td style=\"text-align: center\">0/0</td><td style=\"text-align: center\">0/0</td><td style=\"text-align: center\">0/0</td><td style=\"text-align: center\">0/0</td><td style=\"text-align: center\">...</td><td style=\"text-align: center\">0/0</td><td style=\"text-align: center\">0/0</td><td style=\"text-align: center\">0/0</td><td style=\"text-align: center\">0/0</td><td style=\"text-align: center\">0/0</td></tr><tr><th style=\"text-align: center; background-color: white; border-right: 1px solid black; \">187186</th><td style=\"text-align: center\">0/0</td><td style=\"text-align: center\">0/0</td><td style=\"text-align: center\">0/0</td><td style=\"text-align: center\">0/0</td><td style=\"text-align: center\">0/0</td><td style=\"text-align: center\">...</td><td style=\"text-align: center\">0/0</td><td style=\"text-align: center\">0/0</td><td style=\"text-align: center\">0/0</td><td style=\"text-align: center\">0/0</td><td style=\"text-align: center\">0/0</td></tr><tr><th style=\"text-align: center; background-color: white; border-right: 1px solid black; \">187187</th><td style=\"text-align: center\">0/0</td><td style=\"text-align: center\">0/0</td><td style=\"text-align: center\">0/0</td><td style=\"text-align: center\">0/0</td><td style=\"text-align: center\">0/0</td><td style=\"text-align: center\">...</td><td style=\"text-align: center\">0/0</td><td style=\"text-align: center\">0/0</td><td style=\"text-align: center\">0/0</td><td style=\"text-align: center\">0/0</td><td style=\"text-align: center\">0/0</td></tr></tbody></table></div>"
      ],
      "text/plain": [
       "<GenotypeChunkedArray shape=(187188, 765, 2) dtype=int8 chunks=(65536, 64, 2)\n",
       "   nbytes=273.1M cbytes=9.7M cratio=28.0\n",
       "   compression=gzip compression_opts=1\n",
       "   values=h5py._hl.dataset.Dataset>"
      ]
     },
     "execution_count": 41,
     "metadata": {},
     "output_type": "execute_result"
    }
   ],
   "source": [
    "calldata = callset['calldata']\n",
    "\n",
    "genotypes = allel.GenotypeChunkedArray(calldata['GT'])\n",
    "genotypes"
   ]
  },
  {
   "cell_type": "code",
   "execution_count": 42,
   "metadata": {},
   "outputs": [
    {
     "data": {
      "text/html": [
       "<div>\n",
       "<style scoped>\n",
       "    .dataframe tbody tr th:only-of-type {\n",
       "        vertical-align: middle;\n",
       "    }\n",
       "\n",
       "    .dataframe tbody tr th {\n",
       "        vertical-align: top;\n",
       "    }\n",
       "\n",
       "    .dataframe thead th {\n",
       "        text-align: right;\n",
       "    }\n",
       "</style>\n",
       "<table border=\"1\" class=\"dataframe\">\n",
       "  <thead>\n",
       "    <tr style=\"text-align: right;\">\n",
       "      <th></th>\n",
       "      <th>index</th>\n",
       "      <th>ox_code</th>\n",
       "      <th>src_code</th>\n",
       "      <th>sra_sample_accession</th>\n",
       "      <th>population</th>\n",
       "      <th>country</th>\n",
       "      <th>region</th>\n",
       "      <th>contributor</th>\n",
       "      <th>contact</th>\n",
       "      <th>year</th>\n",
       "      <th>m_s</th>\n",
       "      <th>sex</th>\n",
       "      <th>n_sequences</th>\n",
       "      <th>mean_coverage</th>\n",
       "      <th>latitude</th>\n",
       "      <th>longitude</th>\n",
       "    </tr>\n",
       "  </thead>\n",
       "  <tbody>\n",
       "    <tr>\n",
       "      <th>0</th>\n",
       "      <td>0</td>\n",
       "      <td>AB0085-C</td>\n",
       "      <td>BF2-4</td>\n",
       "      <td>ERS223996</td>\n",
       "      <td>BFS</td>\n",
       "      <td>Burkina Faso</td>\n",
       "      <td>Pala</td>\n",
       "      <td>Austin Burt</td>\n",
       "      <td>Sam O'Loughlin</td>\n",
       "      <td>2012</td>\n",
       "      <td>S</td>\n",
       "      <td>F</td>\n",
       "      <td>89905852</td>\n",
       "      <td>28.01</td>\n",
       "      <td>11.150</td>\n",
       "      <td>-4.235</td>\n",
       "    </tr>\n",
       "    <tr>\n",
       "      <th>1</th>\n",
       "      <td>1</td>\n",
       "      <td>AB0087-C</td>\n",
       "      <td>BF3-3</td>\n",
       "      <td>ERS224013</td>\n",
       "      <td>BFM</td>\n",
       "      <td>Burkina Faso</td>\n",
       "      <td>Bana</td>\n",
       "      <td>Austin Burt</td>\n",
       "      <td>Sam O'Loughlin</td>\n",
       "      <td>2012</td>\n",
       "      <td>M</td>\n",
       "      <td>F</td>\n",
       "      <td>116706234</td>\n",
       "      <td>36.76</td>\n",
       "      <td>11.233</td>\n",
       "      <td>-4.472</td>\n",
       "    </tr>\n",
       "    <tr>\n",
       "      <th>2</th>\n",
       "      <td>2</td>\n",
       "      <td>AB0088-C</td>\n",
       "      <td>BF3-5</td>\n",
       "      <td>ERS223991</td>\n",
       "      <td>BFM</td>\n",
       "      <td>Burkina Faso</td>\n",
       "      <td>Bana</td>\n",
       "      <td>Austin Burt</td>\n",
       "      <td>Sam O'Loughlin</td>\n",
       "      <td>2012</td>\n",
       "      <td>M</td>\n",
       "      <td>F</td>\n",
       "      <td>112090460</td>\n",
       "      <td>23.30</td>\n",
       "      <td>11.233</td>\n",
       "      <td>-4.472</td>\n",
       "    </tr>\n",
       "    <tr>\n",
       "      <th>3</th>\n",
       "      <td>3</td>\n",
       "      <td>AB0089-C</td>\n",
       "      <td>BF3-8</td>\n",
       "      <td>ERS224031</td>\n",
       "      <td>BFM</td>\n",
       "      <td>Burkina Faso</td>\n",
       "      <td>Bana</td>\n",
       "      <td>Austin Burt</td>\n",
       "      <td>Sam O'Loughlin</td>\n",
       "      <td>2012</td>\n",
       "      <td>M</td>\n",
       "      <td>F</td>\n",
       "      <td>145350454</td>\n",
       "      <td>41.36</td>\n",
       "      <td>11.233</td>\n",
       "      <td>-4.472</td>\n",
       "    </tr>\n",
       "    <tr>\n",
       "      <th>4</th>\n",
       "      <td>4</td>\n",
       "      <td>AB0090-C</td>\n",
       "      <td>BF3-10</td>\n",
       "      <td>ERS223936</td>\n",
       "      <td>BFM</td>\n",
       "      <td>Burkina Faso</td>\n",
       "      <td>Bana</td>\n",
       "      <td>Austin Burt</td>\n",
       "      <td>Sam O'Loughlin</td>\n",
       "      <td>2012</td>\n",
       "      <td>M</td>\n",
       "      <td>F</td>\n",
       "      <td>105012254</td>\n",
       "      <td>34.64</td>\n",
       "      <td>11.233</td>\n",
       "      <td>-4.472</td>\n",
       "    </tr>\n",
       "  </tbody>\n",
       "</table>\n",
       "</div>"
      ],
      "text/plain": [
       "   index   ox_code src_code sra_sample_accession population       country  \\\n",
       "0      0  AB0085-C    BF2-4            ERS223996        BFS  Burkina Faso   \n",
       "1      1  AB0087-C    BF3-3            ERS224013        BFM  Burkina Faso   \n",
       "2      2  AB0088-C    BF3-5            ERS223991        BFM  Burkina Faso   \n",
       "3      3  AB0089-C    BF3-8            ERS224031        BFM  Burkina Faso   \n",
       "4      4  AB0090-C   BF3-10            ERS223936        BFM  Burkina Faso   \n",
       "\n",
       "  region  contributor         contact  year m_s sex  n_sequences  \\\n",
       "0   Pala  Austin Burt  Sam O'Loughlin  2012   S   F     89905852   \n",
       "1   Bana  Austin Burt  Sam O'Loughlin  2012   M   F    116706234   \n",
       "2   Bana  Austin Burt  Sam O'Loughlin  2012   M   F    112090460   \n",
       "3   Bana  Austin Burt  Sam O'Loughlin  2012   M   F    145350454   \n",
       "4   Bana  Austin Burt  Sam O'Loughlin  2012   M   F    105012254   \n",
       "\n",
       "   mean_coverage  latitude  longitude  \n",
       "0          28.01    11.150     -4.235  \n",
       "1          36.76    11.233     -4.472  \n",
       "2          23.30    11.233     -4.472  \n",
       "3          41.36    11.233     -4.472  \n",
       "4          34.64    11.233     -4.472  "
      ]
     },
     "execution_count": 42,
     "metadata": {},
     "output_type": "execute_result"
    }
   ],
   "source": [
    "samples_fn = 'samples.meta.txt'\n",
    "samples = pandas.read_csv(samples_fn, sep='\\t')\n",
    "samples.head()"
   ]
  },
  {
   "cell_type": "markdown",
   "metadata": {},
   "source": [
    "The \"population\" column defines which of 9 populations the mosquitoes came from, based on sampling location and species. E.g., \"BFM\" means Anopheles coluzzii mosquitoes from Burkina Faso, \"GAS\" means Anopheles gambiae mosquitoes from Gabon. How many mosquitoes come from each of these populations?"
   ]
  },
  {
   "cell_type": "code",
   "execution_count": 43,
   "metadata": {},
   "outputs": [
    {
     "data": {
      "text/plain": [
       "CMS    275\n",
       "UGS    103\n",
       "BFS     81\n",
       "BFM     69\n",
       "AOM     60\n",
       "GAS     56\n",
       "GWA     46\n",
       "KES     44\n",
       "GNS     31\n",
       "Name: population, dtype: int64"
      ]
     },
     "execution_count": 43,
     "metadata": {},
     "output_type": "execute_result"
    }
   ],
   "source": [
    "samples.population.value_counts()"
   ]
  },
  {
   "cell_type": "markdown",
   "metadata": {},
   "source": [
    "Let's work with two populations only for simplicity. These are *Anopheles coluzzii* populations from Burkina Faso (BFM) and Angola (AOM)."
   ]
  },
  {
   "cell_type": "code",
   "execution_count": 44,
   "metadata": {},
   "outputs": [
    {
     "data": {
      "text/plain": [
       "array([False,  True,  True,  True,  True])"
      ]
     },
     "execution_count": 44,
     "metadata": {},
     "output_type": "execute_result"
    }
   ],
   "source": [
    "sample_selection = samples.population.isin({'BFM', 'AOM'}).values\n",
    "sample_selection[:5]"
   ]
  },
  {
   "cell_type": "markdown",
   "metadata": {},
   "source": [
    "Now restrict the samples table to only these two populations."
   ]
  },
  {
   "cell_type": "code",
   "execution_count": 48,
   "metadata": {},
   "outputs": [
    {
     "data": {
      "text/html": [
       "<div>\n",
       "<style scoped>\n",
       "    .dataframe tbody tr th:only-of-type {\n",
       "        vertical-align: middle;\n",
       "    }\n",
       "\n",
       "    .dataframe tbody tr th {\n",
       "        vertical-align: top;\n",
       "    }\n",
       "\n",
       "    .dataframe thead th {\n",
       "        text-align: right;\n",
       "    }\n",
       "</style>\n",
       "<table border=\"1\" class=\"dataframe\">\n",
       "  <thead>\n",
       "    <tr style=\"text-align: right;\">\n",
       "      <th></th>\n",
       "      <th>index</th>\n",
       "      <th>ox_code</th>\n",
       "      <th>src_code</th>\n",
       "      <th>sra_sample_accession</th>\n",
       "      <th>population</th>\n",
       "      <th>country</th>\n",
       "      <th>region</th>\n",
       "      <th>contributor</th>\n",
       "      <th>contact</th>\n",
       "      <th>year</th>\n",
       "      <th>m_s</th>\n",
       "      <th>sex</th>\n",
       "      <th>n_sequences</th>\n",
       "      <th>mean_coverage</th>\n",
       "      <th>latitude</th>\n",
       "      <th>longitude</th>\n",
       "    </tr>\n",
       "  </thead>\n",
       "  <tbody>\n",
       "    <tr>\n",
       "      <th>0</th>\n",
       "      <td>1</td>\n",
       "      <td>AB0087-C</td>\n",
       "      <td>BF3-3</td>\n",
       "      <td>ERS224013</td>\n",
       "      <td>BFM</td>\n",
       "      <td>Burkina Faso</td>\n",
       "      <td>Bana</td>\n",
       "      <td>Austin Burt</td>\n",
       "      <td>Sam O'Loughlin</td>\n",
       "      <td>2012</td>\n",
       "      <td>M</td>\n",
       "      <td>F</td>\n",
       "      <td>116706234</td>\n",
       "      <td>36.76</td>\n",
       "      <td>11.233</td>\n",
       "      <td>-4.472</td>\n",
       "    </tr>\n",
       "    <tr>\n",
       "      <th>1</th>\n",
       "      <td>2</td>\n",
       "      <td>AB0088-C</td>\n",
       "      <td>BF3-5</td>\n",
       "      <td>ERS223991</td>\n",
       "      <td>BFM</td>\n",
       "      <td>Burkina Faso</td>\n",
       "      <td>Bana</td>\n",
       "      <td>Austin Burt</td>\n",
       "      <td>Sam O'Loughlin</td>\n",
       "      <td>2012</td>\n",
       "      <td>M</td>\n",
       "      <td>F</td>\n",
       "      <td>112090460</td>\n",
       "      <td>23.30</td>\n",
       "      <td>11.233</td>\n",
       "      <td>-4.472</td>\n",
       "    </tr>\n",
       "    <tr>\n",
       "      <th>2</th>\n",
       "      <td>3</td>\n",
       "      <td>AB0089-C</td>\n",
       "      <td>BF3-8</td>\n",
       "      <td>ERS224031</td>\n",
       "      <td>BFM</td>\n",
       "      <td>Burkina Faso</td>\n",
       "      <td>Bana</td>\n",
       "      <td>Austin Burt</td>\n",
       "      <td>Sam O'Loughlin</td>\n",
       "      <td>2012</td>\n",
       "      <td>M</td>\n",
       "      <td>F</td>\n",
       "      <td>145350454</td>\n",
       "      <td>41.36</td>\n",
       "      <td>11.233</td>\n",
       "      <td>-4.472</td>\n",
       "    </tr>\n",
       "    <tr>\n",
       "      <th>3</th>\n",
       "      <td>4</td>\n",
       "      <td>AB0090-C</td>\n",
       "      <td>BF3-10</td>\n",
       "      <td>ERS223936</td>\n",
       "      <td>BFM</td>\n",
       "      <td>Burkina Faso</td>\n",
       "      <td>Bana</td>\n",
       "      <td>Austin Burt</td>\n",
       "      <td>Sam O'Loughlin</td>\n",
       "      <td>2012</td>\n",
       "      <td>M</td>\n",
       "      <td>F</td>\n",
       "      <td>105012254</td>\n",
       "      <td>34.64</td>\n",
       "      <td>11.233</td>\n",
       "      <td>-4.472</td>\n",
       "    </tr>\n",
       "    <tr>\n",
       "      <th>4</th>\n",
       "      <td>5</td>\n",
       "      <td>AB0091-C</td>\n",
       "      <td>BF3-12</td>\n",
       "      <td>ERS224065</td>\n",
       "      <td>BFM</td>\n",
       "      <td>Burkina Faso</td>\n",
       "      <td>Bana</td>\n",
       "      <td>Austin Burt</td>\n",
       "      <td>Sam O'Loughlin</td>\n",
       "      <td>2012</td>\n",
       "      <td>M</td>\n",
       "      <td>F</td>\n",
       "      <td>98833426</td>\n",
       "      <td>29.97</td>\n",
       "      <td>11.233</td>\n",
       "      <td>-4.472</td>\n",
       "    </tr>\n",
       "    <tr>\n",
       "      <th>5</th>\n",
       "      <td>6</td>\n",
       "      <td>AB0092-C</td>\n",
       "      <td>BF3-13</td>\n",
       "      <td>ERS224043</td>\n",
       "      <td>BFM</td>\n",
       "      <td>Burkina Faso</td>\n",
       "      <td>Bana</td>\n",
       "      <td>Austin Burt</td>\n",
       "      <td>Sam O'Loughlin</td>\n",
       "      <td>2012</td>\n",
       "      <td>M</td>\n",
       "      <td>F</td>\n",
       "      <td>89897604</td>\n",
       "      <td>29.79</td>\n",
       "      <td>11.233</td>\n",
       "      <td>-4.472</td>\n",
       "    </tr>\n",
       "    <tr>\n",
       "      <th>6</th>\n",
       "      <td>7</td>\n",
       "      <td>AB0094-C</td>\n",
       "      <td>BF3-17</td>\n",
       "      <td>ERS224057</td>\n",
       "      <td>BFM</td>\n",
       "      <td>Burkina Faso</td>\n",
       "      <td>Bana</td>\n",
       "      <td>Austin Burt</td>\n",
       "      <td>Sam O'Loughlin</td>\n",
       "      <td>2012</td>\n",
       "      <td>M</td>\n",
       "      <td>F</td>\n",
       "      <td>94712888</td>\n",
       "      <td>31.76</td>\n",
       "      <td>11.233</td>\n",
       "      <td>-4.472</td>\n",
       "    </tr>\n",
       "    <tr>\n",
       "      <th>7</th>\n",
       "      <td>8</td>\n",
       "      <td>AB0095-C</td>\n",
       "      <td>BF4-1</td>\n",
       "      <td>ERS224021</td>\n",
       "      <td>BFM</td>\n",
       "      <td>Burkina Faso</td>\n",
       "      <td>Bana</td>\n",
       "      <td>Austin Burt</td>\n",
       "      <td>Sam O'Loughlin</td>\n",
       "      <td>2012</td>\n",
       "      <td>M</td>\n",
       "      <td>F</td>\n",
       "      <td>102184952</td>\n",
       "      <td>32.91</td>\n",
       "      <td>11.233</td>\n",
       "      <td>-4.472</td>\n",
       "    </tr>\n",
       "    <tr>\n",
       "      <th>8</th>\n",
       "      <td>9</td>\n",
       "      <td>AB0097-C</td>\n",
       "      <td>BF4-5</td>\n",
       "      <td>ERS224030</td>\n",
       "      <td>BFM</td>\n",
       "      <td>Burkina Faso</td>\n",
       "      <td>Bana</td>\n",
       "      <td>Austin Burt</td>\n",
       "      <td>Sam O'Loughlin</td>\n",
       "      <td>2012</td>\n",
       "      <td>M</td>\n",
       "      <td>F</td>\n",
       "      <td>123867582</td>\n",
       "      <td>38.21</td>\n",
       "      <td>11.233</td>\n",
       "      <td>-4.472</td>\n",
       "    </tr>\n",
       "    <tr>\n",
       "      <th>9</th>\n",
       "      <td>10</td>\n",
       "      <td>AB0098-C</td>\n",
       "      <td>BF4-6</td>\n",
       "      <td>ERS223999</td>\n",
       "      <td>BFM</td>\n",
       "      <td>Burkina Faso</td>\n",
       "      <td>Bana</td>\n",
       "      <td>Austin Burt</td>\n",
       "      <td>Sam O'Loughlin</td>\n",
       "      <td>2012</td>\n",
       "      <td>M</td>\n",
       "      <td>F</td>\n",
       "      <td>111579866</td>\n",
       "      <td>35.09</td>\n",
       "      <td>11.233</td>\n",
       "      <td>-4.472</td>\n",
       "    </tr>\n",
       "    <tr>\n",
       "      <th>10</th>\n",
       "      <td>11</td>\n",
       "      <td>AB0099-C</td>\n",
       "      <td>BF6-1</td>\n",
       "      <td>ERS223941</td>\n",
       "      <td>BFM</td>\n",
       "      <td>Burkina Faso</td>\n",
       "      <td>Bana</td>\n",
       "      <td>Austin Burt</td>\n",
       "      <td>Sam O'Loughlin</td>\n",
       "      <td>2012</td>\n",
       "      <td>M</td>\n",
       "      <td>F</td>\n",
       "      <td>101764662</td>\n",
       "      <td>30.27</td>\n",
       "      <td>11.233</td>\n",
       "      <td>-4.472</td>\n",
       "    </tr>\n",
       "    <tr>\n",
       "      <th>11</th>\n",
       "      <td>12</td>\n",
       "      <td>AB0100-C</td>\n",
       "      <td>BF6-2</td>\n",
       "      <td>ERS224020</td>\n",
       "      <td>BFM</td>\n",
       "      <td>Burkina Faso</td>\n",
       "      <td>Bana</td>\n",
       "      <td>Austin Burt</td>\n",
       "      <td>Sam O'Loughlin</td>\n",
       "      <td>2012</td>\n",
       "      <td>M</td>\n",
       "      <td>F</td>\n",
       "      <td>112109710</td>\n",
       "      <td>32.21</td>\n",
       "      <td>11.233</td>\n",
       "      <td>-4.472</td>\n",
       "    </tr>\n",
       "    <tr>\n",
       "      <th>12</th>\n",
       "      <td>13</td>\n",
       "      <td>AB0101-C</td>\n",
       "      <td>BF6-3</td>\n",
       "      <td>ERS223977</td>\n",
       "      <td>BFM</td>\n",
       "      <td>Burkina Faso</td>\n",
       "      <td>Bana</td>\n",
       "      <td>Austin Burt</td>\n",
       "      <td>Sam O'Loughlin</td>\n",
       "      <td>2012</td>\n",
       "      <td>M</td>\n",
       "      <td>F</td>\n",
       "      <td>102477906</td>\n",
       "      <td>28.86</td>\n",
       "      <td>11.233</td>\n",
       "      <td>-4.472</td>\n",
       "    </tr>\n",
       "    <tr>\n",
       "      <th>13</th>\n",
       "      <td>16</td>\n",
       "      <td>AB0109-C</td>\n",
       "      <td>BF9-1</td>\n",
       "      <td>ERS223925</td>\n",
       "      <td>BFM</td>\n",
       "      <td>Burkina Faso</td>\n",
       "      <td>Bana</td>\n",
       "      <td>Austin Burt</td>\n",
       "      <td>Sam O'Loughlin</td>\n",
       "      <td>2012</td>\n",
       "      <td>M</td>\n",
       "      <td>F</td>\n",
       "      <td>111138116</td>\n",
       "      <td>33.20</td>\n",
       "      <td>11.233</td>\n",
       "      <td>-4.472</td>\n",
       "    </tr>\n",
       "    <tr>\n",
       "      <th>14</th>\n",
       "      <td>17</td>\n",
       "      <td>AB0110-C</td>\n",
       "      <td>BF9-2</td>\n",
       "      <td>ERS224009</td>\n",
       "      <td>BFM</td>\n",
       "      <td>Burkina Faso</td>\n",
       "      <td>Bana</td>\n",
       "      <td>Austin Burt</td>\n",
       "      <td>Sam O'Loughlin</td>\n",
       "      <td>2012</td>\n",
       "      <td>M</td>\n",
       "      <td>F</td>\n",
       "      <td>158505714</td>\n",
       "      <td>49.59</td>\n",
       "      <td>11.233</td>\n",
       "      <td>-4.472</td>\n",
       "    </tr>\n",
       "    <tr>\n",
       "      <th>15</th>\n",
       "      <td>18</td>\n",
       "      <td>AB0111-C</td>\n",
       "      <td>BF9-3</td>\n",
       "      <td>ERS224056</td>\n",
       "      <td>BFM</td>\n",
       "      <td>Burkina Faso</td>\n",
       "      <td>Bana</td>\n",
       "      <td>Austin Burt</td>\n",
       "      <td>Sam O'Loughlin</td>\n",
       "      <td>2012</td>\n",
       "      <td>M</td>\n",
       "      <td>F</td>\n",
       "      <td>92577574</td>\n",
       "      <td>30.30</td>\n",
       "      <td>11.233</td>\n",
       "      <td>-4.472</td>\n",
       "    </tr>\n",
       "    <tr>\n",
       "      <th>16</th>\n",
       "      <td>19</td>\n",
       "      <td>AB0112-C</td>\n",
       "      <td>BF3-18</td>\n",
       "      <td>ERS224015</td>\n",
       "      <td>BFM</td>\n",
       "      <td>Burkina Faso</td>\n",
       "      <td>Bana</td>\n",
       "      <td>Austin Burt</td>\n",
       "      <td>Sam O'Loughlin</td>\n",
       "      <td>2012</td>\n",
       "      <td>M</td>\n",
       "      <td>F</td>\n",
       "      <td>114628046</td>\n",
       "      <td>36.49</td>\n",
       "      <td>11.233</td>\n",
       "      <td>-4.472</td>\n",
       "    </tr>\n",
       "    <tr>\n",
       "      <th>17</th>\n",
       "      <td>20</td>\n",
       "      <td>AB0113-C</td>\n",
       "      <td>BF3-19</td>\n",
       "      <td>ERS223984</td>\n",
       "      <td>BFM</td>\n",
       "      <td>Burkina Faso</td>\n",
       "      <td>Bana</td>\n",
       "      <td>Austin Burt</td>\n",
       "      <td>Sam O'Loughlin</td>\n",
       "      <td>2012</td>\n",
       "      <td>M</td>\n",
       "      <td>F</td>\n",
       "      <td>105726174</td>\n",
       "      <td>30.80</td>\n",
       "      <td>11.233</td>\n",
       "      <td>-4.472</td>\n",
       "    </tr>\n",
       "    <tr>\n",
       "      <th>18</th>\n",
       "      <td>21</td>\n",
       "      <td>AB0114-C</td>\n",
       "      <td>BF4-7</td>\n",
       "      <td>ERS224023</td>\n",
       "      <td>BFM</td>\n",
       "      <td>Burkina Faso</td>\n",
       "      <td>Bana</td>\n",
       "      <td>Austin Burt</td>\n",
       "      <td>Sam O'Loughlin</td>\n",
       "      <td>2012</td>\n",
       "      <td>M</td>\n",
       "      <td>F</td>\n",
       "      <td>163544496</td>\n",
       "      <td>51.50</td>\n",
       "      <td>11.233</td>\n",
       "      <td>-4.472</td>\n",
       "    </tr>\n",
       "    <tr>\n",
       "      <th>19</th>\n",
       "      <td>24</td>\n",
       "      <td>AB0122-C</td>\n",
       "      <td>BF3-26</td>\n",
       "      <td>ERS224064</td>\n",
       "      <td>BFM</td>\n",
       "      <td>Burkina Faso</td>\n",
       "      <td>Bana</td>\n",
       "      <td>Austin Burt</td>\n",
       "      <td>Sam O'Loughlin</td>\n",
       "      <td>2012</td>\n",
       "      <td>M</td>\n",
       "      <td>M</td>\n",
       "      <td>91622016</td>\n",
       "      <td>29.02</td>\n",
       "      <td>11.233</td>\n",
       "      <td>-4.472</td>\n",
       "    </tr>\n",
       "    <tr>\n",
       "      <th>20</th>\n",
       "      <td>25</td>\n",
       "      <td>AB0123-C</td>\n",
       "      <td>BF3-27</td>\n",
       "      <td>ERS224045</td>\n",
       "      <td>BFM</td>\n",
       "      <td>Burkina Faso</td>\n",
       "      <td>Bana</td>\n",
       "      <td>Austin Burt</td>\n",
       "      <td>Sam O'Loughlin</td>\n",
       "      <td>2012</td>\n",
       "      <td>M</td>\n",
       "      <td>M</td>\n",
       "      <td>108346680</td>\n",
       "      <td>34.77</td>\n",
       "      <td>11.233</td>\n",
       "      <td>-4.472</td>\n",
       "    </tr>\n",
       "    <tr>\n",
       "      <th>21</th>\n",
       "      <td>26</td>\n",
       "      <td>AB0124-C</td>\n",
       "      <td>BF3-28</td>\n",
       "      <td>ERS224044</td>\n",
       "      <td>BFM</td>\n",
       "      <td>Burkina Faso</td>\n",
       "      <td>Bana</td>\n",
       "      <td>Austin Burt</td>\n",
       "      <td>Sam O'Loughlin</td>\n",
       "      <td>2012</td>\n",
       "      <td>M</td>\n",
       "      <td>M</td>\n",
       "      <td>96687784</td>\n",
       "      <td>30.26</td>\n",
       "      <td>11.233</td>\n",
       "      <td>-4.472</td>\n",
       "    </tr>\n",
       "    <tr>\n",
       "      <th>22</th>\n",
       "      <td>36</td>\n",
       "      <td>AB0137-C</td>\n",
       "      <td>BF2-18</td>\n",
       "      <td>ERS224008</td>\n",
       "      <td>BFM</td>\n",
       "      <td>Burkina Faso</td>\n",
       "      <td>Sourukoudinga</td>\n",
       "      <td>Austin Burt</td>\n",
       "      <td>Sam O'Loughlin</td>\n",
       "      <td>2012</td>\n",
       "      <td>M</td>\n",
       "      <td>F</td>\n",
       "      <td>107119658</td>\n",
       "      <td>35.51</td>\n",
       "      <td>11.235</td>\n",
       "      <td>-4.535</td>\n",
       "    </tr>\n",
       "    <tr>\n",
       "      <th>23</th>\n",
       "      <td>37</td>\n",
       "      <td>AB0138-C</td>\n",
       "      <td>BF2-19</td>\n",
       "      <td>ERS224006</td>\n",
       "      <td>BFM</td>\n",
       "      <td>Burkina Faso</td>\n",
       "      <td>Sourukoudinga</td>\n",
       "      <td>Austin Burt</td>\n",
       "      <td>Sam O'Loughlin</td>\n",
       "      <td>2012</td>\n",
       "      <td>M</td>\n",
       "      <td>F</td>\n",
       "      <td>104224064</td>\n",
       "      <td>32.09</td>\n",
       "      <td>11.235</td>\n",
       "      <td>-4.535</td>\n",
       "    </tr>\n",
       "    <tr>\n",
       "      <th>24</th>\n",
       "      <td>38</td>\n",
       "      <td>AB0139-C</td>\n",
       "      <td>BF2-20</td>\n",
       "      <td>ERS223955</td>\n",
       "      <td>BFM</td>\n",
       "      <td>Burkina Faso</td>\n",
       "      <td>Sourukoudinga</td>\n",
       "      <td>Austin Burt</td>\n",
       "      <td>Sam O'Loughlin</td>\n",
       "      <td>2012</td>\n",
       "      <td>M</td>\n",
       "      <td>F</td>\n",
       "      <td>101147414</td>\n",
       "      <td>31.42</td>\n",
       "      <td>11.235</td>\n",
       "      <td>-4.535</td>\n",
       "    </tr>\n",
       "    <tr>\n",
       "      <th>25</th>\n",
       "      <td>39</td>\n",
       "      <td>AB0140-C</td>\n",
       "      <td>BF2-21</td>\n",
       "      <td>ERS223963</td>\n",
       "      <td>BFM</td>\n",
       "      <td>Burkina Faso</td>\n",
       "      <td>Sourukoudinga</td>\n",
       "      <td>Austin Burt</td>\n",
       "      <td>Sam O'Loughlin</td>\n",
       "      <td>2012</td>\n",
       "      <td>M</td>\n",
       "      <td>F</td>\n",
       "      <td>110728572</td>\n",
       "      <td>35.79</td>\n",
       "      <td>11.235</td>\n",
       "      <td>-4.535</td>\n",
       "    </tr>\n",
       "    <tr>\n",
       "      <th>26</th>\n",
       "      <td>40</td>\n",
       "      <td>AB0142-C</td>\n",
       "      <td>BF2-23</td>\n",
       "      <td>ERS223982</td>\n",
       "      <td>BFM</td>\n",
       "      <td>Burkina Faso</td>\n",
       "      <td>Sourukoudinga</td>\n",
       "      <td>Austin Burt</td>\n",
       "      <td>Sam O'Loughlin</td>\n",
       "      <td>2012</td>\n",
       "      <td>M</td>\n",
       "      <td>F</td>\n",
       "      <td>89204824</td>\n",
       "      <td>30.31</td>\n",
       "      <td>11.235</td>\n",
       "      <td>-4.535</td>\n",
       "    </tr>\n",
       "    <tr>\n",
       "      <th>27</th>\n",
       "      <td>67</td>\n",
       "      <td>AB0181-C</td>\n",
       "      <td>BFBana_4_2</td>\n",
       "      <td>ERS223761</td>\n",
       "      <td>BFM</td>\n",
       "      <td>Burkina Faso</td>\n",
       "      <td>Bana</td>\n",
       "      <td>Austin Burt</td>\n",
       "      <td>Sam O'Loughlin</td>\n",
       "      <td>2012</td>\n",
       "      <td>M</td>\n",
       "      <td>F</td>\n",
       "      <td>112794312</td>\n",
       "      <td>36.11</td>\n",
       "      <td>11.233</td>\n",
       "      <td>-4.472</td>\n",
       "    </tr>\n",
       "    <tr>\n",
       "      <th>28</th>\n",
       "      <td>68</td>\n",
       "      <td>AB0182-C</td>\n",
       "      <td>BFBana_4_3</td>\n",
       "      <td>ERS223922</td>\n",
       "      <td>BFM</td>\n",
       "      <td>Burkina Faso</td>\n",
       "      <td>Bana</td>\n",
       "      <td>Austin Burt</td>\n",
       "      <td>Sam O'Loughlin</td>\n",
       "      <td>2012</td>\n",
       "      <td>M</td>\n",
       "      <td>F</td>\n",
       "      <td>99125704</td>\n",
       "      <td>31.73</td>\n",
       "      <td>11.233</td>\n",
       "      <td>-4.472</td>\n",
       "    </tr>\n",
       "    <tr>\n",
       "      <th>29</th>\n",
       "      <td>69</td>\n",
       "      <td>AB0183-C</td>\n",
       "      <td>BFBana5_1</td>\n",
       "      <td>ERS223994</td>\n",
       "      <td>BFM</td>\n",
       "      <td>Burkina Faso</td>\n",
       "      <td>Bana</td>\n",
       "      <td>Austin Burt</td>\n",
       "      <td>Sam O'Loughlin</td>\n",
       "      <td>2012</td>\n",
       "      <td>M</td>\n",
       "      <td>F</td>\n",
       "      <td>89894120</td>\n",
       "      <td>26.15</td>\n",
       "      <td>11.233</td>\n",
       "      <td>-4.472</td>\n",
       "    </tr>\n",
       "    <tr>\n",
       "      <th>...</th>\n",
       "      <td>...</td>\n",
       "      <td>...</td>\n",
       "      <td>...</td>\n",
       "      <td>...</td>\n",
       "      <td>...</td>\n",
       "      <td>...</td>\n",
       "      <td>...</td>\n",
       "      <td>...</td>\n",
       "      <td>...</td>\n",
       "      <td>...</td>\n",
       "      <td>...</td>\n",
       "      <td>...</td>\n",
       "      <td>...</td>\n",
       "      <td>...</td>\n",
       "      <td>...</td>\n",
       "      <td>...</td>\n",
       "    </tr>\n",
       "    <tr>\n",
       "      <th>70</th>\n",
       "      <td>619</td>\n",
       "      <td>AR0008-C</td>\n",
       "      <td>LUA008</td>\n",
       "      <td>ERS224129</td>\n",
       "      <td>AOM</td>\n",
       "      <td>Angola</td>\n",
       "      <td>Luanda</td>\n",
       "      <td>Joao Pinto</td>\n",
       "      <td>NaN</td>\n",
       "      <td>2009</td>\n",
       "      <td>M</td>\n",
       "      <td>F</td>\n",
       "      <td>91490260</td>\n",
       "      <td>29.21</td>\n",
       "      <td>-8.821</td>\n",
       "      <td>13.291</td>\n",
       "    </tr>\n",
       "    <tr>\n",
       "      <th>71</th>\n",
       "      <td>620</td>\n",
       "      <td>AR0009-C</td>\n",
       "      <td>LUA009</td>\n",
       "      <td>ERS224325</td>\n",
       "      <td>AOM</td>\n",
       "      <td>Angola</td>\n",
       "      <td>Luanda</td>\n",
       "      <td>Joao Pinto</td>\n",
       "      <td>NaN</td>\n",
       "      <td>2009</td>\n",
       "      <td>M</td>\n",
       "      <td>F</td>\n",
       "      <td>105932994</td>\n",
       "      <td>33.27</td>\n",
       "      <td>-8.821</td>\n",
       "      <td>13.291</td>\n",
       "    </tr>\n",
       "    <tr>\n",
       "      <th>72</th>\n",
       "      <td>621</td>\n",
       "      <td>AR0010-C</td>\n",
       "      <td>LUA010</td>\n",
       "      <td>ERS224099</td>\n",
       "      <td>AOM</td>\n",
       "      <td>Angola</td>\n",
       "      <td>Luanda</td>\n",
       "      <td>Joao Pinto</td>\n",
       "      <td>NaN</td>\n",
       "      <td>2009</td>\n",
       "      <td>M</td>\n",
       "      <td>F</td>\n",
       "      <td>115066732</td>\n",
       "      <td>37.74</td>\n",
       "      <td>-8.821</td>\n",
       "      <td>13.291</td>\n",
       "    </tr>\n",
       "    <tr>\n",
       "      <th>73</th>\n",
       "      <td>622</td>\n",
       "      <td>AR0011-C</td>\n",
       "      <td>LUA011</td>\n",
       "      <td>ERS224318</td>\n",
       "      <td>AOM</td>\n",
       "      <td>Angola</td>\n",
       "      <td>Luanda</td>\n",
       "      <td>Joao Pinto</td>\n",
       "      <td>NaN</td>\n",
       "      <td>2009</td>\n",
       "      <td>M</td>\n",
       "      <td>F</td>\n",
       "      <td>105048076</td>\n",
       "      <td>31.87</td>\n",
       "      <td>-8.821</td>\n",
       "      <td>13.291</td>\n",
       "    </tr>\n",
       "    <tr>\n",
       "      <th>74</th>\n",
       "      <td>623</td>\n",
       "      <td>AR0012-C</td>\n",
       "      <td>LUA012</td>\n",
       "      <td>ERS224230</td>\n",
       "      <td>AOM</td>\n",
       "      <td>Angola</td>\n",
       "      <td>Luanda</td>\n",
       "      <td>Joao Pinto</td>\n",
       "      <td>NaN</td>\n",
       "      <td>2009</td>\n",
       "      <td>M</td>\n",
       "      <td>F</td>\n",
       "      <td>105096046</td>\n",
       "      <td>35.00</td>\n",
       "      <td>-8.821</td>\n",
       "      <td>13.291</td>\n",
       "    </tr>\n",
       "    <tr>\n",
       "      <th>75</th>\n",
       "      <td>624</td>\n",
       "      <td>AR0014-C</td>\n",
       "      <td>LUA014</td>\n",
       "      <td>ERS224282</td>\n",
       "      <td>AOM</td>\n",
       "      <td>Angola</td>\n",
       "      <td>Luanda</td>\n",
       "      <td>Joao Pinto</td>\n",
       "      <td>NaN</td>\n",
       "      <td>2009</td>\n",
       "      <td>M</td>\n",
       "      <td>F</td>\n",
       "      <td>104423686</td>\n",
       "      <td>32.76</td>\n",
       "      <td>-8.821</td>\n",
       "      <td>13.291</td>\n",
       "    </tr>\n",
       "    <tr>\n",
       "      <th>76</th>\n",
       "      <td>625</td>\n",
       "      <td>AR0015-C</td>\n",
       "      <td>LUA015</td>\n",
       "      <td>ERS224131</td>\n",
       "      <td>AOM</td>\n",
       "      <td>Angola</td>\n",
       "      <td>Luanda</td>\n",
       "      <td>Joao Pinto</td>\n",
       "      <td>NaN</td>\n",
       "      <td>2009</td>\n",
       "      <td>M</td>\n",
       "      <td>F</td>\n",
       "      <td>89544974</td>\n",
       "      <td>29.30</td>\n",
       "      <td>-8.821</td>\n",
       "      <td>13.291</td>\n",
       "    </tr>\n",
       "    <tr>\n",
       "      <th>77</th>\n",
       "      <td>626</td>\n",
       "      <td>AR0017-C</td>\n",
       "      <td>LUA017</td>\n",
       "      <td>ERS224124</td>\n",
       "      <td>AOM</td>\n",
       "      <td>Angola</td>\n",
       "      <td>Luanda</td>\n",
       "      <td>Joao Pinto</td>\n",
       "      <td>NaN</td>\n",
       "      <td>2009</td>\n",
       "      <td>M</td>\n",
       "      <td>F</td>\n",
       "      <td>88461946</td>\n",
       "      <td>27.97</td>\n",
       "      <td>-8.821</td>\n",
       "      <td>13.291</td>\n",
       "    </tr>\n",
       "    <tr>\n",
       "      <th>78</th>\n",
       "      <td>627</td>\n",
       "      <td>AR0019-C</td>\n",
       "      <td>LUA019</td>\n",
       "      <td>ERS224138</td>\n",
       "      <td>AOM</td>\n",
       "      <td>Angola</td>\n",
       "      <td>Luanda</td>\n",
       "      <td>Joao Pinto</td>\n",
       "      <td>NaN</td>\n",
       "      <td>2009</td>\n",
       "      <td>M</td>\n",
       "      <td>F</td>\n",
       "      <td>92841496</td>\n",
       "      <td>30.47</td>\n",
       "      <td>-8.821</td>\n",
       "      <td>13.291</td>\n",
       "    </tr>\n",
       "    <tr>\n",
       "      <th>79</th>\n",
       "      <td>628</td>\n",
       "      <td>AR0020-C</td>\n",
       "      <td>LUA020</td>\n",
       "      <td>ERS224267</td>\n",
       "      <td>AOM</td>\n",
       "      <td>Angola</td>\n",
       "      <td>Luanda</td>\n",
       "      <td>Joao Pinto</td>\n",
       "      <td>NaN</td>\n",
       "      <td>2009</td>\n",
       "      <td>M</td>\n",
       "      <td>F</td>\n",
       "      <td>89507990</td>\n",
       "      <td>27.64</td>\n",
       "      <td>-8.821</td>\n",
       "      <td>13.291</td>\n",
       "    </tr>\n",
       "    <tr>\n",
       "      <th>80</th>\n",
       "      <td>629</td>\n",
       "      <td>AR0021-C</td>\n",
       "      <td>LUA021</td>\n",
       "      <td>ERS224126</td>\n",
       "      <td>AOM</td>\n",
       "      <td>Angola</td>\n",
       "      <td>Luanda</td>\n",
       "      <td>Joao Pinto</td>\n",
       "      <td>NaN</td>\n",
       "      <td>2009</td>\n",
       "      <td>M</td>\n",
       "      <td>F</td>\n",
       "      <td>62409564</td>\n",
       "      <td>19.44</td>\n",
       "      <td>-8.821</td>\n",
       "      <td>13.291</td>\n",
       "    </tr>\n",
       "    <tr>\n",
       "      <th>81</th>\n",
       "      <td>630</td>\n",
       "      <td>AR0022-C</td>\n",
       "      <td>LUA022</td>\n",
       "      <td>ERS224289</td>\n",
       "      <td>AOM</td>\n",
       "      <td>Angola</td>\n",
       "      <td>Luanda</td>\n",
       "      <td>Joao Pinto</td>\n",
       "      <td>NaN</td>\n",
       "      <td>2009</td>\n",
       "      <td>M</td>\n",
       "      <td>F</td>\n",
       "      <td>94378862</td>\n",
       "      <td>29.11</td>\n",
       "      <td>-8.821</td>\n",
       "      <td>13.291</td>\n",
       "    </tr>\n",
       "    <tr>\n",
       "      <th>82</th>\n",
       "      <td>631</td>\n",
       "      <td>AR0023-C</td>\n",
       "      <td>LUA023</td>\n",
       "      <td>ERS224251</td>\n",
       "      <td>AOM</td>\n",
       "      <td>Angola</td>\n",
       "      <td>Luanda</td>\n",
       "      <td>Joao Pinto</td>\n",
       "      <td>NaN</td>\n",
       "      <td>2009</td>\n",
       "      <td>M</td>\n",
       "      <td>F</td>\n",
       "      <td>94617032</td>\n",
       "      <td>29.16</td>\n",
       "      <td>-8.821</td>\n",
       "      <td>13.291</td>\n",
       "    </tr>\n",
       "    <tr>\n",
       "      <th>83</th>\n",
       "      <td>632</td>\n",
       "      <td>AR0024-C</td>\n",
       "      <td>LUA024</td>\n",
       "      <td>ERS224280</td>\n",
       "      <td>AOM</td>\n",
       "      <td>Angola</td>\n",
       "      <td>Luanda</td>\n",
       "      <td>Joao Pinto</td>\n",
       "      <td>NaN</td>\n",
       "      <td>2009</td>\n",
       "      <td>M</td>\n",
       "      <td>F</td>\n",
       "      <td>99928404</td>\n",
       "      <td>29.92</td>\n",
       "      <td>-8.821</td>\n",
       "      <td>13.291</td>\n",
       "    </tr>\n",
       "    <tr>\n",
       "      <th>84</th>\n",
       "      <td>633</td>\n",
       "      <td>AR0026-C</td>\n",
       "      <td>LUA026</td>\n",
       "      <td>ERS242763; ERS254305</td>\n",
       "      <td>AOM</td>\n",
       "      <td>Angola</td>\n",
       "      <td>Luanda</td>\n",
       "      <td>Joao Pinto</td>\n",
       "      <td>NaN</td>\n",
       "      <td>2009</td>\n",
       "      <td>M</td>\n",
       "      <td>F</td>\n",
       "      <td>100980310</td>\n",
       "      <td>30.44</td>\n",
       "      <td>-8.821</td>\n",
       "      <td>13.291</td>\n",
       "    </tr>\n",
       "    <tr>\n",
       "      <th>85</th>\n",
       "      <td>634</td>\n",
       "      <td>AR0027-C</td>\n",
       "      <td>LUA027</td>\n",
       "      <td>ERS224329</td>\n",
       "      <td>AOM</td>\n",
       "      <td>Angola</td>\n",
       "      <td>Luanda</td>\n",
       "      <td>Joao Pinto</td>\n",
       "      <td>NaN</td>\n",
       "      <td>2009</td>\n",
       "      <td>M</td>\n",
       "      <td>F</td>\n",
       "      <td>98051838</td>\n",
       "      <td>29.99</td>\n",
       "      <td>-8.821</td>\n",
       "      <td>13.291</td>\n",
       "    </tr>\n",
       "    <tr>\n",
       "      <th>86</th>\n",
       "      <td>635</td>\n",
       "      <td>AR0034-C</td>\n",
       "      <td>LUA034</td>\n",
       "      <td>ERS224145</td>\n",
       "      <td>AOM</td>\n",
       "      <td>Angola</td>\n",
       "      <td>Luanda</td>\n",
       "      <td>Joao Pinto</td>\n",
       "      <td>NaN</td>\n",
       "      <td>2009</td>\n",
       "      <td>M</td>\n",
       "      <td>F</td>\n",
       "      <td>71622878</td>\n",
       "      <td>22.72</td>\n",
       "      <td>-8.821</td>\n",
       "      <td>13.291</td>\n",
       "    </tr>\n",
       "    <tr>\n",
       "      <th>87</th>\n",
       "      <td>636</td>\n",
       "      <td>AR0035-C</td>\n",
       "      <td>LUA035</td>\n",
       "      <td>ERS224333</td>\n",
       "      <td>AOM</td>\n",
       "      <td>Angola</td>\n",
       "      <td>Luanda</td>\n",
       "      <td>Joao Pinto</td>\n",
       "      <td>NaN</td>\n",
       "      <td>2009</td>\n",
       "      <td>M</td>\n",
       "      <td>F</td>\n",
       "      <td>99249560</td>\n",
       "      <td>30.99</td>\n",
       "      <td>-8.821</td>\n",
       "      <td>13.291</td>\n",
       "    </tr>\n",
       "    <tr>\n",
       "      <th>88</th>\n",
       "      <td>637</td>\n",
       "      <td>AR0042-C</td>\n",
       "      <td>LUA042</td>\n",
       "      <td>ERS224189</td>\n",
       "      <td>AOM</td>\n",
       "      <td>Angola</td>\n",
       "      <td>Luanda</td>\n",
       "      <td>Joao Pinto</td>\n",
       "      <td>NaN</td>\n",
       "      <td>2009</td>\n",
       "      <td>M</td>\n",
       "      <td>F</td>\n",
       "      <td>97098524</td>\n",
       "      <td>31.55</td>\n",
       "      <td>-8.821</td>\n",
       "      <td>13.291</td>\n",
       "    </tr>\n",
       "    <tr>\n",
       "      <th>89</th>\n",
       "      <td>638</td>\n",
       "      <td>AR0043-C</td>\n",
       "      <td>LUA043</td>\n",
       "      <td>ERS224331</td>\n",
       "      <td>AOM</td>\n",
       "      <td>Angola</td>\n",
       "      <td>Luanda</td>\n",
       "      <td>Joao Pinto</td>\n",
       "      <td>NaN</td>\n",
       "      <td>2009</td>\n",
       "      <td>M</td>\n",
       "      <td>F</td>\n",
       "      <td>98518316</td>\n",
       "      <td>31.59</td>\n",
       "      <td>-8.821</td>\n",
       "      <td>13.291</td>\n",
       "    </tr>\n",
       "    <tr>\n",
       "      <th>90</th>\n",
       "      <td>639</td>\n",
       "      <td>AR0045-C</td>\n",
       "      <td>LUA045</td>\n",
       "      <td>ERS224327</td>\n",
       "      <td>AOM</td>\n",
       "      <td>Angola</td>\n",
       "      <td>Luanda</td>\n",
       "      <td>Joao Pinto</td>\n",
       "      <td>NaN</td>\n",
       "      <td>2009</td>\n",
       "      <td>M</td>\n",
       "      <td>F</td>\n",
       "      <td>116771594</td>\n",
       "      <td>36.22</td>\n",
       "      <td>-8.821</td>\n",
       "      <td>13.291</td>\n",
       "    </tr>\n",
       "    <tr>\n",
       "      <th>91</th>\n",
       "      <td>640</td>\n",
       "      <td>AR0047-C</td>\n",
       "      <td>LUA047</td>\n",
       "      <td>ERS224005</td>\n",
       "      <td>AOM</td>\n",
       "      <td>Angola</td>\n",
       "      <td>Luanda</td>\n",
       "      <td>Joao Pinto</td>\n",
       "      <td>NaN</td>\n",
       "      <td>2009</td>\n",
       "      <td>M</td>\n",
       "      <td>F</td>\n",
       "      <td>81491198</td>\n",
       "      <td>27.21</td>\n",
       "      <td>-8.821</td>\n",
       "      <td>13.291</td>\n",
       "    </tr>\n",
       "    <tr>\n",
       "      <th>92</th>\n",
       "      <td>641</td>\n",
       "      <td>AR0049-C</td>\n",
       "      <td>LUA049</td>\n",
       "      <td>ERS224019</td>\n",
       "      <td>AOM</td>\n",
       "      <td>Angola</td>\n",
       "      <td>Luanda</td>\n",
       "      <td>Joao Pinto</td>\n",
       "      <td>NaN</td>\n",
       "      <td>2009</td>\n",
       "      <td>M</td>\n",
       "      <td>F</td>\n",
       "      <td>83078320</td>\n",
       "      <td>27.98</td>\n",
       "      <td>-8.821</td>\n",
       "      <td>13.291</td>\n",
       "    </tr>\n",
       "    <tr>\n",
       "      <th>93</th>\n",
       "      <td>642</td>\n",
       "      <td>AR0050-C</td>\n",
       "      <td>LUA050</td>\n",
       "      <td>ERS224177</td>\n",
       "      <td>AOM</td>\n",
       "      <td>Angola</td>\n",
       "      <td>Luanda</td>\n",
       "      <td>Joao Pinto</td>\n",
       "      <td>NaN</td>\n",
       "      <td>2009</td>\n",
       "      <td>M</td>\n",
       "      <td>F</td>\n",
       "      <td>102737040</td>\n",
       "      <td>30.49</td>\n",
       "      <td>-8.821</td>\n",
       "      <td>13.291</td>\n",
       "    </tr>\n",
       "    <tr>\n",
       "      <th>94</th>\n",
       "      <td>643</td>\n",
       "      <td>AR0051-C</td>\n",
       "      <td>LUA051</td>\n",
       "      <td>ERS224026</td>\n",
       "      <td>AOM</td>\n",
       "      <td>Angola</td>\n",
       "      <td>Luanda</td>\n",
       "      <td>Joao Pinto</td>\n",
       "      <td>NaN</td>\n",
       "      <td>2009</td>\n",
       "      <td>M</td>\n",
       "      <td>F</td>\n",
       "      <td>77649564</td>\n",
       "      <td>26.09</td>\n",
       "      <td>-8.821</td>\n",
       "      <td>13.291</td>\n",
       "    </tr>\n",
       "    <tr>\n",
       "      <th>95</th>\n",
       "      <td>644</td>\n",
       "      <td>AR0053-C</td>\n",
       "      <td>LUA053</td>\n",
       "      <td>ERS242770; ERS254306</td>\n",
       "      <td>AOM</td>\n",
       "      <td>Angola</td>\n",
       "      <td>Luanda</td>\n",
       "      <td>Joao Pinto</td>\n",
       "      <td>NaN</td>\n",
       "      <td>2009</td>\n",
       "      <td>M</td>\n",
       "      <td>F</td>\n",
       "      <td>84177928</td>\n",
       "      <td>26.50</td>\n",
       "      <td>-8.821</td>\n",
       "      <td>13.291</td>\n",
       "    </tr>\n",
       "    <tr>\n",
       "      <th>96</th>\n",
       "      <td>645</td>\n",
       "      <td>AR0054-C</td>\n",
       "      <td>LUA054</td>\n",
       "      <td>ERS224119</td>\n",
       "      <td>AOM</td>\n",
       "      <td>Angola</td>\n",
       "      <td>Luanda</td>\n",
       "      <td>Joao Pinto</td>\n",
       "      <td>NaN</td>\n",
       "      <td>2009</td>\n",
       "      <td>M</td>\n",
       "      <td>F</td>\n",
       "      <td>81028790</td>\n",
       "      <td>26.03</td>\n",
       "      <td>-8.821</td>\n",
       "      <td>13.291</td>\n",
       "    </tr>\n",
       "    <tr>\n",
       "      <th>97</th>\n",
       "      <td>646</td>\n",
       "      <td>AR0057-C</td>\n",
       "      <td>LUA057</td>\n",
       "      <td>ERS224175</td>\n",
       "      <td>AOM</td>\n",
       "      <td>Angola</td>\n",
       "      <td>Luanda</td>\n",
       "      <td>Joao Pinto</td>\n",
       "      <td>NaN</td>\n",
       "      <td>2009</td>\n",
       "      <td>M</td>\n",
       "      <td>F</td>\n",
       "      <td>92649398</td>\n",
       "      <td>29.78</td>\n",
       "      <td>-8.821</td>\n",
       "      <td>13.291</td>\n",
       "    </tr>\n",
       "    <tr>\n",
       "      <th>98</th>\n",
       "      <td>647</td>\n",
       "      <td>AR0059-C</td>\n",
       "      <td>LUA059</td>\n",
       "      <td>ERS224297</td>\n",
       "      <td>AOM</td>\n",
       "      <td>Angola</td>\n",
       "      <td>Luanda</td>\n",
       "      <td>Joao Pinto</td>\n",
       "      <td>NaN</td>\n",
       "      <td>2009</td>\n",
       "      <td>M</td>\n",
       "      <td>F</td>\n",
       "      <td>102290938</td>\n",
       "      <td>33.05</td>\n",
       "      <td>-8.821</td>\n",
       "      <td>13.291</td>\n",
       "    </tr>\n",
       "    <tr>\n",
       "      <th>99</th>\n",
       "      <td>648</td>\n",
       "      <td>AR0061-C</td>\n",
       "      <td>LUA061</td>\n",
       "      <td>ERS224033</td>\n",
       "      <td>AOM</td>\n",
       "      <td>Angola</td>\n",
       "      <td>Luanda</td>\n",
       "      <td>Joao Pinto</td>\n",
       "      <td>NaN</td>\n",
       "      <td>2009</td>\n",
       "      <td>M</td>\n",
       "      <td>F</td>\n",
       "      <td>69163440</td>\n",
       "      <td>22.49</td>\n",
       "      <td>-8.821</td>\n",
       "      <td>13.291</td>\n",
       "    </tr>\n",
       "  </tbody>\n",
       "</table>\n",
       "<p>100 rows × 16 columns</p>\n",
       "</div>"
      ],
      "text/plain": [
       "    index   ox_code src_code  sra_sample_accession population       country  \\\n",
       "0       1  AB0087-C    BF3-3             ERS224013        BFM  Burkina Faso   \n",
       "1       2  AB0088-C    BF3-5             ERS223991        BFM  Burkina Faso   \n",
       "2       3  AB0089-C    BF3-8             ERS224031        BFM  Burkina Faso   \n",
       "3       4  AB0090-C   BF3-10             ERS223936        BFM  Burkina Faso   \n",
       "4       5  AB0091-C   BF3-12             ERS224065        BFM  Burkina Faso   \n",
       "..    ...       ...      ...                   ...        ...           ...   \n",
       "95    644  AR0053-C   LUA053  ERS242770; ERS254306        AOM        Angola   \n",
       "96    645  AR0054-C   LUA054             ERS224119        AOM        Angola   \n",
       "97    646  AR0057-C   LUA057             ERS224175        AOM        Angola   \n",
       "98    647  AR0059-C   LUA059             ERS224297        AOM        Angola   \n",
       "99    648  AR0061-C   LUA061             ERS224033        AOM        Angola   \n",
       "\n",
       "    region  contributor         contact  year m_s sex  n_sequences  \\\n",
       "0     Bana  Austin Burt  Sam O'Loughlin  2012   M   F    116706234   \n",
       "1     Bana  Austin Burt  Sam O'Loughlin  2012   M   F    112090460   \n",
       "2     Bana  Austin Burt  Sam O'Loughlin  2012   M   F    145350454   \n",
       "3     Bana  Austin Burt  Sam O'Loughlin  2012   M   F    105012254   \n",
       "4     Bana  Austin Burt  Sam O'Loughlin  2012   M   F     98833426   \n",
       "..     ...          ...             ...   ...  ..  ..          ...   \n",
       "95  Luanda   Joao Pinto             NaN  2009   M   F     84177928   \n",
       "96  Luanda   Joao Pinto             NaN  2009   M   F     81028790   \n",
       "97  Luanda   Joao Pinto             NaN  2009   M   F     92649398   \n",
       "98  Luanda   Joao Pinto             NaN  2009   M   F    102290938   \n",
       "99  Luanda   Joao Pinto             NaN  2009   M   F     69163440   \n",
       "\n",
       "    mean_coverage  latitude  longitude  \n",
       "0           36.76    11.233     -4.472  \n",
       "1           23.30    11.233     -4.472  \n",
       "2           41.36    11.233     -4.472  \n",
       "3           34.64    11.233     -4.472  \n",
       "4           29.97    11.233     -4.472  \n",
       "..            ...       ...        ...  \n",
       "95          26.50    -8.821     13.291  \n",
       "96          26.03    -8.821     13.291  \n",
       "97          29.78    -8.821     13.291  \n",
       "98          33.05    -8.821     13.291  \n",
       "99          22.49    -8.821     13.291  \n",
       "\n",
       "[100 rows x 16 columns]"
      ]
     },
     "execution_count": 48,
     "metadata": {},
     "output_type": "execute_result"
    }
   ],
   "source": [
    "samples_subset = samples[sample_selection]\n",
    "samples_subset.reset_index(drop=True, inplace=True)\n",
    "samples_subset.head(100)"
   ]
  },
  {
   "cell_type": "code",
   "execution_count": 49,
   "metadata": {},
   "outputs": [
    {
     "data": {
      "text/plain": [
       "BFM    69\n",
       "AOM    60\n",
       "Name: population, dtype: int64"
      ]
     },
     "execution_count": 49,
     "metadata": {},
     "output_type": "execute_result"
    }
   ],
   "source": [
    "samples_subset.population.value_counts()"
   ]
  },
  {
   "cell_type": "markdown",
   "metadata": {},
   "source": [
    "## Subset genotypes by samples & quality\n",
    "Now let's subset the genotype calls to keep only variants that pass our quality filters and only samples in our two populations of interest."
   ]
  },
  {
   "cell_type": "code",
   "execution_count": 55,
   "metadata": {},
   "outputs": [],
   "source": [
    "\n",
    "genotypes_subset = genotypes.subset(variant_selection, sample_selection)"
   ]
  },
  {
   "cell_type": "code",
   "execution_count": 56,
   "metadata": {},
   "outputs": [
    {
     "data": {
      "text/html": [
       "<div class=\"allel allel-DisplayAs2D\"><span>&lt;GenotypeChunkedArray shape=(168384, 129, 2) dtype=int8 chunks=(2631, 129, 2)\n",
       "   nbytes=41.4M cbytes=2.1M cratio=19.9\n",
       "   compression=blosc compression_opts={'cname': 'lz4', 'clevel': 5, 'shuffle': 1, 'blocksize': 0}\n",
       "   values=zarr.core.Array&gt;</span><table><thead><tr><th></th><th style=\"text-align: center\">0</th><th style=\"text-align: center\">1</th><th style=\"text-align: center\">2</th><th style=\"text-align: center\">3</th><th style=\"text-align: center\">4</th><th style=\"text-align: center\">...</th><th style=\"text-align: center\">124</th><th style=\"text-align: center\">125</th><th style=\"text-align: center\">126</th><th style=\"text-align: center\">127</th><th style=\"text-align: center\">128</th></tr></thead><tbody><tr><th style=\"text-align: center; background-color: white; border-right: 1px solid black; \">0</th><td style=\"text-align: center\">0/0</td><td style=\"text-align: center\">0/0</td><td style=\"text-align: center\">0/0</td><td style=\"text-align: center\">0/0</td><td style=\"text-align: center\">0/0</td><td style=\"text-align: center\">...</td><td style=\"text-align: center\">0/0</td><td style=\"text-align: center\">0/0</td><td style=\"text-align: center\">0/0</td><td style=\"text-align: center\">0/0</td><td style=\"text-align: center\">0/0</td></tr><tr><th style=\"text-align: center; background-color: white; border-right: 1px solid black; \">1</th><td style=\"text-align: center\">0/0</td><td style=\"text-align: center\">0/0</td><td style=\"text-align: center\">0/0</td><td style=\"text-align: center\">0/0</td><td style=\"text-align: center\">0/0</td><td style=\"text-align: center\">...</td><td style=\"text-align: center\">0/0</td><td style=\"text-align: center\">0/0</td><td style=\"text-align: center\">0/0</td><td style=\"text-align: center\">0/0</td><td style=\"text-align: center\">0/0</td></tr><tr><th style=\"text-align: center; background-color: white; border-right: 1px solid black; \">2</th><td style=\"text-align: center\">0/0</td><td style=\"text-align: center\">0/0</td><td style=\"text-align: center\">0/0</td><td style=\"text-align: center\">0/0</td><td style=\"text-align: center\">0/0</td><td style=\"text-align: center\">...</td><td style=\"text-align: center\">0/0</td><td style=\"text-align: center\">0/0</td><td style=\"text-align: center\">0/0</td><td style=\"text-align: center\">0/0</td><td style=\"text-align: center\">0/0</td></tr><tr><th style=\"text-align: center; background-color: white; border-right: 1px solid black; \">...</th><td style=\"text-align: center\" colspan=\"12\">...</td></tr><tr><th style=\"text-align: center; background-color: white; border-right: 1px solid black; \">168381</th><td style=\"text-align: center\">0/0</td><td style=\"text-align: center\">0/0</td><td style=\"text-align: center\">0/0</td><td style=\"text-align: center\">0/0</td><td style=\"text-align: center\">0/0</td><td style=\"text-align: center\">...</td><td style=\"text-align: center\">0/0</td><td style=\"text-align: center\">0/0</td><td style=\"text-align: center\">0/0</td><td style=\"text-align: center\">0/0</td><td style=\"text-align: center\">0/0</td></tr><tr><th style=\"text-align: center; background-color: white; border-right: 1px solid black; \">168382</th><td style=\"text-align: center\">0/0</td><td style=\"text-align: center\">0/0</td><td style=\"text-align: center\">0/0</td><td style=\"text-align: center\">0/0</td><td style=\"text-align: center\">0/0</td><td style=\"text-align: center\">...</td><td style=\"text-align: center\">0/0</td><td style=\"text-align: center\">0/0</td><td style=\"text-align: center\">0/0</td><td style=\"text-align: center\">0/0</td><td style=\"text-align: center\">0/0</td></tr><tr><th style=\"text-align: center; background-color: white; border-right: 1px solid black; \">168383</th><td style=\"text-align: center\">0/0</td><td style=\"text-align: center\">0/0</td><td style=\"text-align: center\">0/0</td><td style=\"text-align: center\">0/0</td><td style=\"text-align: center\">0/0</td><td style=\"text-align: center\">...</td><td style=\"text-align: center\">0/0</td><td style=\"text-align: center\">0/0</td><td style=\"text-align: center\">0/0</td><td style=\"text-align: center\">0/0</td><td style=\"text-align: center\">0/0</td></tr></tbody></table></div>"
      ],
      "text/plain": [
       "<GenotypeChunkedArray shape=(168384, 129, 2) dtype=int8 chunks=(2631, 129, 2)\n",
       "   nbytes=41.4M cbytes=2.1M cratio=19.9\n",
       "   compression=blosc compression_opts={'cname': 'lz4', 'clevel': 5, 'shuffle': 1, 'blocksize': 0}\n",
       "   values=zarr.core.Array>"
      ]
     },
     "execution_count": 56,
     "metadata": {},
     "output_type": "execute_result"
    }
   ],
   "source": [
    "genotypes_subset"
   ]
  },
  {
   "cell_type": "markdown",
   "metadata": {},
   "source": [
    "The new genotype array we've made has 168,383 SNPs and 129 samples, as expected."
   ]
  },
  {
   "cell_type": "markdown",
   "metadata": {},
   "source": [
    "## Allele count\n",
    "Scikit-allel uses as a first step for population genetic analyses a function called `count_alleles()` that creates an allele count object. The allele_count for each SNP is simply counting how many copies of the reference allele (0) and each of the alternate alleles (1, 2, 3) are observed.\n",
    "\n",
    "We will use a fancy version of the `count_alleles()` function, `count_alleles_subpops()` that will take a dictionary of population names as part of the input to produce population specific allele counts.  To set this up, define a dictionary mapping population names onto the indices of samples within them."
   ]
  },
  {
   "cell_type": "code",
   "execution_count": 57,
   "metadata": {},
   "outputs": [
    {
     "data": {
      "text/plain": [
       "[69, 70, 71, 72, 73]"
      ]
     },
     "execution_count": 57,
     "metadata": {},
     "output_type": "execute_result"
    }
   ],
   "source": [
    "subpops = {\n",
    "    'all': list(range(len(samples_subset))),\n",
    "    'BFM': samples_subset[samples_subset.population == 'BFM'].index.tolist(),\n",
    "    'AOM': samples_subset[samples_subset.population == 'AOM'].index.tolist(),\n",
    "}\n",
    "subpops['AOM'][:5]"
   ]
  },
  {
   "cell_type": "markdown",
   "metadata": {},
   "source": [
    "Now perform the allele count."
   ]
  },
  {
   "cell_type": "code",
   "execution_count": 58,
   "metadata": {},
   "outputs": [
    {
     "data": {
      "text/html": [
       "<div class=\"allel allel-DisplayAsTable\"><span>&lt;AlleleCountsChunkedTable shape=(168384,) dtype=[('AOM', '&lt;i4', (4,)), ('BFM', '&lt;i4', (4,)), ('all', '&lt;i4', (4,))]\n",
       "   nbytes=7.7M cbytes=875.7K cratio=9.0\n",
       "   values=allel.chunked.storage_zarr.ZarrTable&gt;</span><table><thead><tr><th></th><th style=\"text-align: center\">AOM</th><th style=\"text-align: center\">BFM</th><th style=\"text-align: center\">all</th></tr></thead><tbody><tr><th style=\"text-align: center; background-color: white; border-right: 1px solid black; \">0</th><td style=\"text-align: center\">[120   0   0   0]</td><td style=\"text-align: center\">[138   0   0   0]</td><td style=\"text-align: center\">[258   0   0   0]</td></tr><tr><th style=\"text-align: center; background-color: white; border-right: 1px solid black; \">1</th><td style=\"text-align: center\">[120   0   0   0]</td><td style=\"text-align: center\">[138   0   0   0]</td><td style=\"text-align: center\">[258   0   0   0]</td></tr><tr><th style=\"text-align: center; background-color: white; border-right: 1px solid black; \">2</th><td style=\"text-align: center\">[120   0   0   0]</td><td style=\"text-align: center\">[138   0   0   0]</td><td style=\"text-align: center\">[258   0   0   0]</td></tr><tr><th style=\"text-align: center; background-color: white; border-right: 1px solid black; \">...</th><td style=\"text-align: center\" colspan=\"4\">...</td></tr><tr><th style=\"text-align: center; background-color: white; border-right: 1px solid black; \">168381</th><td style=\"text-align: center\">[120   0   0   0]</td><td style=\"text-align: center\">[138   0   0   0]</td><td style=\"text-align: center\">[258   0   0   0]</td></tr><tr><th style=\"text-align: center; background-color: white; border-right: 1px solid black; \">168382</th><td style=\"text-align: center\">[120   0   0   0]</td><td style=\"text-align: center\">[138   0   0   0]</td><td style=\"text-align: center\">[258   0   0   0]</td></tr><tr><th style=\"text-align: center; background-color: white; border-right: 1px solid black; \">168383</th><td style=\"text-align: center\">[120   0   0   0]</td><td style=\"text-align: center\">[138   0   0   0]</td><td style=\"text-align: center\">[258   0   0   0]</td></tr></tbody></table></div>"
      ],
      "text/plain": [
       "<AlleleCountsChunkedTable shape=(168384,) dtype=[('AOM', '<i4', (4,)), ('BFM', '<i4', (4,)), ('all', '<i4', (4,))]\n",
       "   nbytes=7.7M cbytes=875.7K cratio=9.0\n",
       "   values=allel.chunked.storage_zarr.ZarrTable>"
      ]
     },
     "execution_count": 58,
     "metadata": {},
     "output_type": "execute_result"
    }
   ],
   "source": [
    "ac_subpops = genotypes_subset.count_alleles_subpops(subpops, max_allele=3)\n",
    "ac_subpops"
   ]
  },
  {
   "cell_type": "markdown",
   "metadata": {},
   "source": [
    "Each column in the table above has allele counts for a population, where \"all\" means the union of both populations. We can pull out a single column, e.g.:"
   ]
  },
  {
   "cell_type": "markdown",
   "metadata": {},
   "source": [
    "## Locate segregating variants\n",
    "\n",
    "There are lots of SNPs which do not segregate in either of these populations are so are not interesting for any analysis of these populations. We might as well get rid of them.\n",
    "\n",
    "How many segregating SNPs are there in each population?\n"
   ]
  },
  {
   "cell_type": "code",
   "execution_count": 59,
   "metadata": {},
   "outputs": [
    {
     "name": "stdout",
     "output_type": "stream",
     "text": [
      "all 68585\n",
      "BFM 58532\n",
      "AOM 25888\n"
     ]
    }
   ],
   "source": [
    "for pop in 'all', 'BFM', 'AOM':\n",
    "    print(pop, ac_subpops[pop].count_segregating())"
   ]
  },
  {
   "cell_type": "markdown",
   "metadata": {},
   "source": [
    "Locate SNPs that are segregating in the union of our two selected populations."
   ]
  },
  {
   "cell_type": "code",
   "execution_count": 60,
   "metadata": {},
   "outputs": [
    {
     "data": {
      "text/plain": [
       "array([False, False, False, ..., False, False, False])"
      ]
     },
     "execution_count": 60,
     "metadata": {},
     "output_type": "execute_result"
    }
   ],
   "source": [
    "is_seg = ac_subpops['all'].is_segregating()[:]\n",
    "is_seg"
   ]
  },
  {
   "cell_type": "markdown",
   "metadata": {},
   "source": [
    "Subset genotypes again to keep only the segregating SNPs."
   ]
  },
  {
   "cell_type": "code",
   "execution_count": 61,
   "metadata": {},
   "outputs": [
    {
     "data": {
      "text/html": [
       "<div class=\"allel allel-DisplayAs2D\"><span>&lt;GenotypeChunkedArray shape=(68585, 129, 2) dtype=int8 chunks=(2144, 129, 2)\n",
       "   nbytes=16.9M cbytes=2.0M cratio=8.6\n",
       "   compression=blosc compression_opts={'cname': 'lz4', 'clevel': 5, 'shuffle': 1, 'blocksize': 0}\n",
       "   values=zarr.core.Array&gt;</span><table><thead><tr><th></th><th style=\"text-align: center\">0</th><th style=\"text-align: center\">1</th><th style=\"text-align: center\">2</th><th style=\"text-align: center\">3</th><th style=\"text-align: center\">4</th><th style=\"text-align: center\">...</th><th style=\"text-align: center\">124</th><th style=\"text-align: center\">125</th><th style=\"text-align: center\">126</th><th style=\"text-align: center\">127</th><th style=\"text-align: center\">128</th></tr></thead><tbody><tr><th style=\"text-align: center; background-color: white; border-right: 1px solid black; \">0</th><td style=\"text-align: center\">0/0</td><td style=\"text-align: center\">0/0</td><td style=\"text-align: center\">0/0</td><td style=\"text-align: center\">0/0</td><td style=\"text-align: center\">0/0</td><td style=\"text-align: center\">...</td><td style=\"text-align: center\">0/0</td><td style=\"text-align: center\">0/0</td><td style=\"text-align: center\">0/0</td><td style=\"text-align: center\">0/0</td><td style=\"text-align: center\">0/0</td></tr><tr><th style=\"text-align: center; background-color: white; border-right: 1px solid black; \">1</th><td style=\"text-align: center\">0/0</td><td style=\"text-align: center\">0/0</td><td style=\"text-align: center\">0/0</td><td style=\"text-align: center\">0/0</td><td style=\"text-align: center\">0/0</td><td style=\"text-align: center\">...</td><td style=\"text-align: center\">0/0</td><td style=\"text-align: center\">0/0</td><td style=\"text-align: center\">0/0</td><td style=\"text-align: center\">0/0</td><td style=\"text-align: center\">0/0</td></tr><tr><th style=\"text-align: center; background-color: white; border-right: 1px solid black; \">2</th><td style=\"text-align: center\">0/0</td><td style=\"text-align: center\">0/0</td><td style=\"text-align: center\">0/0</td><td style=\"text-align: center\">0/0</td><td style=\"text-align: center\">0/0</td><td style=\"text-align: center\">...</td><td style=\"text-align: center\">0/0</td><td style=\"text-align: center\">0/0</td><td style=\"text-align: center\">0/0</td><td style=\"text-align: center\">0/0</td><td style=\"text-align: center\">0/0</td></tr><tr><th style=\"text-align: center; background-color: white; border-right: 1px solid black; \">...</th><td style=\"text-align: center\" colspan=\"12\">...</td></tr><tr><th style=\"text-align: center; background-color: white; border-right: 1px solid black; \">68582</th><td style=\"text-align: center\">0/0</td><td style=\"text-align: center\">0/0</td><td style=\"text-align: center\">0/0</td><td style=\"text-align: center\">0/0</td><td style=\"text-align: center\">0/0</td><td style=\"text-align: center\">...</td><td style=\"text-align: center\">0/0</td><td style=\"text-align: center\">0/0</td><td style=\"text-align: center\">0/1</td><td style=\"text-align: center\">0/0</td><td style=\"text-align: center\">0/0</td></tr><tr><th style=\"text-align: center; background-color: white; border-right: 1px solid black; \">68583</th><td style=\"text-align: center\">0/0</td><td style=\"text-align: center\">0/0</td><td style=\"text-align: center\">0/0</td><td style=\"text-align: center\">0/0</td><td style=\"text-align: center\">0/0</td><td style=\"text-align: center\">...</td><td style=\"text-align: center\">0/0</td><td style=\"text-align: center\">0/0</td><td style=\"text-align: center\">0/0</td><td style=\"text-align: center\">0/0</td><td style=\"text-align: center\">0/0</td></tr><tr><th style=\"text-align: center; background-color: white; border-right: 1px solid black; \">68584</th><td style=\"text-align: center\">0/0</td><td style=\"text-align: center\">0/0</td><td style=\"text-align: center\">0/0</td><td style=\"text-align: center\">0/0</td><td style=\"text-align: center\">0/1</td><td style=\"text-align: center\">...</td><td style=\"text-align: center\">1/1</td><td style=\"text-align: center\">0/1</td><td style=\"text-align: center\">0/0</td><td style=\"text-align: center\">1/1</td><td style=\"text-align: center\">0/1</td></tr></tbody></table></div>"
      ],
      "text/plain": [
       "<GenotypeChunkedArray shape=(68585, 129, 2) dtype=int8 chunks=(2144, 129, 2)\n",
       "   nbytes=16.9M cbytes=2.0M cratio=8.6\n",
       "   compression=blosc compression_opts={'cname': 'lz4', 'clevel': 5, 'shuffle': 1, 'blocksize': 0}\n",
       "   values=zarr.core.Array>"
      ]
     },
     "execution_count": 61,
     "metadata": {},
     "output_type": "execute_result"
    }
   ],
   "source": [
    "genotypes_seg = genotypes_subset.compress(is_seg, axis=0)\n",
    "genotypes_seg"
   ]
  },
  {
   "cell_type": "markdown",
   "metadata": {},
   "source": [
    "Subset the allele counts."
   ]
  },
  {
   "cell_type": "code",
   "execution_count": 62,
   "metadata": {},
   "outputs": [
    {
     "data": {
      "text/html": [
       "<div class=\"allel allel-DisplayAsTable\"><span>&lt;AlleleCountsChunkedTable shape=(68585,) dtype=[('AOM', '&lt;i4', (4,)), ('BFM', '&lt;i4', (4,)), ('all', '&lt;i4', (4,))]\n",
       "   nbytes=3.1M cbytes=552.4K cratio=5.8\n",
       "   values=allel.chunked.storage_zarr.ZarrTable&gt;</span><table><thead><tr><th></th><th style=\"text-align: center\">AOM</th><th style=\"text-align: center\">BFM</th><th style=\"text-align: center\">all</th></tr></thead><tbody><tr><th style=\"text-align: center; background-color: white; border-right: 1px solid black; \">0</th><td style=\"text-align: center\">[120   0   0   0]</td><td style=\"text-align: center\">[137   1   0   0]</td><td style=\"text-align: center\">[257   1   0   0]</td></tr><tr><th style=\"text-align: center; background-color: white; border-right: 1px solid black; \">1</th><td style=\"text-align: center\">[120   0   0   0]</td><td style=\"text-align: center\">[137   1   0   0]</td><td style=\"text-align: center\">[257   1   0   0]</td></tr><tr><th style=\"text-align: center; background-color: white; border-right: 1px solid black; \">2</th><td style=\"text-align: center\">[120   0   0   0]</td><td style=\"text-align: center\">[137   1   0   0]</td><td style=\"text-align: center\">[257   1   0   0]</td></tr><tr><th style=\"text-align: center; background-color: white; border-right: 1px solid black; \">...</th><td style=\"text-align: center\" colspan=\"4\">...</td></tr><tr><th style=\"text-align: center; background-color: white; border-right: 1px solid black; \">68582</th><td style=\"text-align: center\">[103  17   0   0]</td><td style=\"text-align: center\">[125  13   0   0]</td><td style=\"text-align: center\">[228  30   0   0]</td></tr><tr><th style=\"text-align: center; background-color: white; border-right: 1px solid black; \">68583</th><td style=\"text-align: center\">[120   0   0   0]</td><td style=\"text-align: center\">[135   3   0   0]</td><td style=\"text-align: center\">[255   3   0   0]</td></tr><tr><th style=\"text-align: center; background-color: white; border-right: 1px solid black; \">68584</th><td style=\"text-align: center\">[75 45  0  0]</td><td style=\"text-align: center\">[122  16   0   0]</td><td style=\"text-align: center\">[197  61   0   0]</td></tr></tbody></table></div>"
      ],
      "text/plain": [
       "<AlleleCountsChunkedTable shape=(68585,) dtype=[('AOM', '<i4', (4,)), ('BFM', '<i4', (4,)), ('all', '<i4', (4,))]\n",
       "   nbytes=3.1M cbytes=552.4K cratio=5.8\n",
       "   values=allel.chunked.storage_zarr.ZarrTable>"
      ]
     },
     "execution_count": 62,
     "metadata": {},
     "output_type": "execute_result"
    }
   ],
   "source": [
    "ac_seg = ac_subpops.compress(is_seg)\n",
    "ac_seg"
   ]
  },
  {
   "cell_type": "markdown",
   "metadata": {},
   "source": [
    "# Calculating heterozygosity across the samples\n",
    "Scikit-allel excels in the ability to calculate population genetic summary statistics across the genome easily and relatively quickly. Let's start by computing the classic estimator of the neutral mutation rate, $\\widehat{\\theta}_{W} = 4Nu$\n"
   ]
  },
  {
   "cell_type": "code",
   "execution_count": 63,
   "metadata": {},
   "outputs": [
    {
     "name": "stdout",
     "output_type": "stream",
     "text": [
      "(168384,)\n",
      "(68585,)\n"
     ]
    }
   ],
   "source": [
    "pos_sub=np.array(variants['POS'])[variant_selection]\n",
    "pos_sub_seg = pos_sub[is_seg]\n",
    "print(pos_sub.shape)\n",
    "print(pos_sub_seg.shape)"
   ]
  },
  {
   "cell_type": "code",
   "execution_count": 64,
   "metadata": {},
   "outputs": [
    {
     "data": {
      "image/png": "[encoded data removed]",
      "text/plain": [
       "<Figure size 864x576 with 1 Axes>"
      ]
     },
     "metadata": {
      "needs_background": "light"
     },
     "output_type": "display_data"
    }
   ],
   "source": [
    "chrom = \"3R\"\n",
    "blen = 10000\n",
    "fig, ax = plt.subplots(figsize=(12, 8))\n",
    "sns.despine(ax=ax, offset=10)\n",
    "theta_hat_w_bfm, windows, n_bases, counts = allel.windowed_watterson_theta(pos_sub_seg,ac_seg['BFM'],      \n",
    "                                size=blen,step=blen // 2)\n",
    "theta_hat_w_aom, windows, n_bases, counts = allel.windowed_watterson_theta(pos_sub_seg,ac_seg['AOM'],                                                                     \n",
    "                                size=blen,step=blen // 2)\n",
    "\n",
    "mids = (windows[:,1] + windows[:,0]) / 2\n",
    "ax.plot(mids,theta_hat_w_bfm, 'k-', lw=.5, color=\"blue\",label=\"BFM\")\n",
    "ax.plot(mids,theta_hat_w_aom, 'k-', lw=.5, color=\"red\",label=\"AOM\")\n",
    "\n",
    "ax.set_ylabel(r'$\\theta_{W}$')\n",
    "ax.set_xlabel('Chromosome %s position (bp)' % chrom)\n",
    "ax.set_title('windowed 'r'$\\theta_{W}$ from BFM and AOM')\n",
    "ax.legend()\n",
    "plt.show()\n"
   ]
  },
  {
   "cell_type": "markdown",
   "metadata": {},
   "source": [
    "let's quickly calculate the averages. it looks like BFM has higher levels of polymorphism "
   ]
  },
  {
   "cell_type": "code",
   "execution_count": 65,
   "metadata": {},
   "outputs": [
    {
     "name": "stdout",
     "output_type": "stream",
     "text": [
      "mean theta BFM:  0.010623436735403046\n",
      "mean theta AOM:  0.0048261202798795845\n"
     ]
    },
    {
     "data": {
      "text/plain": [
       "WilcoxonResult(statistic=0.0, pvalue=3.0553725471374046e-34)"
      ]
     },
     "execution_count": 65,
     "metadata": {},
     "output_type": "execute_result"
    }
   ],
   "source": [
    "import scipy as sp\n",
    "print('mean theta BFM: ',np.mean(theta_hat_w_bfm))\n",
    "print('mean theta AOM: ',np.mean(theta_hat_w_aom))\n",
    "#let's do a test\n",
    "sp.stats.wilcoxon(theta_hat_w_bfm,theta_hat_w_aom)"
   ]
  },
  {
   "cell_type": "markdown",
   "metadata": {},
   "source": [
    "so it looks like AOM is indeed much less polymorphic than BFM"
   ]
  },
  {
   "cell_type": "markdown",
   "metadata": {},
   "source": [
    "## Population differentiation\n",
    "\n",
    "Are these two populations genetically different? To get a first impression, let's plot the alternate allele counts from each population."
   ]
  },
  {
   "cell_type": "code",
   "execution_count": 66,
   "metadata": {},
   "outputs": [
    {
     "data": {
      "image/png": "[encoded data removed]",
      "text/plain": [
       "<Figure size 432x432 with 1 Axes>"
      ]
     },
     "metadata": {
      "needs_background": "light"
     },
     "output_type": "display_data"
    }
   ],
   "source": [
    "jsfs = allel.joint_sfs(ac_seg['BFM'][:, 1], ac_seg['AOM'][:, 1])\n",
    "fig, ax = plt.subplots(figsize=(6, 6))\n",
    "allel.plot_joint_sfs(jsfs, ax=ax)\n",
    "ax.set_ylabel('Alternate allele count, BFM')\n",
    "ax.set_xlabel('Alternate allele count, AOM');"
   ]
  },
  {
   "cell_type": "markdown",
   "metadata": {},
   "source": [
    "Next let's compute Fst between populations across the region"
   ]
  },
  {
   "cell_type": "code",
   "execution_count": 67,
   "metadata": {},
   "outputs": [
    {
     "name": "stdout",
     "output_type": "stream",
     "text": [
      "Hudson's Fst: 0.143 +/- 0.005\n"
     ]
    }
   ],
   "source": [
    "fst, fst_se, _, _ = allel.blockwise_hudson_fst(ac_seg['BFM'], ac_seg['AOM'], blen=1000)\n",
    "print(\"Hudson's Fst: %.3f +/- %.3f\" % (fst, fst_se))"
   ]
  },
  {
   "cell_type": "markdown",
   "metadata": {},
   "source": [
    "this is a reasonably high level of differentiation. The next thing we might be interested in doing is looking at how Fst varies across the chromosome. In particular empiricists are often interested in characterizing outlier regions of differentiation as they might be enriched for candidates for local adaptation"
   ]
  },
  {
   "cell_type": "code",
   "execution_count": 68,
   "metadata": {},
   "outputs": [
    {
     "data": {
      "text/plain": [
       "Text(0.5, 0, 'Chromosome 3R position (bp)')"
      ]
     },
     "execution_count": 68,
     "metadata": {},
     "output_type": "execute_result"
    },
    {
     "data": {
      "image/png": "[encoded data removed]",
      "text/plain": [
       "<Figure size 864x288 with 1 Axes>"
      ]
     },
     "metadata": {
      "needs_background": "light"
     },
     "output_type": "display_data"
    }
   ],
   "source": [
    "blen = 1000\n",
    "fig, ax = plt.subplots(figsize=(12, 4))\n",
    "sns.despine(ax=ax, offset=10)\n",
    "x = allel.moving_statistic(pos, statistic=lambda v: (v[0] + v[-1]) / 2, size=blen)\n",
    "y=allel.moving_hudson_fst(ac_seg['BFM'], ac_seg['AOM'],size=blen,step=blen//2)\n",
    "ax.plot(y, 'k-', lw=.5, color=\"blue\")\n",
    "ax.set_ylabel('$F_{ST}$')\n",
    "ax.set_xlabel('Chromosome %s position (bp)' % chrom)\n"
   ]
  },
  {
   "cell_type": "code",
   "execution_count": null,
   "metadata": {
    "collapsed": true,
    "jupyter": {
     "outputs_hidden": true
    }
   },
   "outputs": [],
   "source": []
  }
 ],
 "metadata": {
  "kernelspec": {
   "display_name": "Python 3",
   "language": "python",
   "name": "python3"
  },
  "language_info": {
   "codemirror_mode": {
    "name": "ipython",
    "version": 3
   },
   "file_extension": ".py",
   "mimetype": "text/x-python",
   "name": "python",
   "nbconvert_exporter": "python",
   "pygments_lexer": "ipython3",
   "version": "3.7.6"
  }
 },
 "nbformat": 4,
 "nbformat_minor": 4
}
