{
 "cells": [
  {
   "cell_type": "markdown",
   "metadata": {},
   "source": [
    "# Scikit-allel\n",
    "As this is an evolutionary genetics course, one of the tools we want to put into your toolbox is a way of analysing population scale data (i.e. population genetics data). We already covered in the last lecture how biopython can be used to interface with phylogenetics programs for creating trees or doing maximum likelihood estimation. Today we will take a look at `scikit-allel` which enables easy, python based analyses of common population genetic data formats such as `.vcf` files. \n",
    "\n",
    "### Installation\n",
    "As always our first point of business is installing scikit-allel on everyone's machine. Again we will use conda for this, either at the command line or that Anaconda prompt depending on your setup. \n",
    "\n",
    "`conda install -c conda-forge scikit-allel`\n",
    "\n",
    "`conda install seaborn`\n",
    "\n",
    "For people on a Windows machine this may cause issues. If so try to install using `pip` at the Anaconda prompt\n",
    "\n",
    "`pip install scikit-allel`\n",
    "\n",
    "Hopefully that will get everything we need installed. If not please let me know.\n",
    "\n"
   ]
  },
  {
   "cell_type": "markdown",
   "metadata": {},
   "source": [
    "## Setup\n",
    "\n",
    "Let's import the libraries we'll be using."
   ]
  },
  {
   "cell_type": "code",
   "execution_count": 103,
   "metadata": {},
   "outputs": [
    {
     "name": "stdout",
     "output_type": "stream",
     "text": [
      "scikit-allel 1.2.0\n"
     ]
    }
   ],
   "source": [
    "import numpy as np\n",
    "import scipy\n",
    "import pandas\n",
    "import matplotlib as mpl\n",
    "import matplotlib.pyplot as plt\n",
    "import seaborn as sns\n",
    "import h5py\n",
    "import allel; print('scikit-allel', allel.__version__)"
   ]
  },
  {
   "cell_type": "markdown",
   "metadata": {},
   "source": [
    "The data we'll be analyzing came from the [Anophele gambiae 1000 genomes project](https://www.malariagen.net/projects/ag1000g). This project is actually the reason that scikit-allel was developed, but it's useful for much much more.  \n",
    "\n",
    "We will be using data that comes in the form of an HDF5 file containing variant calls from the Ag1000G project phase 1 AR3 data release. These data have been vetted and cleaned up quite a bit before they have gotten to this point. If you have your own sequencing data, think hard about data quality before you get this far. For this example we are going to focus on a 1Mb section of chromosome 3R (28000000-29000000). \n"
   ]
  },
  {
   "cell_type": "code",
   "execution_count": 113,
   "metadata": {},
   "outputs": [
    {
     "name": "stdout",
     "output_type": "stream",
     "text": [
      "samples\n",
      "calldata/GT\n",
      "variants/ALT\n",
      "variants/CHROM\n",
      "variants/FILTER_PASS\n",
      "variants/ID\n",
      "variants/POS\n",
      "variants/QUAL\n",
      "variants/REF\n"
     ]
    },
    {
     "data": {
      "text/plain": [
       "187188"
      ]
     },
     "execution_count": 113,
     "metadata": {},
     "output_type": "execute_result"
    }
   ],
   "source": [
    "#ag= allel.read_vcf(\"ag1000g.phase1.ar3.pass.biallelic.3R.vcf.28000000-29000000.gz\")\n",
    "for x in list(ag.keys()):\n",
    "    print(x)\n",
    "len(ag['variants/QUAL'])\n"
   ]
  },
  {
   "cell_type": "code",
   "execution_count": 39,
   "metadata": {},
   "outputs": [],
   "source": [
    "allel.vcf_to_hdf5(\"ag1000g.phase1.ar3.pass.biallelic.3R.vcf.28000000-29000000.gz\",\n",
    "                  \"ag1000g.phase1.ar3.pass.biallelic.3R.vcf.28000000-29000000.h5\", fields=\"*\")"
   ]
  },
  {
   "cell_type": "code",
   "execution_count": 40,
   "metadata": {},
   "outputs": [
    {
     "data": {
      "text/plain": [
       "<HDF5 file \"ag1000g.phase1.ar3.pass.biallelic.3R.vcf.28000000-29000000.h5\" (mode r)>"
      ]
     },
     "execution_count": 40,
     "metadata": {},
     "output_type": "execute_result"
    }
   ],
   "source": [
    "callset_fn = 'ag1000g.phase1.ar3.pass.biallelic.3R.vcf.28000000-29000000.h5'\n",
    "callset = h5py.File(callset_fn, mode='r')\n",
    "callset"
   ]
  },
  {
   "cell_type": "markdown",
   "metadata": {},
   "source": [
    "## Visualize variant density\n",
    "\n",
    "As a first step into getting to know these data, let's make a plot of variant density, which will simply show us how many SNPs there are and how they are distributed along the chromosome.\n",
    "\n",
    "The data on SNP positions and various other attributes of the SNPs are stored in the HDF5 file. Each of these can be treated as a column in a table, so let's set up a table with some of the columns we'll need for this and subsequent analyses.\n"
   ]
  },
  {
   "cell_type": "code",
   "execution_count": 43,
   "metadata": {},
   "outputs": [
    {
     "data": {
      "text/html": [
       "<div class=\"allel allel-DisplayAsTable\"><span>&lt;VariantChunkedTable shape=(187188,) dtype=[('POS', '&lt;i4'), ('REF', 'O'), ('ALT', 'O', (3,)), ('DP', '&lt;i4'), ('MQ', '&lt;f4'), ('QD', '&lt;f4')]\n",
       "   nbytes=8.6M cbytes=2.8M cratio=3.1\n",
       "   values=h5py._hl.group.Group&gt;</span><table><thead><tr><th></th><th style=\"text-align: center\">POS</th><th style=\"text-align: center\">REF</th><th style=\"text-align: center\">ALT</th><th style=\"text-align: center\">DP</th><th style=\"text-align: center\">MQ</th><th style=\"text-align: center\">QD</th></tr></thead><tbody><tr><th style=\"text-align: center; background-color: white; border-right: 1px solid black; \">0</th><td style=\"text-align: center\">28000010</td><td style=\"text-align: center\">T</td><td style=\"text-align: center\">['C' '' '']</td><td style=\"text-align: center\">24707</td><td style=\"text-align: center\">47.35</td><td style=\"text-align: center\">16.92</td></tr><tr><th style=\"text-align: center; background-color: white; border-right: 1px solid black; \">1</th><td style=\"text-align: center\">28000013</td><td style=\"text-align: center\">G</td><td style=\"text-align: center\">['C' '' '']</td><td style=\"text-align: center\">24316</td><td style=\"text-align: center\">46.85</td><td style=\"text-align: center\">13.55</td></tr><tr><th style=\"text-align: center; background-color: white; border-right: 1px solid black; \">2</th><td style=\"text-align: center\">28000014</td><td style=\"text-align: center\">C</td><td style=\"text-align: center\">['T' '' '']</td><td style=\"text-align: center\">24322</td><td style=\"text-align: center\">46.66</td><td style=\"text-align: center\">12.42</td></tr><tr><th style=\"text-align: center; background-color: white; border-right: 1px solid black; \">...</th><td style=\"text-align: center\" colspan=\"7\">...</td></tr><tr><th style=\"text-align: center; background-color: white; border-right: 1px solid black; \">187185</th><td style=\"text-align: center\">28999997</td><td style=\"text-align: center\">C</td><td style=\"text-align: center\">['T' '' '']</td><td style=\"text-align: center\">24013</td><td style=\"text-align: center\">50.6</td><td style=\"text-align: center\">13.42</td></tr><tr><th style=\"text-align: center; background-color: white; border-right: 1px solid black; \">187186</th><td style=\"text-align: center\">28999998</td><td style=\"text-align: center\">C</td><td style=\"text-align: center\">['T' '' '']</td><td style=\"text-align: center\">23851</td><td style=\"text-align: center\">50.63</td><td style=\"text-align: center\">12.88</td></tr><tr><th style=\"text-align: center; background-color: white; border-right: 1px solid black; \">187187</th><td style=\"text-align: center\">28999999</td><td style=\"text-align: center\">C</td><td style=\"text-align: center\">['T' '' '']</td><td style=\"text-align: center\">23997</td><td style=\"text-align: center\">50.65</td><td style=\"text-align: center\">10.04</td></tr></tbody></table></div>"
      ],
      "text/plain": [
       "<VariantChunkedTable shape=(187188,) dtype=[('POS', '<i4'), ('REF', 'O'), ('ALT', 'O', (3,)), ('DP', '<i4'), ('MQ', '<f4'), ('QD', '<f4')]\n",
       "   nbytes=8.6M cbytes=2.8M cratio=3.1\n",
       "   values=h5py._hl.group.Group>"
      ]
     },
     "execution_count": 43,
     "metadata": {},
     "output_type": "execute_result"
    }
   ],
   "source": [
    "variants = allel.VariantChunkedTable(callset['variants'], \n",
    "                                     names=['POS', 'REF', 'ALT', 'DP', 'MQ', 'QD'],\n",
    "                                     index='POS')\n",
    "variants"
   ]
  },
  {
   "cell_type": "markdown",
   "metadata": {},
   "source": [
    "The caption for this table tells us that we have 187,187 SNPs (rows) in this dataset.\n",
    "\n",
    "Now let's extract the variant positions and load into a numpy array.\n"
   ]
  },
  {
   "cell_type": "code",
   "execution_count": 44,
   "metadata": {},
   "outputs": [
    {
     "data": {
      "text/plain": [
       "array([28000010, 28000013, 28000014, ..., 28999997, 28999998, 28999999],\n",
       "      dtype=int32)"
      ]
     },
     "execution_count": 44,
     "metadata": {},
     "output_type": "execute_result"
    }
   ],
   "source": [
    "pos = variants['POS'][:]\n",
    "pos"
   ]
  },
  {
   "cell_type": "markdown",
   "metadata": {},
   "source": [
    "Define a function to plot variant density in windows over the chromosome."
   ]
  },
  {
   "cell_type": "code",
   "execution_count": 46,
   "metadata": {},
   "outputs": [],
   "source": [
    "def plot_windowed_variant_density(pos, window_size, title=None):\n",
    "    \n",
    "    # setup windows \n",
    "    bins = np.arange(pos.min(), pos.max(), window_size)\n",
    "    \n",
    "    # use window midpoints as x coordinate\n",
    "    x = (bins[1:] + bins[:-1])/2\n",
    "    \n",
    "    # compute variant density in each window\n",
    "    h, _ = np.histogram(pos, bins=bins)\n",
    "    y = h / window_size\n",
    "    \n",
    "    # plot\n",
    "    fig, ax = plt.subplots(figsize=(12, 3))\n",
    "    sns.despine(ax=ax, offset=10)\n",
    "    ax.plot(x, y)\n",
    "    ax.set_xlabel('Chromosome position (bp)')\n",
    "    ax.set_ylabel('Variant density (bp$^{-1}$)')\n",
    "    if title:\n",
    "        ax.set_title(title)\n",
    "        "
   ]
  },
  {
   "cell_type": "code",
   "execution_count": 47,
   "metadata": {},
   "outputs": [
    {
     "data": {
      "image/png": "[encoded data removed]",
      "text/plain": [
       "<Figure size 864x216 with 1 Axes>"
      ]
     },
     "metadata": {},
     "output_type": "display_data"
    }
   ],
   "source": [
    "plot_windowed_variant_density(pos, window_size=5000, title='variant density')"
   ]
  },
  {
   "cell_type": "markdown",
   "metadata": {},
   "source": [
    "from this we can see that the density of SNPs is extremely high in our sample, roughly 0.2 on average which means we should find a SNP every 5 bases. For comparison human populations have 1 SNP every 700 bases on average. "
   ]
  },
  {
   "cell_type": "markdown",
   "metadata": {},
   "source": [
    "## Explore variant attributes\n",
    "\n",
    "As I mentioned above, each SNP also has a number \"annotations\", which are data attributes that originally came from the \"INFO\" field in the VCF file. These are important for data quality, so let's begin by getting to know a bit more about the numerical range and distribution of some of these attributes.\n",
    "\n",
    "Each attribute can be loaded from the table we setup earlier into a numpy array. E.g., load the \"DP\" field into an array."
   ]
  },
  {
   "cell_type": "code",
   "execution_count": 48,
   "metadata": {},
   "outputs": [
    {
     "data": {
      "text/plain": [
       "array([24707, 24316, 24322, ..., 24013, 23851, 23997], dtype=int32)"
      ]
     },
     "execution_count": 48,
     "metadata": {},
     "output_type": "execute_result"
    }
   ],
   "source": [
    "dp = variants['DP'][:]\n",
    "dp"
   ]
  },
  {
   "cell_type": "markdown",
   "metadata": {},
   "source": [
    "Define a function to plot a frequency distribution for any variant attribute."
   ]
  },
  {
   "cell_type": "code",
   "execution_count": 51,
   "metadata": {},
   "outputs": [],
   "source": [
    "def plot_variant_hist(f, bins=30):\n",
    "    x = variants[f][:]\n",
    "    fig, ax = plt.subplots(figsize=(7, 5))\n",
    "    sns.despine(ax=ax, offset=10)\n",
    "    ax.hist(x, bins=bins)\n",
    "    ax.set_xlabel(f)\n",
    "    ax.set_ylabel('No. variants')\n",
    "    ax.set_title('Variant %s distribution' % f)\n"
   ]
  },
  {
   "cell_type": "markdown",
   "metadata": {},
   "source": [
    "\"DP\" is total depth of coverage across all samples."
   ]
  },
  {
   "cell_type": "code",
   "execution_count": 52,
   "metadata": {},
   "outputs": [
    {
     "data": {
      "image/png": "[encoded data removed]",
      "text/plain": [
       "<Figure size 504x360 with 1 Axes>"
      ]
     },
     "metadata": {},
     "output_type": "display_data"
    }
   ],
   "source": [
    "plot_variant_hist('DP', bins=50)"
   ]
  },
  {
   "cell_type": "markdown",
   "metadata": {},
   "source": [
    "\"MQ\" is average mapping quality across all samples."
   ]
  },
  {
   "cell_type": "code",
   "execution_count": 53,
   "metadata": {},
   "outputs": [
    {
     "data": {
      "image/png": "[encoded data removed]",
      "text/plain": [
       "<Figure size 504x360 with 1 Axes>"
      ]
     },
     "metadata": {},
     "output_type": "display_data"
    }
   ],
   "source": [
    "plot_variant_hist('MQ')"
   ]
  },
  {
   "cell_type": "markdown",
   "metadata": {},
   "source": [
    "The Quality by Depth or \"QD\" score is a statistic which is quite useful for finding poor quality SNPs. This statistic essentially normalizes quality scores by coverage. We will use it for filtering later."
   ]
  },
  {
   "cell_type": "code",
   "execution_count": 55,
   "metadata": {},
   "outputs": [
    {
     "data": {
      "image/png": "[encoded data removed]",
      "text/plain": [
       "<Figure size 504x360 with 1 Axes>"
      ]
     },
     "metadata": {},
     "output_type": "display_data"
    }
   ],
   "source": [
    "plot_variant_hist('QD')"
   ]
  },
  {
   "cell_type": "markdown",
   "metadata": {},
   "source": [
    "## Filtering variants\n",
    "\n",
    "There are many possible approaches to filtering variants. The simplest approach is define thresholds on variant attributes like DP, MQ and QD, and exclude SNPs that fall outside of a defined range (a.k.a. \"hard filtering\"). This is crude but simple to implement and in many cases may suffice, at least for an initial exploration of the data. \n",
    "\n",
    "Let's implement a simple hard filter. First, a reminder that we have a table containing all these variant attributes."
   ]
  },
  {
   "cell_type": "code",
   "execution_count": 56,
   "metadata": {},
   "outputs": [
    {
     "data": {
      "text/html": [
       "<div class=\"allel allel-DisplayAsTable\"><span>&lt;VariantChunkedTable shape=(187188,) dtype=[('POS', '&lt;i4'), ('REF', 'O'), ('ALT', 'O', (3,)), ('DP', '&lt;i4'), ('MQ', '&lt;f4'), ('QD', '&lt;f4')]\n",
       "   nbytes=8.6M cbytes=2.8M cratio=3.1\n",
       "   values=h5py._hl.group.Group&gt;</span><table><thead><tr><th></th><th style=\"text-align: center\">POS</th><th style=\"text-align: center\">REF</th><th style=\"text-align: center\">ALT</th><th style=\"text-align: center\">DP</th><th style=\"text-align: center\">MQ</th><th style=\"text-align: center\">QD</th></tr></thead><tbody><tr><th style=\"text-align: center; background-color: white; border-right: 1px solid black; \">0</th><td style=\"text-align: center\">28000010</td><td style=\"text-align: center\">T</td><td style=\"text-align: center\">['C' '' '']</td><td style=\"text-align: center\">24707</td><td style=\"text-align: center\">47.35</td><td style=\"text-align: center\">16.92</td></tr><tr><th style=\"text-align: center; background-color: white; border-right: 1px solid black; \">1</th><td style=\"text-align: center\">28000013</td><td style=\"text-align: center\">G</td><td style=\"text-align: center\">['C' '' '']</td><td style=\"text-align: center\">24316</td><td style=\"text-align: center\">46.85</td><td style=\"text-align: center\">13.55</td></tr><tr><th style=\"text-align: center; background-color: white; border-right: 1px solid black; \">2</th><td style=\"text-align: center\">28000014</td><td style=\"text-align: center\">C</td><td style=\"text-align: center\">['T' '' '']</td><td style=\"text-align: center\">24322</td><td style=\"text-align: center\">46.66</td><td style=\"text-align: center\">12.42</td></tr><tr><th style=\"text-align: center; background-color: white; border-right: 1px solid black; \">...</th><td style=\"text-align: center\" colspan=\"7\">...</td></tr><tr><th style=\"text-align: center; background-color: white; border-right: 1px solid black; \">187185</th><td style=\"text-align: center\">28999997</td><td style=\"text-align: center\">C</td><td style=\"text-align: center\">['T' '' '']</td><td style=\"text-align: center\">24013</td><td style=\"text-align: center\">50.6</td><td style=\"text-align: center\">13.42</td></tr><tr><th style=\"text-align: center; background-color: white; border-right: 1px solid black; \">187186</th><td style=\"text-align: center\">28999998</td><td style=\"text-align: center\">C</td><td style=\"text-align: center\">['T' '' '']</td><td style=\"text-align: center\">23851</td><td style=\"text-align: center\">50.63</td><td style=\"text-align: center\">12.88</td></tr><tr><th style=\"text-align: center; background-color: white; border-right: 1px solid black; \">187187</th><td style=\"text-align: center\">28999999</td><td style=\"text-align: center\">C</td><td style=\"text-align: center\">['T' '' '']</td><td style=\"text-align: center\">23997</td><td style=\"text-align: center\">50.65</td><td style=\"text-align: center\">10.04</td></tr></tbody></table></div>"
      ],
      "text/plain": [
       "<VariantChunkedTable shape=(187188,) dtype=[('POS', '<i4'), ('REF', 'O'), ('ALT', 'O', (3,)), ('DP', '<i4'), ('MQ', '<f4'), ('QD', '<f4')]\n",
       "   nbytes=8.6M cbytes=2.8M cratio=3.1\n",
       "   values=h5py._hl.group.Group>"
      ]
     },
     "execution_count": 56,
     "metadata": {},
     "output_type": "execute_result"
    }
   ],
   "source": [
    "variants"
   ]
  },
  {
   "cell_type": "markdown",
   "metadata": {},
   "source": [
    "Define the hard filter using an expression. This is just a string of Python code, which we will evaluate in a moment."
   ]
  },
  {
   "cell_type": "code",
   "execution_count": 62,
   "metadata": {},
   "outputs": [],
   "source": [
    "filter_expression = '(QD > 5) & (MQ > 45) & (DP > 15000) & (DP < 30000)'"
   ]
  },
  {
   "cell_type": "markdown",
   "metadata": {},
   "source": [
    "now evaluate this condition over the entire variant table"
   ]
  },
  {
   "cell_type": "code",
   "execution_count": 67,
   "metadata": {},
   "outputs": [
    {
     "data": {
      "text/plain": [
       "array([ True,  True,  True, ...,  True,  True,  True])"
      ]
     },
     "execution_count": 67,
     "metadata": {},
     "output_type": "execute_result"
    }
   ],
   "source": [
    "variant_selection = variants.eval(filter_expression)[:]\n",
    "variant_selection"
   ]
  },
  {
   "cell_type": "code",
   "execution_count": 68,
   "metadata": {},
   "outputs": [
    {
     "data": {
      "text/plain": [
       "168384"
      ]
     },
     "execution_count": 68,
     "metadata": {},
     "output_type": "execute_result"
    }
   ],
   "source": [
    "np.count_nonzero(variant_selection)"
   ]
  },
  {
   "cell_type": "markdown",
   "metadata": {},
   "source": [
    "*neat trick-* How many variants do we filter out?"
   ]
  },
  {
   "cell_type": "code",
   "execution_count": 69,
   "metadata": {},
   "outputs": [
    {
     "data": {
      "text/plain": [
       "18804"
      ]
     },
     "execution_count": 69,
     "metadata": {},
     "output_type": "execute_result"
    }
   ],
   "source": [
    "np.count_nonzero(~variant_selection)"
   ]
  },
  {
   "cell_type": "markdown",
   "metadata": {},
   "source": []
  },
  {
   "cell_type": "markdown",
   "metadata": {},
   "source": [
    "## Subset genotypes\n",
    "\n",
    "Now that we have some idea of variant quality, let's look at our samples and at the genotype calls.\n",
    "\n",
    "All data relating to the genotype calls is stored in the HDF5."
   ]
  },
  {
   "cell_type": "code",
   "execution_count": 118,
   "metadata": {},
   "outputs": [
    {
     "data": {
      "text/html": [
       "<div class=\"allel allel-DisplayAs2D\"><span>&lt;GenotypeChunkedArray shape=(187188, 765, 2) dtype=int8 chunks=(65536, 64, 2)\n",
       "   nbytes=273.1M cbytes=9.7M cratio=28.0\n",
       "   compression=gzip compression_opts=1\n",
       "   values=h5py._hl.dataset.Dataset&gt;</span><table><thead><tr><th></th><th style=\"text-align: center\">0</th><th style=\"text-align: center\">1</th><th style=\"text-align: center\">2</th><th style=\"text-align: center\">3</th><th style=\"text-align: center\">4</th><th style=\"text-align: center\">...</th><th style=\"text-align: center\">760</th><th style=\"text-align: center\">761</th><th style=\"text-align: center\">762</th><th style=\"text-align: center\">763</th><th style=\"text-align: center\">764</th></tr></thead><tbody><tr><th style=\"text-align: center; background-color: white; border-right: 1px solid black; \">0</th><td style=\"text-align: center\">0/0</td><td style=\"text-align: center\">0/0</td><td style=\"text-align: center\">0/0</td><td style=\"text-align: center\">0/0</td><td style=\"text-align: center\">0/0</td><td style=\"text-align: center\">...</td><td style=\"text-align: center\">0/0</td><td style=\"text-align: center\">0/0</td><td style=\"text-align: center\">0/0</td><td style=\"text-align: center\">0/0</td><td style=\"text-align: center\">0/0</td></tr><tr><th style=\"text-align: center; background-color: white; border-right: 1px solid black; \">1</th><td style=\"text-align: center\">0/0</td><td style=\"text-align: center\">0/0</td><td style=\"text-align: center\">0/0</td><td style=\"text-align: center\">0/0</td><td style=\"text-align: center\">0/0</td><td style=\"text-align: center\">...</td><td style=\"text-align: center\">0/0</td><td style=\"text-align: center\">0/0</td><td style=\"text-align: center\">0/0</td><td style=\"text-align: center\">0/0</td><td style=\"text-align: center\">0/0</td></tr><tr><th style=\"text-align: center; background-color: white; border-right: 1px solid black; \">2</th><td style=\"text-align: center\">0/0</td><td style=\"text-align: center\">0/0</td><td style=\"text-align: center\">0/0</td><td style=\"text-align: center\">0/0</td><td style=\"text-align: center\">0/0</td><td style=\"text-align: center\">...</td><td style=\"text-align: center\">0/0</td><td style=\"text-align: center\">0/0</td><td style=\"text-align: center\">0/0</td><td style=\"text-align: center\">0/0</td><td style=\"text-align: center\">0/0</td></tr><tr><th style=\"text-align: center; background-color: white; border-right: 1px solid black; \">...</th><td style=\"text-align: center\" colspan=\"12\">...</td></tr><tr><th style=\"text-align: center; background-color: white; border-right: 1px solid black; \">187185</th><td style=\"text-align: center\">0/0</td><td style=\"text-align: center\">0/0</td><td style=\"text-align: center\">0/0</td><td style=\"text-align: center\">0/0</td><td style=\"text-align: center\">0/0</td><td style=\"text-align: center\">...</td><td style=\"text-align: center\">0/0</td><td style=\"text-align: center\">0/0</td><td style=\"text-align: center\">0/0</td><td style=\"text-align: center\">0/0</td><td style=\"text-align: center\">0/0</td></tr><tr><th style=\"text-align: center; background-color: white; border-right: 1px solid black; \">187186</th><td style=\"text-align: center\">0/0</td><td style=\"text-align: center\">0/0</td><td style=\"text-align: center\">0/0</td><td style=\"text-align: center\">0/0</td><td style=\"text-align: center\">0/0</td><td style=\"text-align: center\">...</td><td style=\"text-align: center\">0/0</td><td style=\"text-align: center\">0/0</td><td style=\"text-align: center\">0/0</td><td style=\"text-align: center\">0/0</td><td style=\"text-align: center\">0/0</td></tr><tr><th style=\"text-align: center; background-color: white; border-right: 1px solid black; \">187187</th><td style=\"text-align: center\">0/0</td><td style=\"text-align: center\">0/0</td><td style=\"text-align: center\">0/0</td><td style=\"text-align: center\">0/0</td><td style=\"text-align: center\">0/0</td><td style=\"text-align: center\">...</td><td style=\"text-align: center\">0/0</td><td style=\"text-align: center\">0/0</td><td style=\"text-align: center\">0/0</td><td style=\"text-align: center\">0/0</td><td style=\"text-align: center\">0/0</td></tr></tbody></table></div>"
      ],
      "text/plain": [
       "<GenotypeChunkedArray shape=(187188, 765, 2) dtype=int8 chunks=(65536, 64, 2)\n",
       "   nbytes=273.1M cbytes=9.7M cratio=28.0\n",
       "   compression=gzip compression_opts=1\n",
       "   values=h5py._hl.dataset.Dataset>"
      ]
     },
     "execution_count": 118,
     "metadata": {},
     "output_type": "execute_result"
    }
   ],
   "source": [
    "calldata = callset['calldata']\n",
    "\n",
    "genotypes = allel.GenotypeChunkedArray(calldata['GT'])\n",
    "genotypes"
   ]
  },
  {
   "cell_type": "code",
   "execution_count": 123,
   "metadata": {},
   "outputs": [
    {
     "data": {
      "text/html": [
       "<div>\n",
       "<style scoped>\n",
       "    .dataframe tbody tr th:only-of-type {\n",
       "        vertical-align: middle;\n",
       "    }\n",
       "\n",
       "    .dataframe tbody tr th {\n",
       "        vertical-align: top;\n",
       "    }\n",
       "\n",
       "    .dataframe thead th {\n",
       "        text-align: right;\n",
       "    }\n",
       "</style>\n",
       "<table border=\"1\" class=\"dataframe\">\n",
       "  <thead>\n",
       "    <tr style=\"text-align: right;\">\n",
       "      <th></th>\n",
       "      <th>index</th>\n",
       "      <th>ox_code</th>\n",
       "      <th>src_code</th>\n",
       "      <th>sra_sample_accession</th>\n",
       "      <th>population</th>\n",
       "      <th>country</th>\n",
       "      <th>region</th>\n",
       "      <th>contributor</th>\n",
       "      <th>contact</th>\n",
       "      <th>year</th>\n",
       "      <th>m_s</th>\n",
       "      <th>sex</th>\n",
       "      <th>n_sequences</th>\n",
       "      <th>mean_coverage</th>\n",
       "      <th>latitude</th>\n",
       "      <th>longitude</th>\n",
       "    </tr>\n",
       "  </thead>\n",
       "  <tbody>\n",
       "    <tr>\n",
       "      <th>0</th>\n",
       "      <td>0</td>\n",
       "      <td>AB0085-C</td>\n",
       "      <td>BF2-4</td>\n",
       "      <td>ERS223996</td>\n",
       "      <td>BFS</td>\n",
       "      <td>Burkina Faso</td>\n",
       "      <td>Pala</td>\n",
       "      <td>Austin Burt</td>\n",
       "      <td>Sam O'Loughlin</td>\n",
       "      <td>2012</td>\n",
       "      <td>S</td>\n",
       "      <td>F</td>\n",
       "      <td>89905852</td>\n",
       "      <td>28.01</td>\n",
       "      <td>11.150</td>\n",
       "      <td>-4.235</td>\n",
       "    </tr>\n",
       "    <tr>\n",
       "      <th>1</th>\n",
       "      <td>1</td>\n",
       "      <td>AB0087-C</td>\n",
       "      <td>BF3-3</td>\n",
       "      <td>ERS224013</td>\n",
       "      <td>BFM</td>\n",
       "      <td>Burkina Faso</td>\n",
       "      <td>Bana</td>\n",
       "      <td>Austin Burt</td>\n",
       "      <td>Sam O'Loughlin</td>\n",
       "      <td>2012</td>\n",
       "      <td>M</td>\n",
       "      <td>F</td>\n",
       "      <td>116706234</td>\n",
       "      <td>36.76</td>\n",
       "      <td>11.233</td>\n",
       "      <td>-4.472</td>\n",
       "    </tr>\n",
       "    <tr>\n",
       "      <th>2</th>\n",
       "      <td>2</td>\n",
       "      <td>AB0088-C</td>\n",
       "      <td>BF3-5</td>\n",
       "      <td>ERS223991</td>\n",
       "      <td>BFM</td>\n",
       "      <td>Burkina Faso</td>\n",
       "      <td>Bana</td>\n",
       "      <td>Austin Burt</td>\n",
       "      <td>Sam O'Loughlin</td>\n",
       "      <td>2012</td>\n",
       "      <td>M</td>\n",
       "      <td>F</td>\n",
       "      <td>112090460</td>\n",
       "      <td>23.30</td>\n",
       "      <td>11.233</td>\n",
       "      <td>-4.472</td>\n",
       "    </tr>\n",
       "    <tr>\n",
       "      <th>3</th>\n",
       "      <td>3</td>\n",
       "      <td>AB0089-C</td>\n",
       "      <td>BF3-8</td>\n",
       "      <td>ERS224031</td>\n",
       "      <td>BFM</td>\n",
       "      <td>Burkina Faso</td>\n",
       "      <td>Bana</td>\n",
       "      <td>Austin Burt</td>\n",
       "      <td>Sam O'Loughlin</td>\n",
       "      <td>2012</td>\n",
       "      <td>M</td>\n",
       "      <td>F</td>\n",
       "      <td>145350454</td>\n",
       "      <td>41.36</td>\n",
       "      <td>11.233</td>\n",
       "      <td>-4.472</td>\n",
       "    </tr>\n",
       "    <tr>\n",
       "      <th>4</th>\n",
       "      <td>4</td>\n",
       "      <td>AB0090-C</td>\n",
       "      <td>BF3-10</td>\n",
       "      <td>ERS223936</td>\n",
       "      <td>BFM</td>\n",
       "      <td>Burkina Faso</td>\n",
       "      <td>Bana</td>\n",
       "      <td>Austin Burt</td>\n",
       "      <td>Sam O'Loughlin</td>\n",
       "      <td>2012</td>\n",
       "      <td>M</td>\n",
       "      <td>F</td>\n",
       "      <td>105012254</td>\n",
       "      <td>34.64</td>\n",
       "      <td>11.233</td>\n",
       "      <td>-4.472</td>\n",
       "    </tr>\n",
       "  </tbody>\n",
       "</table>\n",
       "</div>"
      ],
      "text/plain": [
       "   index   ox_code src_code sra_sample_accession population       country  \\\n",
       "0      0  AB0085-C    BF2-4            ERS223996        BFS  Burkina Faso   \n",
       "1      1  AB0087-C    BF3-3            ERS224013        BFM  Burkina Faso   \n",
       "2      2  AB0088-C    BF3-5            ERS223991        BFM  Burkina Faso   \n",
       "3      3  AB0089-C    BF3-8            ERS224031        BFM  Burkina Faso   \n",
       "4      4  AB0090-C   BF3-10            ERS223936        BFM  Burkina Faso   \n",
       "\n",
       "  region  contributor         contact  year m_s sex  n_sequences  \\\n",
       "0   Pala  Austin Burt  Sam O'Loughlin  2012   S   F     89905852   \n",
       "1   Bana  Austin Burt  Sam O'Loughlin  2012   M   F    116706234   \n",
       "2   Bana  Austin Burt  Sam O'Loughlin  2012   M   F    112090460   \n",
       "3   Bana  Austin Burt  Sam O'Loughlin  2012   M   F    145350454   \n",
       "4   Bana  Austin Burt  Sam O'Loughlin  2012   M   F    105012254   \n",
       "\n",
       "   mean_coverage  latitude  longitude  \n",
       "0          28.01    11.150     -4.235  \n",
       "1          36.76    11.233     -4.472  \n",
       "2          23.30    11.233     -4.472  \n",
       "3          41.36    11.233     -4.472  \n",
       "4          34.64    11.233     -4.472  "
      ]
     },
     "execution_count": 123,
     "metadata": {},
     "output_type": "execute_result"
    }
   ],
   "source": [
    "samples_fn = 'samples.meta.txt'\n",
    "samples = pandas.read_csv(samples_fn, sep='\\t')\n",
    "samples.head()"
   ]
  },
  {
   "cell_type": "markdown",
   "metadata": {},
   "source": [
    "The \"population\" column defines which of 9 populations the mosquitoes came from, based on sampling location and species. E.g., \"BFM\" means Anopheles coluzzii mosquitoes from Burkina Faso, \"GAS\" means Anopheles gambiae mosquitoes from Gabon. How many mosquitoes come from each of these populations?"
   ]
  },
  {
   "cell_type": "code",
   "execution_count": 124,
   "metadata": {},
   "outputs": [
    {
     "data": {
      "text/plain": [
       "CMS    275\n",
       "UGS    103\n",
       "BFS     81\n",
       "BFM     69\n",
       "AOM     60\n",
       "GAS     56\n",
       "GWA     46\n",
       "KES     44\n",
       "GNS     31\n",
       "Name: population, dtype: int64"
      ]
     },
     "execution_count": 124,
     "metadata": {},
     "output_type": "execute_result"
    }
   ],
   "source": [
    "samples.population.value_counts()"
   ]
  },
  {
   "cell_type": "markdown",
   "metadata": {},
   "source": [
    "Let's work with two populations only for simplicity. These are *Anopheles coluzzii* populations from Burkina Faso (BFM) and Angola (AOM)."
   ]
  },
  {
   "cell_type": "code",
   "execution_count": 125,
   "metadata": {},
   "outputs": [
    {
     "data": {
      "text/plain": [
       "array([False,  True,  True,  True,  True])"
      ]
     },
     "execution_count": 125,
     "metadata": {},
     "output_type": "execute_result"
    }
   ],
   "source": [
    "sample_selection = samples.population.isin({'BFM', 'AOM'}).values\n",
    "sample_selection[:5]"
   ]
  },
  {
   "cell_type": "markdown",
   "metadata": {},
   "source": [
    "Now restrict the samples table to only these two populations."
   ]
  },
  {
   "cell_type": "code",
   "execution_count": 126,
   "metadata": {},
   "outputs": [
    {
     "data": {
      "text/html": [
       "<div>\n",
       "<style scoped>\n",
       "    .dataframe tbody tr th:only-of-type {\n",
       "        vertical-align: middle;\n",
       "    }\n",
       "\n",
       "    .dataframe tbody tr th {\n",
       "        vertical-align: top;\n",
       "    }\n",
       "\n",
       "    .dataframe thead th {\n",
       "        text-align: right;\n",
       "    }\n",
       "</style>\n",
       "<table border=\"1\" class=\"dataframe\">\n",
       "  <thead>\n",
       "    <tr style=\"text-align: right;\">\n",
       "      <th></th>\n",
       "      <th>index</th>\n",
       "      <th>ox_code</th>\n",
       "      <th>src_code</th>\n",
       "      <th>sra_sample_accession</th>\n",
       "      <th>population</th>\n",
       "      <th>country</th>\n",
       "      <th>region</th>\n",
       "      <th>contributor</th>\n",
       "      <th>contact</th>\n",
       "      <th>year</th>\n",
       "      <th>m_s</th>\n",
       "      <th>sex</th>\n",
       "      <th>n_sequences</th>\n",
       "      <th>mean_coverage</th>\n",
       "      <th>latitude</th>\n",
       "      <th>longitude</th>\n",
       "    </tr>\n",
       "  </thead>\n",
       "  <tbody>\n",
       "    <tr>\n",
       "      <th>0</th>\n",
       "      <td>1</td>\n",
       "      <td>AB0087-C</td>\n",
       "      <td>BF3-3</td>\n",
       "      <td>ERS224013</td>\n",
       "      <td>BFM</td>\n",
       "      <td>Burkina Faso</td>\n",
       "      <td>Bana</td>\n",
       "      <td>Austin Burt</td>\n",
       "      <td>Sam O'Loughlin</td>\n",
       "      <td>2012</td>\n",
       "      <td>M</td>\n",
       "      <td>F</td>\n",
       "      <td>116706234</td>\n",
       "      <td>36.76</td>\n",
       "      <td>11.233</td>\n",
       "      <td>-4.472</td>\n",
       "    </tr>\n",
       "    <tr>\n",
       "      <th>1</th>\n",
       "      <td>2</td>\n",
       "      <td>AB0088-C</td>\n",
       "      <td>BF3-5</td>\n",
       "      <td>ERS223991</td>\n",
       "      <td>BFM</td>\n",
       "      <td>Burkina Faso</td>\n",
       "      <td>Bana</td>\n",
       "      <td>Austin Burt</td>\n",
       "      <td>Sam O'Loughlin</td>\n",
       "      <td>2012</td>\n",
       "      <td>M</td>\n",
       "      <td>F</td>\n",
       "      <td>112090460</td>\n",
       "      <td>23.30</td>\n",
       "      <td>11.233</td>\n",
       "      <td>-4.472</td>\n",
       "    </tr>\n",
       "    <tr>\n",
       "      <th>2</th>\n",
       "      <td>3</td>\n",
       "      <td>AB0089-C</td>\n",
       "      <td>BF3-8</td>\n",
       "      <td>ERS224031</td>\n",
       "      <td>BFM</td>\n",
       "      <td>Burkina Faso</td>\n",
       "      <td>Bana</td>\n",
       "      <td>Austin Burt</td>\n",
       "      <td>Sam O'Loughlin</td>\n",
       "      <td>2012</td>\n",
       "      <td>M</td>\n",
       "      <td>F</td>\n",
       "      <td>145350454</td>\n",
       "      <td>41.36</td>\n",
       "      <td>11.233</td>\n",
       "      <td>-4.472</td>\n",
       "    </tr>\n",
       "    <tr>\n",
       "      <th>3</th>\n",
       "      <td>4</td>\n",
       "      <td>AB0090-C</td>\n",
       "      <td>BF3-10</td>\n",
       "      <td>ERS223936</td>\n",
       "      <td>BFM</td>\n",
       "      <td>Burkina Faso</td>\n",
       "      <td>Bana</td>\n",
       "      <td>Austin Burt</td>\n",
       "      <td>Sam O'Loughlin</td>\n",
       "      <td>2012</td>\n",
       "      <td>M</td>\n",
       "      <td>F</td>\n",
       "      <td>105012254</td>\n",
       "      <td>34.64</td>\n",
       "      <td>11.233</td>\n",
       "      <td>-4.472</td>\n",
       "    </tr>\n",
       "    <tr>\n",
       "      <th>4</th>\n",
       "      <td>5</td>\n",
       "      <td>AB0091-C</td>\n",
       "      <td>BF3-12</td>\n",
       "      <td>ERS224065</td>\n",
       "      <td>BFM</td>\n",
       "      <td>Burkina Faso</td>\n",
       "      <td>Bana</td>\n",
       "      <td>Austin Burt</td>\n",
       "      <td>Sam O'Loughlin</td>\n",
       "      <td>2012</td>\n",
       "      <td>M</td>\n",
       "      <td>F</td>\n",
       "      <td>98833426</td>\n",
       "      <td>29.97</td>\n",
       "      <td>11.233</td>\n",
       "      <td>-4.472</td>\n",
       "    </tr>\n",
       "  </tbody>\n",
       "</table>\n",
       "</div>"
      ],
      "text/plain": [
       "   index   ox_code src_code sra_sample_accession population       country  \\\n",
       "0      1  AB0087-C    BF3-3            ERS224013        BFM  Burkina Faso   \n",
       "1      2  AB0088-C    BF3-5            ERS223991        BFM  Burkina Faso   \n",
       "2      3  AB0089-C    BF3-8            ERS224031        BFM  Burkina Faso   \n",
       "3      4  AB0090-C   BF3-10            ERS223936        BFM  Burkina Faso   \n",
       "4      5  AB0091-C   BF3-12            ERS224065        BFM  Burkina Faso   \n",
       "\n",
       "  region  contributor         contact  year m_s sex  n_sequences  \\\n",
       "0   Bana  Austin Burt  Sam O'Loughlin  2012   M   F    116706234   \n",
       "1   Bana  Austin Burt  Sam O'Loughlin  2012   M   F    112090460   \n",
       "2   Bana  Austin Burt  Sam O'Loughlin  2012   M   F    145350454   \n",
       "3   Bana  Austin Burt  Sam O'Loughlin  2012   M   F    105012254   \n",
       "4   Bana  Austin Burt  Sam O'Loughlin  2012   M   F     98833426   \n",
       "\n",
       "   mean_coverage  latitude  longitude  \n",
       "0          36.76    11.233     -4.472  \n",
       "1          23.30    11.233     -4.472  \n",
       "2          41.36    11.233     -4.472  \n",
       "3          34.64    11.233     -4.472  \n",
       "4          29.97    11.233     -4.472  "
      ]
     },
     "execution_count": 126,
     "metadata": {},
     "output_type": "execute_result"
    }
   ],
   "source": [
    "samples_subset = samples[sample_selection]\n",
    "samples_subset.reset_index(drop=True, inplace=True)\n",
    "samples_subset.head()"
   ]
  },
  {
   "cell_type": "code",
   "execution_count": 127,
   "metadata": {},
   "outputs": [
    {
     "data": {
      "text/plain": [
       "BFM    69\n",
       "AOM    60\n",
       "Name: population, dtype: int64"
      ]
     },
     "execution_count": 127,
     "metadata": {},
     "output_type": "execute_result"
    }
   ],
   "source": [
    "samples_subset.population.value_counts()"
   ]
  },
  {
   "cell_type": "markdown",
   "metadata": {},
   "source": [
    "## Subset genotypes by samples & quality\n",
    "Now let's subset the genotype calls to keep only variants that pass our quality filters and only samples in our two populations of interest."
   ]
  },
  {
   "cell_type": "code",
   "execution_count": 128,
   "metadata": {},
   "outputs": [
    {
     "name": "stdout",
     "output_type": "stream",
     "text": [
      "CPU times: user 1.11 s, sys: 361 ms, total: 1.47 s\n",
      "Wall time: 1.63 s\n"
     ]
    }
   ],
   "source": [
    "%%time\n",
    "genotypes_subset = genotypes.subset(variant_selection, sample_selection)"
   ]
  },
  {
   "cell_type": "code",
   "execution_count": 129,
   "metadata": {},
   "outputs": [
    {
     "data": {
      "text/html": [
       "<div class=\"allel allel-DisplayAs2D\"><span>&lt;GenotypeChunkedArray shape=(168384, 129, 2) dtype=int8 chunks=(2631, 129, 2)\n",
       "   nbytes=41.4M cbytes=2.1M cratio=19.9\n",
       "   compression=blosc compression_opts={'cname': 'lz4', 'clevel': 5, 'shuffle': 1, 'blocksize': 0}\n",
       "   values=zarr.core.Array&gt;</span><table><thead><tr><th></th><th style=\"text-align: center\">0</th><th style=\"text-align: center\">1</th><th style=\"text-align: center\">2</th><th style=\"text-align: center\">3</th><th style=\"text-align: center\">4</th><th style=\"text-align: center\">...</th><th style=\"text-align: center\">124</th><th style=\"text-align: center\">125</th><th style=\"text-align: center\">126</th><th style=\"text-align: center\">127</th><th style=\"text-align: center\">128</th></tr></thead><tbody><tr><th style=\"text-align: center; background-color: white; border-right: 1px solid black; \">0</th><td style=\"text-align: center\">0/0</td><td style=\"text-align: center\">0/0</td><td style=\"text-align: center\">0/0</td><td style=\"text-align: center\">0/0</td><td style=\"text-align: center\">0/0</td><td style=\"text-align: center\">...</td><td style=\"text-align: center\">0/0</td><td style=\"text-align: center\">0/0</td><td style=\"text-align: center\">0/0</td><td style=\"text-align: center\">0/0</td><td style=\"text-align: center\">0/0</td></tr><tr><th style=\"text-align: center; background-color: white; border-right: 1px solid black; \">1</th><td style=\"text-align: center\">0/0</td><td style=\"text-align: center\">0/0</td><td style=\"text-align: center\">0/0</td><td style=\"text-align: center\">0/0</td><td style=\"text-align: center\">0/0</td><td style=\"text-align: center\">...</td><td style=\"text-align: center\">0/0</td><td style=\"text-align: center\">0/0</td><td style=\"text-align: center\">0/0</td><td style=\"text-align: center\">0/0</td><td style=\"text-align: center\">0/0</td></tr><tr><th style=\"text-align: center; background-color: white; border-right: 1px solid black; \">2</th><td style=\"text-align: center\">0/0</td><td style=\"text-align: center\">0/0</td><td style=\"text-align: center\">0/0</td><td style=\"text-align: center\">0/0</td><td style=\"text-align: center\">0/0</td><td style=\"text-align: center\">...</td><td style=\"text-align: center\">0/0</td><td style=\"text-align: center\">0/0</td><td style=\"text-align: center\">0/0</td><td style=\"text-align: center\">0/0</td><td style=\"text-align: center\">0/0</td></tr><tr><th style=\"text-align: center; background-color: white; border-right: 1px solid black; \">...</th><td style=\"text-align: center\" colspan=\"12\">...</td></tr><tr><th style=\"text-align: center; background-color: white; border-right: 1px solid black; \">168381</th><td style=\"text-align: center\">0/0</td><td style=\"text-align: center\">0/0</td><td style=\"text-align: center\">0/0</td><td style=\"text-align: center\">0/0</td><td style=\"text-align: center\">0/0</td><td style=\"text-align: center\">...</td><td style=\"text-align: center\">0/0</td><td style=\"text-align: center\">0/0</td><td style=\"text-align: center\">0/0</td><td style=\"text-align: center\">0/0</td><td style=\"text-align: center\">0/0</td></tr><tr><th style=\"text-align: center; background-color: white; border-right: 1px solid black; \">168382</th><td style=\"text-align: center\">0/0</td><td style=\"text-align: center\">0/0</td><td style=\"text-align: center\">0/0</td><td style=\"text-align: center\">0/0</td><td style=\"text-align: center\">0/0</td><td style=\"text-align: center\">...</td><td style=\"text-align: center\">0/0</td><td style=\"text-align: center\">0/0</td><td style=\"text-align: center\">0/0</td><td style=\"text-align: center\">0/0</td><td style=\"text-align: center\">0/0</td></tr><tr><th style=\"text-align: center; background-color: white; border-right: 1px solid black; \">168383</th><td style=\"text-align: center\">0/0</td><td style=\"text-align: center\">0/0</td><td style=\"text-align: center\">0/0</td><td style=\"text-align: center\">0/0</td><td style=\"text-align: center\">0/0</td><td style=\"text-align: center\">...</td><td style=\"text-align: center\">0/0</td><td style=\"text-align: center\">0/0</td><td style=\"text-align: center\">0/0</td><td style=\"text-align: center\">0/0</td><td style=\"text-align: center\">0/0</td></tr></tbody></table></div>"
      ],
      "text/plain": [
       "<GenotypeChunkedArray shape=(168384, 129, 2) dtype=int8 chunks=(2631, 129, 2)\n",
       "   nbytes=41.4M cbytes=2.1M cratio=19.9\n",
       "   compression=blosc compression_opts={'cname': 'lz4', 'clevel': 5, 'shuffle': 1, 'blocksize': 0}\n",
       "   values=zarr.core.Array>"
      ]
     },
     "execution_count": 129,
     "metadata": {},
     "output_type": "execute_result"
    }
   ],
   "source": [
    "genotypes_subset"
   ]
  },
  {
   "cell_type": "markdown",
   "metadata": {},
   "source": [
    "The new genotype array we've made has 168,383 SNPs and 129 samples, as expected."
   ]
  },
  {
   "cell_type": "markdown",
   "metadata": {},
   "source": [
    "## Allele count\n",
    "Scikit-allel uses as a first step for population genetic analyses a function called `count_alleles()` that creates an allele count object. The allele_count for each SNP is simply counting how many copies of the reference allele (0) and each of the alternate alleles (1, 2, 3) are observed.\n",
    "\n",
    "We will use a fancy version of the `count_alleles()` function, `count_alleles_subpops()` that will take a dictionary of population names as part of the input to produce population specific allele counts.  To set this up, define a dictionary mapping population names onto the indices of samples within them."
   ]
  },
  {
   "cell_type": "code",
   "execution_count": 133,
   "metadata": {},
   "outputs": [
    {
     "data": {
      "text/plain": [
       "[69, 70, 71, 72, 73]"
      ]
     },
     "execution_count": 133,
     "metadata": {},
     "output_type": "execute_result"
    }
   ],
   "source": [
    "subpops = {\n",
    "    'all': list(range(len(samples_subset))),\n",
    "    'BFM': samples_subset[samples_subset.population == 'BFM'].index.tolist(),\n",
    "    'AOM': samples_subset[samples_subset.population == 'AOM'].index.tolist(),\n",
    "}\n",
    "subpops['AOM'][:5]"
   ]
  },
  {
   "cell_type": "markdown",
   "metadata": {},
   "source": [
    "Now perform the allele count."
   ]
  },
  {
   "cell_type": "code",
   "execution_count": 136,
   "metadata": {},
   "outputs": [
    {
     "data": {
      "text/html": [
       "<div class=\"allel allel-DisplayAsTable\"><span>&lt;AlleleCountsChunkedTable shape=(168384,) dtype=[('AOM', '&lt;i4', (4,)), ('BFM', '&lt;i4', (4,)), ('all', '&lt;i4', (4,))]\n",
       "   nbytes=7.7M cbytes=875.7K cratio=9.0\n",
       "   values=allel.chunked.storage_zarr.ZarrTable&gt;</span><table><thead><tr><th></th><th style=\"text-align: center\">AOM</th><th style=\"text-align: center\">BFM</th><th style=\"text-align: center\">all</th></tr></thead><tbody><tr><th style=\"text-align: center; background-color: white; border-right: 1px solid black; \">0</th><td style=\"text-align: center\">[120   0   0   0]</td><td style=\"text-align: center\">[138   0   0   0]</td><td style=\"text-align: center\">[258   0   0   0]</td></tr><tr><th style=\"text-align: center; background-color: white; border-right: 1px solid black; \">1</th><td style=\"text-align: center\">[120   0   0   0]</td><td style=\"text-align: center\">[138   0   0   0]</td><td style=\"text-align: center\">[258   0   0   0]</td></tr><tr><th style=\"text-align: center; background-color: white; border-right: 1px solid black; \">2</th><td style=\"text-align: center\">[120   0   0   0]</td><td style=\"text-align: center\">[138   0   0   0]</td><td style=\"text-align: center\">[258   0   0   0]</td></tr><tr><th style=\"text-align: center; background-color: white; border-right: 1px solid black; \">...</th><td style=\"text-align: center\" colspan=\"4\">...</td></tr><tr><th style=\"text-align: center; background-color: white; border-right: 1px solid black; \">168381</th><td style=\"text-align: center\">[120   0   0   0]</td><td style=\"text-align: center\">[138   0   0   0]</td><td style=\"text-align: center\">[258   0   0   0]</td></tr><tr><th style=\"text-align: center; background-color: white; border-right: 1px solid black; \">168382</th><td style=\"text-align: center\">[120   0   0   0]</td><td style=\"text-align: center\">[138   0   0   0]</td><td style=\"text-align: center\">[258   0   0   0]</td></tr><tr><th style=\"text-align: center; background-color: white; border-right: 1px solid black; \">168383</th><td style=\"text-align: center\">[120   0   0   0]</td><td style=\"text-align: center\">[138   0   0   0]</td><td style=\"text-align: center\">[258   0   0   0]</td></tr></tbody></table></div>"
      ],
      "text/plain": [
       "<AlleleCountsChunkedTable shape=(168384,) dtype=[('AOM', '<i4', (4,)), ('BFM', '<i4', (4,)), ('all', '<i4', (4,))]\n",
       "   nbytes=7.7M cbytes=875.7K cratio=9.0\n",
       "   values=allel.chunked.storage_zarr.ZarrTable>"
      ]
     },
     "execution_count": 136,
     "metadata": {},
     "output_type": "execute_result"
    }
   ],
   "source": [
    "ac_subpops = genotypes_subset.count_alleles_subpops(subpops, max_allele=3)\n",
    "ac_subpops"
   ]
  },
  {
   "cell_type": "markdown",
   "metadata": {},
   "source": [
    "Each column in the table above has allele counts for a population, where \"all\" means the union of both populations. We can pull out a single column, e.g.:"
   ]
  },
  {
   "cell_type": "markdown",
   "metadata": {},
   "source": [
    "## Locate segregating variants\n",
    "\n",
    "There are lots of SNPs which do not segregate in either of these populations are so are not interesting for any analysis of these populations. We might as well get rid of them.\n",
    "\n",
    "How many segregating SNPs are there in each population?\n"
   ]
  },
  {
   "cell_type": "code",
   "execution_count": 141,
   "metadata": {},
   "outputs": [
    {
     "name": "stdout",
     "output_type": "stream",
     "text": [
      "all 68585\n",
      "BFM 58532\n",
      "AOM 25888\n"
     ]
    }
   ],
   "source": [
    "for pop in 'all', 'BFM', 'AOM':\n",
    "    print(pop, ac_subpops[pop].count_segregating())"
   ]
  },
  {
   "cell_type": "markdown",
   "metadata": {},
   "source": [
    "Locate SNPs that are segregating in the union of our two selected populations."
   ]
  },
  {
   "cell_type": "code",
   "execution_count": 142,
   "metadata": {},
   "outputs": [
    {
     "data": {
      "text/plain": [
       "array([False, False, False, ..., False, False, False])"
      ]
     },
     "execution_count": 142,
     "metadata": {},
     "output_type": "execute_result"
    }
   ],
   "source": [
    "is_seg = ac_subpops['all'].is_segregating()[:]\n",
    "is_seg"
   ]
  },
  {
   "cell_type": "markdown",
   "metadata": {},
   "source": [
    "Subset genotypes again to keep only the segregating SNPs."
   ]
  },
  {
   "cell_type": "code",
   "execution_count": 143,
   "metadata": {},
   "outputs": [
    {
     "data": {
      "text/html": [
       "<div class=\"allel allel-DisplayAs2D\"><span>&lt;GenotypeChunkedArray shape=(68585, 129, 2) dtype=int8 chunks=(2144, 129, 2)\n",
       "   nbytes=16.9M cbytes=2.0M cratio=8.6\n",
       "   compression=blosc compression_opts={'cname': 'lz4', 'clevel': 5, 'shuffle': 1, 'blocksize': 0}\n",
       "   values=zarr.core.Array&gt;</span><table><thead><tr><th></th><th style=\"text-align: center\">0</th><th style=\"text-align: center\">1</th><th style=\"text-align: center\">2</th><th style=\"text-align: center\">3</th><th style=\"text-align: center\">4</th><th style=\"text-align: center\">...</th><th style=\"text-align: center\">124</th><th style=\"text-align: center\">125</th><th style=\"text-align: center\">126</th><th style=\"text-align: center\">127</th><th style=\"text-align: center\">128</th></tr></thead><tbody><tr><th style=\"text-align: center; background-color: white; border-right: 1px solid black; \">0</th><td style=\"text-align: center\">0/0</td><td style=\"text-align: center\">0/0</td><td style=\"text-align: center\">0/0</td><td style=\"text-align: center\">0/0</td><td style=\"text-align: center\">0/0</td><td style=\"text-align: center\">...</td><td style=\"text-align: center\">0/0</td><td style=\"text-align: center\">0/0</td><td style=\"text-align: center\">0/0</td><td style=\"text-align: center\">0/0</td><td style=\"text-align: center\">0/0</td></tr><tr><th style=\"text-align: center; background-color: white; border-right: 1px solid black; \">1</th><td style=\"text-align: center\">0/0</td><td style=\"text-align: center\">0/0</td><td style=\"text-align: center\">0/0</td><td style=\"text-align: center\">0/0</td><td style=\"text-align: center\">0/0</td><td style=\"text-align: center\">...</td><td style=\"text-align: center\">0/0</td><td style=\"text-align: center\">0/0</td><td style=\"text-align: center\">0/0</td><td style=\"text-align: center\">0/0</td><td style=\"text-align: center\">0/0</td></tr><tr><th style=\"text-align: center; background-color: white; border-right: 1px solid black; \">2</th><td style=\"text-align: center\">0/0</td><td style=\"text-align: center\">0/0</td><td style=\"text-align: center\">0/0</td><td style=\"text-align: center\">0/0</td><td style=\"text-align: center\">0/0</td><td style=\"text-align: center\">...</td><td style=\"text-align: center\">0/0</td><td style=\"text-align: center\">0/0</td><td style=\"text-align: center\">0/0</td><td style=\"text-align: center\">0/0</td><td style=\"text-align: center\">0/0</td></tr><tr><th style=\"text-align: center; background-color: white; border-right: 1px solid black; \">...</th><td style=\"text-align: center\" colspan=\"12\">...</td></tr><tr><th style=\"text-align: center; background-color: white; border-right: 1px solid black; \">68582</th><td style=\"text-align: center\">0/0</td><td style=\"text-align: center\">0/0</td><td style=\"text-align: center\">0/0</td><td style=\"text-align: center\">0/0</td><td style=\"text-align: center\">0/0</td><td style=\"text-align: center\">...</td><td style=\"text-align: center\">0/0</td><td style=\"text-align: center\">0/0</td><td style=\"text-align: center\">0/1</td><td style=\"text-align: center\">0/0</td><td style=\"text-align: center\">0/0</td></tr><tr><th style=\"text-align: center; background-color: white; border-right: 1px solid black; \">68583</th><td style=\"text-align: center\">0/0</td><td style=\"text-align: center\">0/0</td><td style=\"text-align: center\">0/0</td><td style=\"text-align: center\">0/0</td><td style=\"text-align: center\">0/0</td><td style=\"text-align: center\">...</td><td style=\"text-align: center\">0/0</td><td style=\"text-align: center\">0/0</td><td style=\"text-align: center\">0/0</td><td style=\"text-align: center\">0/0</td><td style=\"text-align: center\">0/0</td></tr><tr><th style=\"text-align: center; background-color: white; border-right: 1px solid black; \">68584</th><td style=\"text-align: center\">0/0</td><td style=\"text-align: center\">0/0</td><td style=\"text-align: center\">0/0</td><td style=\"text-align: center\">0/0</td><td style=\"text-align: center\">0/1</td><td style=\"text-align: center\">...</td><td style=\"text-align: center\">1/1</td><td style=\"text-align: center\">0/1</td><td style=\"text-align: center\">0/0</td><td style=\"text-align: center\">1/1</td><td style=\"text-align: center\">0/1</td></tr></tbody></table></div>"
      ],
      "text/plain": [
       "<GenotypeChunkedArray shape=(68585, 129, 2) dtype=int8 chunks=(2144, 129, 2)\n",
       "   nbytes=16.9M cbytes=2.0M cratio=8.6\n",
       "   compression=blosc compression_opts={'cname': 'lz4', 'clevel': 5, 'shuffle': 1, 'blocksize': 0}\n",
       "   values=zarr.core.Array>"
      ]
     },
     "execution_count": 143,
     "metadata": {},
     "output_type": "execute_result"
    }
   ],
   "source": [
    "genotypes_seg = genotypes_subset.compress(is_seg, axis=0)\n",
    "genotypes_seg"
   ]
  },
  {
   "cell_type": "markdown",
   "metadata": {},
   "source": [
    "Subset the allele counts."
   ]
  },
  {
   "cell_type": "code",
   "execution_count": 146,
   "metadata": {},
   "outputs": [
    {
     "data": {
      "text/html": [
       "<div class=\"allel allel-DisplayAsTable\"><span>&lt;AlleleCountsChunkedTable shape=(68585,) dtype=[('AOM', '&lt;i4', (4,)), ('BFM', '&lt;i4', (4,)), ('all', '&lt;i4', (4,))]\n",
       "   nbytes=3.1M cbytes=552.4K cratio=5.8\n",
       "   values=allel.chunked.storage_zarr.ZarrTable&gt;</span><table><thead><tr><th></th><th style=\"text-align: center\">AOM</th><th style=\"text-align: center\">BFM</th><th style=\"text-align: center\">all</th></tr></thead><tbody><tr><th style=\"text-align: center; background-color: white; border-right: 1px solid black; \">0</th><td style=\"text-align: center\">[120   0   0   0]</td><td style=\"text-align: center\">[137   1   0   0]</td><td style=\"text-align: center\">[257   1   0   0]</td></tr><tr><th style=\"text-align: center; background-color: white; border-right: 1px solid black; \">1</th><td style=\"text-align: center\">[120   0   0   0]</td><td style=\"text-align: center\">[137   1   0   0]</td><td style=\"text-align: center\">[257   1   0   0]</td></tr><tr><th style=\"text-align: center; background-color: white; border-right: 1px solid black; \">2</th><td style=\"text-align: center\">[120   0   0   0]</td><td style=\"text-align: center\">[137   1   0   0]</td><td style=\"text-align: center\">[257   1   0   0]</td></tr><tr><th style=\"text-align: center; background-color: white; border-right: 1px solid black; \">...</th><td style=\"text-align: center\" colspan=\"4\">...</td></tr><tr><th style=\"text-align: center; background-color: white; border-right: 1px solid black; \">68582</th><td style=\"text-align: center\">[103  17   0   0]</td><td style=\"text-align: center\">[125  13   0   0]</td><td style=\"text-align: center\">[228  30   0   0]</td></tr><tr><th style=\"text-align: center; background-color: white; border-right: 1px solid black; \">68583</th><td style=\"text-align: center\">[120   0   0   0]</td><td style=\"text-align: center\">[135   3   0   0]</td><td style=\"text-align: center\">[255   3   0   0]</td></tr><tr><th style=\"text-align: center; background-color: white; border-right: 1px solid black; \">68584</th><td style=\"text-align: center\">[75 45  0  0]</td><td style=\"text-align: center\">[122  16   0   0]</td><td style=\"text-align: center\">[197  61   0   0]</td></tr></tbody></table></div>"
      ],
      "text/plain": [
       "<AlleleCountsChunkedTable shape=(68585,) dtype=[('AOM', '<i4', (4,)), ('BFM', '<i4', (4,)), ('all', '<i4', (4,))]\n",
       "   nbytes=3.1M cbytes=552.4K cratio=5.8\n",
       "   values=allel.chunked.storage_zarr.ZarrTable>"
      ]
     },
     "execution_count": 146,
     "metadata": {},
     "output_type": "execute_result"
    }
   ],
   "source": [
    "ac_seg = ac_subpops.compress(is_seg)\n",
    "ac_seg"
   ]
  },
  {
   "cell_type": "markdown",
   "metadata": {},
   "source": [
    "# Calculating heterozygosity across the samples\n",
    "Scikit-allel excels in the ability to calculate population genetic summary statistics across the genome easily and relatively quickly. Let's start by computing the classic estimator of the neutral mutation rate, $\\widehat{\\theta_{W}} = 4Nu$\n"
   ]
  },
  {
   "cell_type": "code",
   "execution_count": 194,
   "metadata": {},
   "outputs": [
    {
     "name": "stdout",
     "output_type": "stream",
     "text": [
      "(168384,)\n",
      "(68585,)\n"
     ]
    }
   ],
   "source": [
    "pos_sub=np.array(variants['POS'])[variant_selection]\n",
    "pos_sub_seg = pos_sub[is_seg]\n",
    "print(pos_sub.shape)\n",
    "print(pos_sub_seg.shape)"
   ]
  },
  {
   "cell_type": "code",
   "execution_count": 233,
   "metadata": {},
   "outputs": [
    {
     "data": {
      "text/plain": [
       "Text(0.5, 1.0, 'windowed $\\\\theta_{W}$ from BFM')"
      ]
     },
     "execution_count": 233,
     "metadata": {},
     "output_type": "execute_result"
    },
    {
     "data": {
      "image/png": "[encoded data removed]",
      "text/plain": [
       "<Figure size 864x576 with 1 Axes>"
      ]
     },
     "metadata": {},
     "output_type": "display_data"
    }
   ],
   "source": [
    "chrom = \"3R\"\n",
    "blen = 10000\n",
    "fig, ax = plt.subplots(figsize=(12, 8))\n",
    "sns.despine(ax=ax, offset=10)\n",
    "theta_hat_w_bfm, windows, n_bases, counts = allel.windowed_watterson_theta(pos_sub_seg,ac_seg['BFM'],      \n",
    "                                size=blen,step=blen // 2)\n",
    "theta_hat_w_aom, windows, n_bases, counts = allel.windowed_watterson_theta(pos_sub_seg,ac_seg['AOM'],                                                                     \n",
    "                                size=blen,step=blen // 2)\n",
    "\n",
    "mids = (windows[:,1] + windows[:,0]) / 2\n",
    "ax.plot(mids,theta_hat_w_bfm, 'k-', lw=.5, color=\"blue\")\n",
    "ax.plot(mids,theta_hat_w_aom, 'k-', lw=.5, color=\"red\")\n",
    "\n",
    "ax.set_ylabel(r'$\\theta_{W}$')\n",
    "ax.set_xlabel('Chromosome %s position (bp)' % chrom)\n",
    "ax.set_title('windowed 'r'$\\theta_{W}$ from BFM')\n"
   ]
  },
  {
   "cell_type": "code",
   "execution_count": 200,
   "metadata": {},
   "outputs": [
    {
     "data": {
      "text/plain": [
       "(array([0.01108921, 0.01290712, 0.01145279, ..., 0.01199816, 0.01290712,\n",
       "        0.01443956]), array([[28000015, 28001014],\n",
       "        [28000515, 28001514],\n",
       "        [28001015, 28002014],\n",
       "        ...,\n",
       "        [28998015, 28999014],\n",
       "        [28998515, 28999514],\n",
       "        [28999015, 28999996]]), array([1000, 1000, 1000, ..., 1000, 1000,  982]), array([73, 84, 72, ..., 77, 78, 87]))"
      ]
     },
     "execution_count": 200,
     "metadata": {},
     "output_type": "execute_result"
    }
   ],
   "source": [
    "y"
   ]
  },
  {
   "cell_type": "markdown",
   "metadata": {},
   "source": [
    "## Population differentiation\n",
    "\n",
    "Are these two populations genetically different? To get a first impression, let's plot the alternate allele counts from each population."
   ]
  },
  {
   "cell_type": "code",
   "execution_count": 156,
   "metadata": {},
   "outputs": [
    {
     "data": {
      "image/png": "[encoded data removed]",
      "text/plain": [
       "<Figure size 432x432 with 1 Axes>"
      ]
     },
     "metadata": {},
     "output_type": "display_data"
    }
   ],
   "source": [
    "jsfs = allel.joint_sfs(ac_seg['BFM'][:, 1], ac_seg['AOM'][:, 1])\n",
    "fig, ax = plt.subplots(figsize=(6, 6))\n",
    "allel.plot_joint_sfs(jsfs, ax=ax)\n",
    "ax.set_ylabel('Alternate allele count, BFM')\n",
    "ax.set_xlabel('Alternate allele count, AOM');"
   ]
  },
  {
   "cell_type": "code",
   "execution_count": 151,
   "metadata": {},
   "outputs": [
    {
     "name": "stdout",
     "output_type": "stream",
     "text": [
      "Hudson's Fst: 0.143 +/- 0.005\n"
     ]
    }
   ],
   "source": [
    "fst, fst_se, _, _ = allel.blockwise_hudson_fst(ac_seg['BFM'], ac_seg['AOM'], blen=1000)\n",
    "print(\"Hudson's Fst: %.3f +/- %.3f\" % (fst, fst_se))"
   ]
  },
  {
   "cell_type": "code",
   "execution_count": 170,
   "metadata": {},
   "outputs": [
    {
     "data": {
      "text/plain": [
       "Text(0.5, 0, 'Chromosome 3R position (bp)')"
      ]
     },
     "execution_count": 170,
     "metadata": {},
     "output_type": "execute_result"
    },
    {
     "data": {
      "image/png": "[encoded data removed]",
      "text/plain": [
       "<Figure size 864x288 with 1 Axes>"
      ]
     },
     "metadata": {},
     "output_type": "display_data"
    }
   ],
   "source": [
    "blen = 1000\n",
    "fig, ax = plt.subplots(figsize=(12, 4))\n",
    "sns.despine(ax=ax, offset=10)\n",
    "x = allel.moving_statistic(pos, statistic=lambda v: (v[0] + v[-1]) / 2, size=blen)\n",
    "y=allel.moving_hudson_fst(ac_seg['BFM'], ac_seg['AOM'],size=blen,step=blen//2)\n",
    "ax.plot(y, 'k-', lw=.5, color=\"blue\")\n",
    "ax.set_ylabel('$F_{ST}$')\n",
    "ax.set_xlabel('Chromosome %s position (bp)' % chrom)\n"
   ]
  },
  {
   "cell_type": "code",
   "execution_count": null,
   "metadata": {},
   "outputs": [],
   "source": []
  }
 ],
 "metadata": {
  "kernelspec": {
   "display_name": "Python 3",
   "language": "python",
   "name": "python3"
  },
  "language_info": {
   "codemirror_mode": {
    "name": "ipython",
    "version": 3
   },
   "file_extension": ".py",
   "mimetype": "text/x-python",
   "name": "python",
   "nbconvert_exporter": "python",
   "pygments_lexer": "ipython3",
   "version": "3.6.7"
  }
 },
 "nbformat": 4,
 "nbformat_minor": 2
}
