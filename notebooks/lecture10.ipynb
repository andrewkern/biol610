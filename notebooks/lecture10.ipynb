{
 "cells": [
  {
   "cell_type": "markdown",
   "metadata": {},
   "source": [
    "# A Day with Github\n",
    "\n",
    "[Github](https://github.com/) is an extremely powerful platform for sharing and keeping track of files and their history that over time has become an indispensible part of my workflow, and that and many others. Generally I use Github for everything from a simple backup place for important code or teaching materials, to a sophisticated code collaboration platform where I can interact with coders from around the work and work together on important projects.\n",
    "\n",
    "Today we will spend a bit of time working with Github and the command line utility that powers it `git`\n",
    "\n",
    "## Git vs Github\n",
    "\n",
    "First a little lexicon. `git` is a distributed version control software that allows one to track changes in code or most any kind of file in such a way that multiple people can collaborate and work on the same files without fear of losing information. It's free and comes pre-installed on OS X machines. On a Windows box you can install it using conda"
   ]
  },
  {
   "cell_type": "code",
   "execution_count": null,
   "metadata": {
    "collapsed": true
   },
   "outputs": [],
   "source": [
    "conda install -c anaconda git"
   ]
  },
  {
   "attachments": {},
   "cell_type": "markdown",
   "metadata": {},
   "source": [
    "Github on the otherhand is a website that is powered by `git` under the hood. Github provides us with a place to put our code up in the cloud, and we will interact with it using the website and the command line.\n",
    "\n",
    "# Create a repo\n",
    "\n",
    "The first thing we will do is create a code repository on Github. \n",
    "To create a new repository\n",
    "1. In the upper right corner, next to your avatar or identicon, click '+' and then select New repository.\n",
    "2. Name your repository `my_first_repo`.\n",
    "3. Write a short description.\n",
    "4. Select Initialize this repository with a README.\n",
    "\n"
   ]
  },
  {
   "cell_type": "markdown",
   "metadata": {},
   "source": [
    "## Pull the repo locally\n",
    "Now let's pull that repo to our local computer and edit the README. On the commandline type\n",
    "\n",
    "`git clone git@github.com/<your_github_handle>/my_first_repo.git`\n",
    "\n",
    "that will download the repository to your current directory. Next edit the `README` file that was initialized by Github for you automatically. It doesn't matter how you change the file, just that you make changes and save them. \n",
    "\n",
    "Next we will let `git` know that we want it to track the changes that we have made to the file, storing those edits in the history associated with the file and the repository. \n",
    "\n",
    "## Commit changes\n",
    "Do save these changes we use the command `git commit` and we include a little message that gets saved along with the edits. Having edited the `README.md` I'll now commit my changes as "
   ]
  },
  {
   "cell_type": "code",
   "execution_count": null,
   "metadata": {
    "collapsed": true
   },
   "outputs": [],
   "source": [
    "git commit -m \"first edit in repo\" README.md"
   ]
  },
  {
   "cell_type": "markdown",
   "metadata": {},
   "source": [
    "`git` records that change and I'm ready to move on. \n",
    "\n",
    "## Pushing commits to Github\n",
    "\n",
    "The next thing that I'd like to do is backup this change that I have made to Github. I will do that by \"pushing\" my commit"
   ]
  },
  {
   "cell_type": "code",
   "execution_count": null,
   "metadata": {},
   "outputs": [],
   "source": [
    "git push"
   ]
  },
  {
   "cell_type": "markdown",
   "metadata": {},
   "source": [
    "and with that done, my changes are now populated to the Github website and are safely backed up. When I was a beginner with Github and git a few years ago I'd say that 99% of my activity was just what we've done above-- create repos, add code to them and then push those changes up to Github for backup or for sharing. \n",
    "\n",
    "Let's add a file then to our repo locally and push that up to Github. Create a new file in your repo. I'll do that using the unix utility `echo`"
   ]
  },
  {
   "cell_type": "markdown",
   "metadata": {},
   "source": [
    "echo \"foo\" > foo.txt"
   ]
  },
  {
   "cell_type": "markdown",
   "metadata": {},
   "source": [
    "Next let me add that file to the list of files that `git` knows about and is tracking in the repo\n"
   ]
  },
  {
   "cell_type": "code",
   "execution_count": null,
   "metadata": {
    "collapsed": true
   },
   "outputs": [],
   "source": [
    "git add foo.txt"
   ]
  },
  {
   "cell_type": "markdown",
   "metadata": {},
   "source": [
    "Next I will commit this change, effectively telling git that adding that file is now something I was to add to the edit list, and I will push those changes to Github"
   ]
  },
  {
   "cell_type": "code",
   "execution_count": null,
   "metadata": {
    "collapsed": true
   },
   "outputs": [],
   "source": [
    "git commit -m \"added foo.txt\" foo.txt\n",
    "git push"
   ]
  },
  {
   "cell_type": "markdown",
   "metadata": {},
   "source": [
    "Now go look at your Github and confirm that the `foo.txt` is there\n",
    "\n",
    "## Collaborating with branches, merges, and pull requests\n",
    "\n",
    "The next level of sophistication with Github involves collaborating on code or files with other people. The way we do this is by creating a _fork_ of a repo that already exists (that is creating our own copy of that repo that we are in control of), editing our own fork, save those edits in a new _branch_, and creating a _pull request_ to the original person's code, and then _merging_ that code. \n",
    "\n",
    "This process is a bit involved so I'm going to take it to the blackboard to explain rather than do it here in a notebook."
   ]
  },
  {
   "cell_type": "code",
   "execution_count": null,
   "metadata": {
    "collapsed": true
   },
   "outputs": [],
   "source": []
  }
 ],
 "metadata": {
  "kernelspec": {
   "display_name": "Python 3",
   "language": "python",
   "name": "python3"
  },
  "language_info": {
   "codemirror_mode": {
    "name": "ipython",
    "version": 3
   },
   "file_extension": ".py",
   "mimetype": "text/x-python",
   "name": "python",
   "nbconvert_exporter": "python",
   "pygments_lexer": "ipython3",
   "version": "3.6.8"
  }
 },
 "nbformat": 4,
 "nbformat_minor": 2
}
